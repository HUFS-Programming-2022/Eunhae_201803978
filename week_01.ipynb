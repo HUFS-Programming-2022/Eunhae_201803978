{
 "cells": [
  {
   "cell_type": "code",
   "execution_count": 3,
   "id": "2ef33f04-de04-4da2-a19a-c19e7d6d0f3c",
   "metadata": {},
   "outputs": [
    {
     "data": {
      "text/plain": [
       "45"
      ]
     },
     "execution_count": 3,
     "metadata": {},
     "output_type": "execute_result"
    }
   ],
   "source": [
    "#b\n",
    "#run : shift + enter\n",
    "45"
   ]
  },
  {
   "cell_type": "markdown",
   "id": "72bcad02-be4d-4e77-9dc4-8016ec3a2af8",
   "metadata": {},
   "source": [
    "markdown space\n",
    "- +m\n",
    "- item 1\n",
    "- item 2\n",
    "makrdown 사용법 2가지 1)notebook기능 2) #주석기능"
   ]
  },
  {
   "cell_type": "markdown",
   "id": "227c46f5-34f1-458f-8b64-d55163546eda",
   "metadata": {
    "tags": []
   },
   "source": [
    "# Heading 1\n",
    "## Heading 2\n",
    "### Heading 3"
   ]
  },
  {
   "cell_type": "markdown",
   "id": "a24c9bda-a10d-44d8-a469-27b7ef5d3164",
   "metadata": {},
   "source": [
    "## 프로그래밍\n",
    "    - 프로그래밍 언어를 사용하여 프로그램을 개발하는 것\n",
    "    - 논리적인 사고를 가질 수 있다.\n",
    "## programming language?\n",
    "    - 프로그램을 개발할 때 사용하는 도구\n",
    "    - 인간이 원하는 것을 컴퓨터에게 명령할 때 사용하는 컴퓨터가 이해할 수 있는 언어\n",
    "## 파이썬?\n",
    "     - 쉽다. 간결하다.\n",
    "     - 라이브러리가 많다. "
   ]
  },
  {
   "cell_type": "markdown",
   "id": "cb693413-bb47-4288-be5d-059edf2ec0cd",
   "metadata": {},
   "source": [
    "## Chapter 2. Data : Types, Values, Variables, and Names"
   ]
  },
  {
   "cell_type": "code",
   "execution_count": 3,
   "id": "17c7abf2-a3d7-4411-8279-906b15c50fd4",
   "metadata": {},
   "outputs": [],
   "source": [
    "a = 2"
   ]
  },
  {
   "cell_type": "code",
   "execution_count": 4,
   "id": "e65ad504-08ea-4544-a0d4-f9d83a8858a4",
   "metadata": {},
   "outputs": [
    {
     "data": {
      "text/plain": [
       "True"
      ]
     },
     "execution_count": 4,
     "metadata": {},
     "output_type": "execute_result"
    }
   ],
   "source": [
    "a == 2"
   ]
  },
  {
   "cell_type": "markdown",
   "id": "a125e5fc-6d7d-452d-b430-d54b5704cdb6",
   "metadata": {},
   "source": [
    "- 변수ㅣvariable : 특정 값을 저장하는 공간\n",
    "    a\n",
    "- 값ㅣvalue\n",
    "    2\n",
    "- 할당하다ㅣassign : 변수에 값을 넣는 과정\n",
    "    \"2를 a에 넣었다.\"\n",
    "    \n",
    "    *** a는 2다. a == 2\n",
    "\n",
    "- 자료형ㅣtype : 데이터의 형태\n",
    "    a 데이터의 형태? interger (int 타입이다.)\n",
    "   "
   ]
  },
  {
   "cell_type": "code",
   "execution_count": 6,
   "id": "550e6f69-f962-4143-9da3-b76f59959fe7",
   "metadata": {},
   "outputs": [
    {
     "name": "stdout",
     "output_type": "stream",
     "text": [
      "2\n"
     ]
    }
   ],
   "source": [
    "print(a)"
   ]
  },
  {
   "cell_type": "code",
   "execution_count": 7,
   "id": "a30542bc-4d1a-4bd6-ac06-bb93ae685af5",
   "metadata": {},
   "outputs": [
    {
     "data": {
      "text/plain": [
       "2"
      ]
     },
     "execution_count": 7,
     "metadata": {},
     "output_type": "execute_result"
    }
   ],
   "source": [
    "a"
   ]
  },
  {
   "cell_type": "code",
   "execution_count": 9,
   "id": "dbf05001-dbba-4c90-974d-0fb46b1baf5d",
   "metadata": {},
   "outputs": [
    {
     "data": {
      "text/plain": [
       "int"
      ]
     },
     "execution_count": 9,
     "metadata": {},
     "output_type": "execute_result"
    }
   ],
   "source": [
    "# type\n",
    "type(a)"
   ]
  },
  {
   "cell_type": "code",
   "execution_count": 11,
   "id": "258804f6-ecc6-4ac8-8375-64b94cf8acda",
   "metadata": {
    "tags": []
   },
   "outputs": [
    {
     "data": {
      "text/plain": [
       "int"
      ]
     },
     "execution_count": 11,
     "metadata": {},
     "output_type": "execute_result"
    }
   ],
   "source": [
    "type(2)"
   ]
  },
  {
   "cell_type": "code",
   "execution_count": 13,
   "id": "2a7f83fb-5650-48e5-8dcd-937a535c2f9b",
   "metadata": {},
   "outputs": [
    {
     "data": {
      "text/plain": [
       "bool"
      ]
     },
     "execution_count": 13,
     "metadata": {},
     "output_type": "execute_result"
    }
   ],
   "source": [
    "type(a == 2)"
   ]
  },
  {
   "cell_type": "markdown",
   "id": "3410490b-b495-4200-8663-85c02f8e0705",
   "metadata": {},
   "source": [
    "### Type\n",
    "- integerㅣ정수 : 1, 2, 3, ..\n",
    "- floating point numberㅣ부동소수점 : 1.0, 2.0, ..., 0.4\n",
    "- stringㅣ문자열 : \"1\", 'apple' (str) \n",
    "- boolㅣ불리언 : True/False(bool)"
   ]
  },
  {
   "cell_type": "code",
   "execution_count": 14,
   "id": "83a15471-b315-4e2d-b39f-7542f036d3d3",
   "metadata": {},
   "outputs": [
    {
     "data": {
      "text/plain": [
       "str"
      ]
     },
     "execution_count": 14,
     "metadata": {},
     "output_type": "execute_result"
    }
   ],
   "source": [
    "type(\"1\")"
   ]
  },
  {
   "cell_type": "code",
   "execution_count": 15,
   "id": "9894f51b-072d-4a62-89e1-989ba0a5b2b4",
   "metadata": {},
   "outputs": [
    {
     "data": {
      "text/plain": [
       "str"
      ]
     },
     "execution_count": 15,
     "metadata": {},
     "output_type": "execute_result"
    }
   ],
   "source": [
    "type('apple') #변수명"
   ]
  },
  {
   "cell_type": "code",
   "execution_count": null,
   "id": "8ead23f7-c656-4be1-b002-ca5c4eb67aaf",
   "metadata": {},
   "outputs": [],
   "source": [
    "type(apple)"
   ]
  },
  {
   "cell_type": "markdown",
   "id": "e153bedd-d5a4-412d-8e01-dc9e39e42cd2",
   "metadata": {},
   "source": [
    "=> 정의되지 않았다는 error가 등장함"
   ]
  },
  {
   "cell_type": "code",
   "execution_count": 7,
   "id": "86cb43b6-5a4d-4653-a94a-e40a1fe99039",
   "metadata": {
    "tags": []
   },
   "outputs": [
    {
     "data": {
      "text/plain": [
       "'kim'"
      ]
     },
     "execution_count": 7,
     "metadata": {},
     "output_type": "execute_result"
    }
   ],
   "source": [
    "name = 'kim'\n",
    "name"
   ]
  },
  {
   "cell_type": "markdown",
   "id": "da025c96-4b67-4fac-9240-b74290f6b167",
   "metadata": {},
   "source": [
    "이제부터는 print('kim')이 아니라 변수에 값을 할당한 후,\n",
    "변수를 불러오는 식으로 해야함\n",
    "print(name)"
   ]
  },
  {
   "cell_type": "markdown",
   "id": "4203c7f2-1318-43e0-9179-eb95b8466403",
   "metadata": {},
   "source": [
    "### 할당\n",
    "- 기호 =를 사용함.\n",
    "- 수학에서는 '양변이 같다'라는 의미로 사용되지만, 프로그래밍에서는 '할당하다'는 의미로 사용함.\n",
    "- \"오른쪽의 값을 왼쪽에 할당한다.\"\n",
    "1. 오른쪽에 있는 모든 것은 값을 가져야 한다. (=초기화를 해야한다.)\n",
    "2. 같은 변수에 다른 값을 넣을 수 있다."
   ]
  },
  {
   "cell_type": "code",
   "execution_count": 11,
   "id": "c1fcc7ff-6c81-452c-b32d-f6c29e13f40f",
   "metadata": {},
   "outputs": [],
   "source": [
    "x = 4 #초기화\n",
    "y = x + 3"
   ]
  },
  {
   "cell_type": "code",
   "execution_count": 12,
   "id": "f3260d36-6f35-49cd-8162-ce860bac4f22",
   "metadata": {},
   "outputs": [
    {
     "data": {
      "text/plain": [
       "(4, 7)"
      ]
     },
     "execution_count": 12,
     "metadata": {},
     "output_type": "execute_result"
    }
   ],
   "source": [
    "x, y"
   ]
  },
  {
   "cell_type": "code",
   "execution_count": 14,
   "id": "c58b491d-2e41-4bfe-94c4-465c193f5855",
   "metadata": {},
   "outputs": [],
   "source": [
    "name = 'kim'\n",
    "name = 'lee'\n",
    "name = 'park'\n",
    "name = 4 # 마지막 선언된 값이 최종 할당된 값임"
   ]
  },
  {
   "cell_type": "code",
   "execution_count": 15,
   "id": "9f5cded0-12f0-4b8f-8126-1c828baa8577",
   "metadata": {},
   "outputs": [
    {
     "name": "stdout",
     "output_type": "stream",
     "text": [
      "4\n"
     ]
    }
   ],
   "source": [
    "print(name) #변수명 동일하게 사용하지 말라."
   ]
  },
  {
   "cell_type": "code",
   "execution_count": 16,
   "id": "41ed9ea5-d011-446f-b05d-f01cb13e5d5f",
   "metadata": {},
   "outputs": [],
   "source": [
    "text = 'abe'\n",
    "text = 'cde'"
   ]
  },
  {
   "cell_type": "markdown",
   "id": "78a0cb37-d0d5-4cff-a9c3-080ef42acfdd",
   "metadata": {},
   "source": [
    "### 변수명 정하기\n",
    "* 나쁜 변수명 : a,b,c,a1,b1,..\n",
    "* 의미있는 이름으로 선언해야 한다.\n",
    "* 소문자, 대문자, 숫자, 언더바를 사용한다."
   ]
  },
  {
   "cell_type": "code",
   "execution_count": 17,
   "id": "a086243f-43f9-4a48-9119-2304df274263",
   "metadata": {},
   "outputs": [
    {
     "name": "stdout",
     "output_type": "stream",
     "text": [
      "juliette,jessica,laura\n"
     ]
    }
   ],
   "source": [
    "name = 'juliette'\n",
    "name1 = 'jessica'\n",
    "name2 = 'laura'\n",
    "\n",
    "print(name, name1, name2, sep=\",\")"
   ]
  },
  {
   "cell_type": "markdown",
   "id": "55938a9b-9a08-4afd-9a5e-c13d5b6e44e8",
   "metadata": {},
   "source": [
    "-안되는 것은?\n",
    "\n",
    "    - 숫자로 시작할 수 없다.\n",
    "        예 : 22name, 22_name\n",
    "\n",
    "    - 예약어로 선언할 수 없다.\n",
    "        예 : df, False, ..."
   ]
  },
  {
   "cell_type": "code",
   "execution_count": 3,
   "id": "15cf2570-5c4a-48ed-a823-3a579952ade5",
   "metadata": {},
   "outputs": [],
   "source": [
    "2name = 'julette' #숫자로 시작 선언 -> 오류남"
   ]
  },
  {
   "cell_type": "code",
   "execution_count": 2,
   "id": "59470dca-784b-45bc-954d-19a86e7dfcf4",
   "metadata": {},
   "outputs": [],
   "source": [
    "if = 'kim' #예약어로 선언 -> 오류남"
   ]
  },
  {
   "cell_type": "code",
   "execution_count": 20,
   "id": "5b75217a-3cfd-4088-bb07-d5f190d8ca03",
   "metadata": {},
   "outputs": [
    {
     "name": "stdout",
     "output_type": "stream",
     "text": [
      "\n",
      "Here is a list of the Python keywords.  Enter any keyword to get more help.\n",
      "\n",
      "False               break               for                 not\n",
      "None                class               from                or\n",
      "True                continue            global              pass\n",
      "__peg_parser__      def                 if                  raise\n",
      "and                 del                 import              return\n",
      "as                  elif                in                  try\n",
      "assert              else                is                  while\n",
      "async               except              lambda              with\n",
      "await               finally             nonlocal            yield\n",
      "\n"
     ]
    }
   ],
   "source": [
    "help(\"keywords\") #예약어를 알려줌 #여기있는 것들은 선언불가"
   ]
  },
  {
   "cell_type": "markdown",
   "id": "98fb1049-2d3b-42d7-9c45-d64604ee97c8",
   "metadata": {},
   "source": [
    "- 조심할 것 : 특별한 용도가 있기 때문에\n",
    "     - 언더바로 시작하는 변수명 : _name\n",
    "     - 더블 언더바로 시작하는 변수명 : __name\n",
    "     - 대문자로 시작하는 변수명 : Name\n",
    "     - 전체 대문자 : NAME"
   ]
  },
  {
   "cell_type": "code",
   "execution_count": 27,
   "id": "a44f6547-84e8-4bd3-9f81-bdcffda39895",
   "metadata": {},
   "outputs": [
    {
     "data": {
      "text/plain": [
       "False"
      ]
     },
     "execution_count": 27,
     "metadata": {},
     "output_type": "execute_result"
    }
   ],
   "source": [
    "# 변수명은 대소문자 구분한다.\n",
    "num = 43\n",
    "Num = 44\n",
    "\n",
    "num == Num"
   ]
  },
  {
   "cell_type": "code",
   "execution_count": 1,
   "id": "9fedb9dc-b9aa-41df-a6a5-e0abafb579d4",
   "metadata": {},
   "outputs": [
    {
     "data": {
      "text/plain": [
       "False"
      ]
     },
     "execution_count": 1,
     "metadata": {},
     "output_type": "execute_result"
    }
   ],
   "source": [
    "num = 'number'\n",
    "Num = 'Number'\n",
    "\n",
    "num == Num"
   ]
  },
  {
   "cell_type": "code",
   "execution_count": null,
   "id": "eb5cc1c5",
   "metadata": {},
   "outputs": [],
   "source": [
    "num != Num #같다는 ==, 다르다는 !=를 사용"
   ]
  }
 ],
 "metadata": {
  "kernelspec": {
   "display_name": "Python 3 (ipykernel)",
   "language": "python",
   "name": "python3"
  },
  "language_info": {
   "codemirror_mode": {
    "name": "ipython",
    "version": 3
   },
   "file_extension": ".py",
   "mimetype": "text/x-python",
   "name": "python",
   "nbconvert_exporter": "python",
   "pygments_lexer": "ipython3",
   "version": "3.9.7"
  }
 },
 "nbformat": 4,
 "nbformat_minor": 5
}
