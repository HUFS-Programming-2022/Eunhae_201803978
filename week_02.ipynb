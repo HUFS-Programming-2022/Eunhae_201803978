{
 "cells": [
  {
   "cell_type": "markdown",
   "id": "df3d61ed",
   "metadata": {},
   "source": [
    "## Ch02. Variable"
   ]
  },
  {
   "cell_type": "markdown",
   "id": "f5acd7ac",
   "metadata": {},
   "source": [
    "### 0. 지난 주 배운 것 = 변수\n",
    "\n",
    "* string\n",
    "* float\n",
    "* integer\n",
    "* boolean"
   ]
  },
  {
   "cell_type": "code",
   "execution_count": 7,
   "id": "532e1d42",
   "metadata": {},
   "outputs": [
    {
     "data": {
      "text/plain": [
       "2"
      ]
     },
     "execution_count": 7,
     "metadata": {},
     "output_type": "execute_result"
    }
   ],
   "source": [
    "# 여러 이름을 동시에 할당할 수 있음\n",
    "\n",
    "two = deux = dos = 2 # dos -> deux -> two 순서로 할당이 됨.\n",
    "two\n",
    "\n",
    "#세가지에 모두 2가 할당됨."
   ]
  },
  {
   "cell_type": "code",
   "execution_count": 8,
   "id": "81ba0963",
   "metadata": {},
   "outputs": [
    {
     "name": "stdout",
     "output_type": "stream",
     "text": [
      "4 2\n"
     ]
    }
   ],
   "source": [
    "# two에 새로운 값을 할당하면 다른 것도 바뀌나?\n",
    "two = 4\n",
    "print(two, deux)\n",
    "\n",
    "# deux는 그대로 2의 값임. 안바뀜.\n",
    "# integer는 불변객체이므로"
   ]
  },
  {
   "cell_type": "markdown",
   "id": "fa23b18f",
   "metadata": {},
   "source": [
    "#### * id : 변수가 저장된 메모리의 주소를 찾는 함수\n",
    "* 불변객체의 자료형이 변할 때 메모리 주소가 바뀌는구나!만 알면 됨. "
   ]
  },
  {
   "cell_type": "code",
   "execution_count": 10,
   "id": "730c0ae4",
   "metadata": {},
   "outputs": [
    {
     "data": {
      "text/plain": [
       "(2960443337104, 2960443337040)"
      ]
     },
     "execution_count": 10,
     "metadata": {},
     "output_type": "execute_result"
    }
   ],
   "source": [
    "# 그럼 id는 바뀌었나?\n",
    "id(two), id(deux)\n",
    "\n",
    "#two의 id는 바뀌었음"
   ]
  },
  {
   "cell_type": "code",
   "execution_count": 11,
   "id": "7ac409c6",
   "metadata": {},
   "outputs": [
    {
     "data": {
      "text/plain": [
       "([1, 2, 3], [1, 2, 3])"
      ]
     },
     "execution_count": 11,
     "metadata": {},
     "output_type": "execute_result"
    }
   ],
   "source": [
    "p = [1, 2, 3] #참고로 리스트는 가변객체. 안에 값들 바뀜\n",
    "q = p\n",
    "q, p #p와 q는 동일한 값이 출력됨"
   ]
  },
  {
   "cell_type": "code",
   "execution_count": 12,
   "id": "45e44bcc",
   "metadata": {},
   "outputs": [
    {
     "data": {
      "text/plain": [
       "(2960519922880, 2960519922880)"
      ]
     },
     "execution_count": 12,
     "metadata": {},
     "output_type": "execute_result"
    }
   ],
   "source": [
    "#그렇다면 id도 같을까?\n",
    "id(p), id(q)\n",
    "\n",
    "#당연히 같음"
   ]
  },
  {
   "cell_type": "code",
   "execution_count": 13,
   "id": "3a3fb255",
   "metadata": {},
   "outputs": [
    {
     "data": {
      "text/plain": [
       "([9, 2, 3], [9, 2, 3])"
      ]
     },
     "execution_count": 13,
     "metadata": {},
     "output_type": "execute_result"
    }
   ],
   "source": [
    "#p의 0번째 item을 변경하면\n",
    "p[0] = 9\n",
    "p,q \n",
    "\n",
    "#q는 건들지 않았지만 q도 동시에 변경됨"
   ]
  },
  {
   "cell_type": "code",
   "execution_count": 15,
   "id": "dd0d1211",
   "metadata": {},
   "outputs": [
    {
     "data": {
      "text/plain": [
       "(2960519922880, 2960519922880)"
      ]
     },
     "execution_count": 15,
     "metadata": {},
     "output_type": "execute_result"
    }
   ],
   "source": [
    "id(p), id(q)\n",
    "\n",
    "#id도 p,q가 똑같이 변경됨"
   ]
  },
  {
   "cell_type": "markdown",
   "id": "3e2c68eb",
   "metadata": {},
   "source": [
    "### 1. 좋은 변수명이란?\n",
    "* 간결하고 명확한 이름\n",
    "* 의미가 담겨야 함.\n",
    "    * a,b,c와 같은 것은 이제 그만.\n",
    "* 코드에는 ***의미가 담기고***  주석에는 ***의도를 담는다.***\n",
    "    * ex) the number of students를 변수명으로 나타내고 싶으면,\n",
    "    * => n(최악) < the_number_of_students(너무 길어) < num_students(좋음)\n",
    "    \n",
    "    * 카멜표기법 : numStudnets (like 낙타)"
   ]
  },
  {
   "cell_type": "markdown",
   "id": "d6460bac",
   "metadata": {},
   "source": [
    "### 2. 자료형 변환, 형 변환\n",
    "* str('변환할 값'), int(), float(), bool()"
   ]
  },
  {
   "cell_type": "code",
   "execution_count": 16,
   "id": "0e87e93c",
   "metadata": {},
   "outputs": [
    {
     "data": {
      "text/plain": [
       "int"
      ]
     },
     "execution_count": 16,
     "metadata": {},
     "output_type": "execute_result"
    }
   ],
   "source": [
    "a = 10\n",
    "type(a)\n",
    "\n",
    "#a는 integer 형태"
   ]
  },
  {
   "cell_type": "markdown",
   "id": "3690d4d0",
   "metadata": {},
   "source": [
    "### 2-1. 형 변환하기"
   ]
  },
  {
   "cell_type": "code",
   "execution_count": 21,
   "id": "141ec1a2",
   "metadata": {},
   "outputs": [
    {
     "data": {
      "text/plain": [
       "'10'"
      ]
     },
     "execution_count": 21,
     "metadata": {},
     "output_type": "execute_result"
    }
   ],
   "source": [
    "#str\n",
    "str(a) #문자형"
   ]
  },
  {
   "cell_type": "code",
   "execution_count": 19,
   "id": "0ab49808",
   "metadata": {},
   "outputs": [
    {
     "data": {
      "text/plain": [
       "10.0"
      ]
     },
     "execution_count": 19,
     "metadata": {},
     "output_type": "execute_result"
    }
   ],
   "source": [
    "#float\n",
    "float(a) #부동소수점"
   ]
  },
  {
   "cell_type": "code",
   "execution_count": 20,
   "id": "acc2a4d8",
   "metadata": {},
   "outputs": [
    {
     "data": {
      "text/plain": [
       "True"
      ]
     },
     "execution_count": 20,
     "metadata": {},
     "output_type": "execute_result"
    }
   ],
   "source": [
    "#bool\n",
    "bool(a) #True/False만 있음. #bool 타입 중 어떤 것이 False로 변환되는지만 기억하면 됨."
   ]
  },
  {
   "cell_type": "markdown",
   "id": "f06fe621",
   "metadata": {},
   "source": [
    "#### 2-1. (1) 주의할 점 1 : float -> int"
   ]
  },
  {
   "cell_type": "code",
   "execution_count": 23,
   "id": "1dc31328",
   "metadata": {},
   "outputs": [
    {
     "data": {
      "text/plain": [
       "10"
      ]
     },
     "execution_count": 23,
     "metadata": {},
     "output_type": "execute_result"
    }
   ],
   "source": [
    "x = 10.7\n",
    "int(x)\n",
    "\n",
    "#int로 변환했더니 소수점이 날아감. (소수점 내림) "
   ]
  },
  {
   "cell_type": "code",
   "execution_count": 26,
   "id": "3dc49a98",
   "metadata": {},
   "outputs": [
    {
     "name": "stdout",
     "output_type": "stream",
     "text": [
      "30\n",
      "29\n"
     ]
    }
   ],
   "source": [
    "y = 19.8\n",
    "\n",
    "print(int(x + y))\n",
    "print(int(x) + int(y))\n",
    "\n",
    "# x+y와 (x)+(y)의 값이 달라져서 문제가 발생함. # +, -, = 연산자 사이에 띄어쓰기 필수"
   ]
  },
  {
   "cell_type": "markdown",
   "id": "fcc2f8c0",
   "metadata": {},
   "source": [
    "#### 2-1. (2) 주의할 점 2 : str -> int/float"
   ]
  },
  {
   "cell_type": "code",
   "execution_count": 27,
   "id": "7f13bcf8",
   "metadata": {},
   "outputs": [
    {
     "data": {
      "text/plain": [
       "(10, 10.0)"
      ]
     },
     "execution_count": 27,
     "metadata": {},
     "output_type": "execute_result"
    }
   ],
   "source": [
    "i = '10'\n",
    "int(i), float(i)"
   ]
  },
  {
   "cell_type": "code",
   "execution_count": 28,
   "id": "fc5ba5fd",
   "metadata": {
    "scrolled": true
   },
   "outputs": [
    {
     "ename": "ValueError",
     "evalue": "invalid literal for int() with base 10: '10.7'",
     "output_type": "error",
     "traceback": [
      "\u001b[1;31m---------------------------------------------------------------------------\u001b[0m",
      "\u001b[1;31mValueError\u001b[0m                                Traceback (most recent call last)",
      "\u001b[1;32m~\\AppData\\Local\\Temp/ipykernel_31872/1630938160.py\u001b[0m in \u001b[0;36m<module>\u001b[1;34m\u001b[0m\n\u001b[0;32m      1\u001b[0m \u001b[0mj\u001b[0m \u001b[1;33m=\u001b[0m \u001b[1;34m'10.7'\u001b[0m\u001b[1;33m\u001b[0m\u001b[1;33m\u001b[0m\u001b[0m\n\u001b[1;32m----> 2\u001b[1;33m \u001b[0mint\u001b[0m\u001b[1;33m(\u001b[0m\u001b[0mj\u001b[0m\u001b[1;33m)\u001b[0m\u001b[1;33m\u001b[0m\u001b[1;33m\u001b[0m\u001b[0m\n\u001b[0m",
      "\u001b[1;31mValueError\u001b[0m: invalid literal for int() with base 10: '10.7'"
     ]
    }
   ],
   "source": [
    "j = '10.7'\n",
    "int(j)\n",
    "\n",
    "#float을 str로 해놓은 것을 int로 바꾸면 에러가 생김 (int와 맞지 않은 것을 int로 바꾸면 에러 발생)"
   ]
  },
  {
   "cell_type": "markdown",
   "id": "20914bc3",
   "metadata": {},
   "source": [
    "#### 2-1. (3) 꿀Tip : `print()`"
   ]
  },
  {
   "cell_type": "code",
   "execution_count": 29,
   "id": "208253fa",
   "metadata": {},
   "outputs": [
    {
     "name": "stdout",
     "output_type": "stream",
     "text": [
      "dogcatlion\n",
      "dog cat lion\n"
     ]
    }
   ],
   "source": [
    "dog = 'dog'\n",
    "cat = 'cat'\n",
    "lion = 'lion'\n",
    "\n",
    "print(dog + cat + lion) #space X, \\n\n",
    "print(dog, cat, lion) #space O, \\n\n"
   ]
  },
  {
   "cell_type": "markdown",
   "id": "504aef7d",
   "metadata": {},
   "source": [
    "##### print(, sep=' ', end='\\n')\n",
    "* sep: 원소 간에 뭘로 띄어쓸래?\n",
    "* end : 그 다음줄은 뭘로 할래?\n",
    "\n",
    "* sep의 기본값 : 띄어쓰기\n",
    "* end의 기본값 : 개행"
   ]
  },
  {
   "cell_type": "code",
   "execution_count": 33,
   "id": "117eccce",
   "metadata": {},
   "outputs": [
    {
     "name": "stdout",
     "output_type": "stream",
     "text": [
      "dog cat lion\n",
      "dog/cat/lion\n",
      "\n",
      "EOL\n"
     ]
    }
   ],
   "source": [
    "print(dog, cat, lion, sep=' ', end='\\n') #default\n",
    "print(dog, cat, lion, sep='/', end='\\n\\n')\n",
    "\n",
    "print('EOL')"
   ]
  },
  {
   "cell_type": "markdown",
   "id": "85e8da61",
   "metadata": {},
   "source": [
    "#### 문자열과 변수를 합치고 싶은 경우"
   ]
  },
  {
   "cell_type": "code",
   "execution_count": 35,
   "id": "52f90e3e",
   "metadata": {},
   "outputs": [
    {
     "name": "stdout",
     "output_type": "stream",
     "text": [
      "My favorite animal is dog .\n",
      "My favorite animal is dog.\n"
     ]
    }
   ],
   "source": [
    "#1. 바람직하지 않은 경우\n",
    "print(\"My favorite animal is\", dog, '.')\n",
    "\n",
    "#2. 올바른 경우 (f-string 사용)\n",
    "print(f\"My favorite animal is {dog}.\")\n",
    "\n",
    "# 2가지 방식 더 있는데 그건 다음에 하기로.."
   ]
  },
  {
   "cell_type": "markdown",
   "id": "d1b05397",
   "metadata": {},
   "source": [
    "#### 코드 줄이 짧을 때 ;(semicolon)을 이용해 한 줄로 쓸 수 있다."
   ]
  },
  {
   "cell_type": "code",
   "execution_count": 37,
   "id": "b6269761",
   "metadata": {},
   "outputs": [
    {
     "name": "stdout",
     "output_type": "stream",
     "text": [
      "dog\n"
     ]
    }
   ],
   "source": [
    "dog = 'dog'; cat = 'cat' ; lion = 'lion'\n",
    "print(dog)"
   ]
  },
  {
   "cell_type": "markdown",
   "id": "950e3f2a",
   "metadata": {},
   "source": [
    "### 3. `input()`함수\n",
    "\n",
    "* console에서 사용자가 입력하는 값을 받을 수 있는 함수\n",
    "* 입력 받는 값은 문자열로 인식이 된다."
   ]
  },
  {
   "cell_type": "code",
   "execution_count": 38,
   "id": "1f866e33",
   "metadata": {},
   "outputs": [
    {
     "name": "stdout",
     "output_type": "stream",
     "text": [
      "Hello?Hi\n"
     ]
    },
    {
     "data": {
      "text/plain": [
       "'Hi'"
      ]
     },
     "execution_count": 38,
     "metadata": {},
     "output_type": "execute_result"
    }
   ],
   "source": [
    "input(\"Hello?\")"
   ]
  },
  {
   "cell_type": "markdown",
   "id": "4791e90b",
   "metadata": {},
   "source": [
    "* 입력 받은 값이 숫자인 경우 형 변환 해야함."
   ]
  },
  {
   "cell_type": "code",
   "execution_count": 39,
   "id": "f689a63c",
   "metadata": {},
   "outputs": [
    {
     "name": "stdout",
     "output_type": "stream",
     "text": [
      "나이가 어떻게 되나요?26\n"
     ]
    },
    {
     "data": {
      "text/plain": [
       "26"
      ]
     },
     "execution_count": 39,
     "metadata": {},
     "output_type": "execute_result"
    }
   ],
   "source": [
    "int(input('나이가 어떻게 되나요?'))"
   ]
  },
  {
   "cell_type": "markdown",
   "id": "c7a14502",
   "metadata": {},
   "source": [
    "* 입력 받은 값을 변수에 담아서 사용한다. 안 그러면 사라짐\n",
    "\n",
    "\n",
    "### 3-1. 변수에 할당하는 방법"
   ]
  },
  {
   "cell_type": "code",
   "execution_count": 49,
   "id": "274f0aea",
   "metadata": {},
   "outputs": [
    {
     "name": "stdout",
     "output_type": "stream",
     "text": [
      "나이가 어떻게 되나요?15\n"
     ]
    }
   ],
   "source": [
    "#1. \n",
    "age = input('나이가 어떻게 되나요?')"
   ]
  },
  {
   "cell_type": "code",
   "execution_count": 50,
   "id": "ee079cc7",
   "metadata": {},
   "outputs": [
    {
     "data": {
      "text/plain": [
       "'15'"
      ]
     },
     "execution_count": 50,
     "metadata": {},
     "output_type": "execute_result"
    }
   ],
   "source": [
    "age"
   ]
  },
  {
   "cell_type": "code",
   "execution_count": 51,
   "id": "a243f581",
   "metadata": {},
   "outputs": [
    {
     "name": "stdout",
     "output_type": "stream",
     "text": [
      "나이가?\n",
      "88\n"
     ]
    }
   ],
   "source": [
    "#2.\n",
    "print(\"나이가?\")\n",
    "age = input()"
   ]
  },
  {
   "cell_type": "code",
   "execution_count": 52,
   "id": "e98f1ad1",
   "metadata": {},
   "outputs": [
    {
     "data": {
      "text/plain": [
       "'88'"
      ]
     },
     "execution_count": 52,
     "metadata": {},
     "output_type": "execute_result"
    }
   ],
   "source": [
    "age"
   ]
  },
  {
   "cell_type": "markdown",
   "id": "94433d04",
   "metadata": {},
   "source": [
    "### `Quiz 1` 온도 변환기\n",
    "* 섭씨를 입력 받아서 화씨로 변환하기\n",
    "* \"섭씨 * 1.8 + 32 = 화씨\""
   ]
  },
  {
   "cell_type": "code",
   "execution_count": 55,
   "id": "34ed9090",
   "metadata": {},
   "outputs": [
    {
     "name": "stdout",
     "output_type": "stream",
     "text": [
      "섭씨 온도는?15.9\n",
      "화씨 온도는 60.620000000000005 입니다.\n"
     ]
    }
   ],
   "source": [
    "celsius = float(input('섭씨 온도는?'))\n",
    "fahrenheit = celsius * 1.8 + 32\n",
    "print(f'화씨 온도는 {fahrenheit} 입니다.')"
   ]
  },
  {
   "cell_type": "markdown",
   "id": "a5f61d7e",
   "metadata": {},
   "source": [
    "### `Quiz 1 : 교수님 feedback`\n",
    "\n",
    "* 변수명으로는 약어 X, 대문자 X\n",
    "* 기호 사이에 띄어쓰기 하기(+,-,*,=)\n",
    "* print할 때 꼭 f-string 사용하기\n",
    "\n",
    "\n",
    "\n"
   ]
  },
  {
   "cell_type": "markdown",
   "id": "25602f45",
   "metadata": {},
   "source": [
    "### `Quiz 2` 택배비 계산기 \n",
    "* 택배 정보 입력 받고, 총 합계 계산하기\n",
    "* 출력값 :\n",
    "    - \"==택배 정보==\"\n",
    "    - 수취인 성명 : <이름>\n",
    "    - 수취인 주소 : <주소>\n",
    "    - 배송비 : 3000원\n",
    "    - 물건 비용 : <가격>원\n",
    "    - 총 합계 : <가격>원\n",
    "* 물건 비용 = 무게(g) * 5\n",
    "* 합계 = 배송비 + 물건비용\n",
    "\n",
    "* 입력값 = 이름, 주소, 무게"
   ]
  },
  {
   "cell_type": "code",
   "execution_count": 60,
   "id": "8f3e9dab",
   "metadata": {},
   "outputs": [
    {
     "name": "stdout",
     "output_type": "stream",
     "text": [
      "name:황은해\n",
      "address:서울시 노원구 공릉동\n",
      "weight:50.9\n",
      "==택배 정보==\n",
      "수취인 성명 : 황은해\n",
      "수취인 주소 : 서울시 노원구 공릉동\n",
      "배송비 : 3000\n",
      "물건 비용 : 254.5\n",
      "총 합계:  3254.5\n"
     ]
    }
   ],
   "source": [
    "name = input('name:')\n",
    "address = input('address:')\n",
    "shipping_fee = 3000\n",
    "weight = float(input('weight:'))\n",
    "extra_fee = weight * 5\n",
    "total = shipping_fee + extra_fee\n",
    "\n",
    "print('==택배 정보==')\n",
    "print('수취인 성명 :', name)\n",
    "print('수취인 주소 :', address)\n",
    "print('배송비 :',shipping_fee)\n",
    "print('물건 비용 :', extra_fee)\n",
    "print('총 합계: ',total)"
   ]
  },
  {
   "cell_type": "markdown",
   "id": "e4a3682d",
   "metadata": {},
   "source": [
    "### `Quiz 2 : 교수님 feedback`\n",
    "\n",
    "* 변수명 sum은 쓰지말기. 이미 있는 함수임.\n",
    "* 기호 사이에 띄어쓰기 하기(+,-,*,=)\n",
    "* 무게는 float로 받기\n",
    "* print할 때 꼭 f-string 사용하기\n",
    "* print할 때 name~total까지 Enter로 한 번에 출력 가능 (같은 것은 하나로 묶기)"
   ]
  },
  {
   "cell_type": "markdown",
   "id": "cac6f888",
   "metadata": {},
   "source": [
    "## Ch03. Numbers"
   ]
  },
  {
   "cell_type": "markdown",
   "id": "0fc84e37",
   "metadata": {},
   "source": [
    "### 1. boolean\n",
    "* 형 변환할 때 True, False인지 기억하라.\n",
    "    * False인 값 : '  ', None, 0, ...\n",
    "* 조건식에서 많이 쓴다. ex) 만약 이 조건이 True라면, ..."
   ]
  },
  {
   "cell_type": "code",
   "execution_count": 63,
   "id": "2ed12e38",
   "metadata": {},
   "outputs": [
    {
     "data": {
      "text/plain": [
       "True"
      ]
     },
     "execution_count": 63,
     "metadata": {},
     "output_type": "execute_result"
    }
   ],
   "source": [
    "bool(1)"
   ]
  },
  {
   "cell_type": "code",
   "execution_count": 64,
   "id": "4b3a9998",
   "metadata": {},
   "outputs": [
    {
     "data": {
      "text/plain": [
       "False"
      ]
     },
     "execution_count": 64,
     "metadata": {},
     "output_type": "execute_result"
    }
   ],
   "source": [
    "bool('')"
   ]
  },
  {
   "cell_type": "markdown",
   "id": "69fb42e2",
   "metadata": {},
   "source": [
    "### 2. integer\n",
    "* 소수점 없음. \n",
    "* default 양수임.\n",
    "* 음수는 앞에 -를 붙인다.\n",
    "* 숫자 앞에는 0을 붙일 수 없다. ex)05\n",
    "    * 예외적으로 십진수 이외의 것 -> 0bxxx\n",
    "* 리터럴(숫자 그대로) : 4\n",
    "* 공백이 많아도 무시가 된다.\n",
    "*10,000원 0> 10과 000원 으로 따로 인식함 => _를 사용하기\n",
    "    ex) 10_000"
   ]
  },
  {
   "cell_type": "code",
   "execution_count": 65,
   "id": "e9b04878",
   "metadata": {},
   "outputs": [
    {
     "data": {
      "text/plain": [
       "-1"
      ]
     },
     "execution_count": 65,
     "metadata": {},
     "output_type": "execute_result"
    }
   ],
   "source": [
    "a = -9 #음수는 앞에 -붙임\n",
    "8 + a"
   ]
  },
  {
   "cell_type": "code",
   "execution_count": 66,
   "id": "aa0e950b",
   "metadata": {},
   "outputs": [
    {
     "ename": "SyntaxError",
     "evalue": "leading zeros in decimal integer literals are not permitted; use an 0o prefix for octal integers (Temp/ipykernel_31872/2890110653.py, line 1)",
     "output_type": "error",
     "traceback": [
      "\u001b[1;36m  File \u001b[1;32m\"C:\\Users\\panom\\AppData\\Local\\Temp/ipykernel_31872/2890110653.py\"\u001b[1;36m, line \u001b[1;32m1\u001b[0m\n\u001b[1;33m    a = 09\u001b[0m\n\u001b[1;37m         ^\u001b[0m\n\u001b[1;31mSyntaxError\u001b[0m\u001b[1;31m:\u001b[0m leading zeros in decimal integer literals are not permitted; use an 0o prefix for octal integers\n"
     ]
    }
   ],
   "source": [
    "a = 09 #숫자 앞에 0 불가"
   ]
  },
  {
   "cell_type": "code",
   "execution_count": 67,
   "id": "2f368967",
   "metadata": {},
   "outputs": [
    {
     "data": {
      "text/plain": [
       "-6"
      ]
     },
     "execution_count": 67,
     "metadata": {},
     "output_type": "execute_result"
    }
   ],
   "source": [
    "-9 + 8                                       -5 #공백 무시"
   ]
  },
  {
   "cell_type": "code",
   "execution_count": 68,
   "id": "24ab2c62",
   "metadata": {},
   "outputs": [
    {
     "name": "stdout",
     "output_type": "stream",
     "text": [
      "10000\n"
     ]
    }
   ],
   "source": [
    "a = 10_000\n",
    "print(a)"
   ]
  },
  {
   "cell_type": "markdown",
   "id": "9eab8590",
   "metadata": {},
   "source": [
    "### 3. 연산\n",
    "* 연산자|operator : +, -,\n",
    "* 피연산자|operand : 4, 5, ...\n",
    "* 수식|expression"
   ]
  },
  {
   "cell_type": "code",
   "execution_count": 70,
   "id": "1904e66c",
   "metadata": {},
   "outputs": [
    {
     "data": {
      "text/plain": [
       "262144"
      ]
     },
     "execution_count": 70,
     "metadata": {},
     "output_type": "execute_result"
    }
   ],
   "source": [
    "x = 4\n",
    "y = 9\n",
    "\n",
    "x + y\n",
    "x - y\n",
    "x * y\n",
    "x / y\n",
    "\n",
    "#거듭제곱|exponential\n",
    "x ** y"
   ]
  },
  {
   "cell_type": "markdown",
   "id": "871c81a4",
   "metadata": {},
   "source": [
    "#### 3-1. 나눗셈에서 주의할 사항"
   ]
  },
  {
   "cell_type": "code",
   "execution_count": 74,
   "id": "d8d3f5bc",
   "metadata": {},
   "outputs": [
    {
     "data": {
      "text/plain": [
       "(0, 4)"
      ]
     },
     "execution_count": 74,
     "metadata": {},
     "output_type": "execute_result"
    }
   ],
   "source": [
    "#1. division by zero => 주의 (y!=0)\n",
    "#2. 몫, 나머지\n",
    "x // y, x % y"
   ]
  },
  {
   "cell_type": "code",
   "execution_count": 75,
   "id": "74422a9b",
   "metadata": {},
   "outputs": [
    {
     "data": {
      "text/plain": [
       "(0, 4)"
      ]
     },
     "execution_count": 75,
     "metadata": {},
     "output_type": "execute_result"
    }
   ],
   "source": [
    "divmod(x, y) #몫, 나머지가 출력되는 함수"
   ]
  },
  {
   "cell_type": "markdown",
   "id": "22203f44",
   "metadata": {},
   "source": [
    "### 3-2. 복합대입연산자|compound assignment operator"
   ]
  },
  {
   "cell_type": "code",
   "execution_count": 78,
   "id": "ec9f3ef6",
   "metadata": {},
   "outputs": [
    {
     "name": "stdout",
     "output_type": "stream",
     "text": [
      "5\n"
     ]
    }
   ],
   "source": [
    "#리터럴, integer는 불변\n",
    "a = 5\n",
    "a - 3\n",
    "print(a)\n",
    "\n",
    "#연산을 해도 a값이 변하진 않음."
   ]
  },
  {
   "cell_type": "code",
   "execution_count": 85,
   "id": "7df633b6",
   "metadata": {},
   "outputs": [],
   "source": [
    "#근데, 나는 a값을 변하게 하고 싶음. 그럴 때 쓰는 것이 복합대입연산자\n",
    "\n",
    "a = a - 3 #복합대입연산자 사용 전"
   ]
  },
  {
   "cell_type": "markdown",
   "id": "92605585",
   "metadata": {},
   "source": [
    "`숨겨진 로직 3 step`\n",
    "1. a - 3 : 계산\n",
    "2. 임시변수 temp = a - 3 : 임시변수에 할당\n",
    "3. a = a - 3 : a에 a -3을 할당"
   ]
  },
  {
   "cell_type": "code",
   "execution_count": 83,
   "id": "d946a027",
   "metadata": {},
   "outputs": [],
   "source": [
    "a -= 3 #복합대입연산자 사용"
   ]
  },
  {
   "cell_type": "code",
   "execution_count": 86,
   "id": "3062cde2",
   "metadata": {},
   "outputs": [],
   "source": [
    "a += 3\n",
    "a -= 3\n",
    "a *= 3\n",
    "a /= 3"
   ]
  },
  {
   "cell_type": "code",
   "execution_count": 87,
   "id": "e3f1e207",
   "metadata": {},
   "outputs": [
    {
     "ename": "NameError",
     "evalue": "name 'u' is not defined",
     "output_type": "error",
     "traceback": [
      "\u001b[1;31m---------------------------------------------------------------------------\u001b[0m",
      "\u001b[1;31mNameError\u001b[0m                                 Traceback (most recent call last)",
      "\u001b[1;32m~\\AppData\\Local\\Temp/ipykernel_31872/2933783471.py\u001b[0m in \u001b[0;36m<module>\u001b[1;34m\u001b[0m\n\u001b[1;32m----> 1\u001b[1;33m \u001b[0mu\u001b[0m \u001b[1;33m=\u001b[0m \u001b[0mu\u001b[0m \u001b[1;33m+\u001b[0m \u001b[1;36m1\u001b[0m \u001b[1;31m#이건 안됨 #u가 초기화 되지 않았기 때문에\u001b[0m\u001b[1;33m\u001b[0m\u001b[1;33m\u001b[0m\u001b[0m\n\u001b[0m",
      "\u001b[1;31mNameError\u001b[0m: name 'u' is not defined"
     ]
    }
   ],
   "source": [
    "u = u + 1 #이건 안됨 #u가 초기화 되지 않았기 때문에"
   ]
  },
  {
   "cell_type": "code",
   "execution_count": 91,
   "id": "71f5108c",
   "metadata": {},
   "outputs": [
    {
     "name": "stdout",
     "output_type": "stream",
     "text": [
      "3\n"
     ]
    }
   ],
   "source": [
    "u = 2 #u를 초기화해주면\n",
    "u = u + 1\n",
    "print(u) #가능"
   ]
  },
  {
   "cell_type": "markdown",
   "id": "58a806cf",
   "metadata": {},
   "source": [
    "### `Quiz 3` 배수, 홀수 확인\n",
    "* 정수를 입력 받고 3의 배수인지 확인하세요.\n",
    "* = 홀수인지 확인하세요."
   ]
  },
  {
   "cell_type": "markdown",
   "id": "cbef8ee9",
   "metadata": {},
   "source": [
    "#### if문 안쓰는 version"
   ]
  },
  {
   "cell_type": "code",
   "execution_count": 96,
   "id": "85cebe28",
   "metadata": {},
   "outputs": [
    {
     "name": "stdout",
     "output_type": "stream",
     "text": [
      "정수를 입력하세요.7\n",
      "3의 배수인가요? False\n",
      "홀수인가요? True\n"
     ]
    }
   ],
   "source": [
    "a = int(input(\"정수를 입력하세요.\"))\n",
    "print(\"3의 배수인가요?\", bool(a%3 == 0))\n",
    "print(\"홀수인가요?\", bool(a%2 != 0))"
   ]
  },
  {
   "cell_type": "markdown",
   "id": "558db6a3",
   "metadata": {},
   "source": [
    "#### if문 쓰는 version\n"
   ]
  },
  {
   "cell_type": "code",
   "execution_count": 98,
   "id": "33b73992",
   "metadata": {},
   "outputs": [
    {
     "name": "stdout",
     "output_type": "stream",
     "text": [
      "정수를 입력하세요 :2\n",
      "3의 배수가 아닙니다.\n",
      "홀수입니다.\n"
     ]
    }
   ],
   "source": [
    "number = int(input('정수를 입력하세요 :'))\n",
    "if number % 3 == 0:\n",
    "    print('3의 배수입니다.')\n",
    "else:\n",
    "    print('3의 배수가 아닙니다.')\n",
    "\n",
    "if number / 2 == 0:\n",
    "    print('짝수입니다.')\n",
    "else:\n",
    "    print('홀수입니다.')\n",
    "    "
   ]
  },
  {
   "cell_type": "markdown",
   "id": "921e53a8",
   "metadata": {},
   "source": [
    "### `Quiz 3 교수님 feedback`  \n",
    "* 연산자 사이 띄어쓰기"
   ]
  },
  {
   "cell_type": "markdown",
   "id": "5fceae91",
   "metadata": {},
   "source": [
    "### 4. 지수 표현\n",
    "* e, E 둘 다\n",
    "* 앞부분은 float, int\n",
    "* 뒷부분은 int만 옴.\n",
    "   * 양수면 0 앞으로 감\n",
    "   * 음수면 0 뒤로 (= 소수점이라는 뜻)"
   ]
  },
  {
   "cell_type": "code",
   "execution_count": 100,
   "id": "f4ae41bd",
   "metadata": {},
   "outputs": [
    {
     "data": {
      "text/plain": [
       "1000000.0"
      ]
     },
     "execution_count": 100,
     "metadata": {},
     "output_type": "execute_result"
    }
   ],
   "source": [
    "1.0e6 #float"
   ]
  },
  {
   "cell_type": "code",
   "execution_count": 117,
   "id": "12a64b78",
   "metadata": {},
   "outputs": [
    {
     "data": {
      "text/plain": [
       "0.000789"
      ]
     },
     "execution_count": 117,
     "metadata": {},
     "output_type": "execute_result"
    }
   ],
   "source": [
    "# 0.000789 => 지수표현으로 변경\n",
    "7.89e-4\n",
    "78.9e-5\n",
    "789e-6\n",
    "\n",
    "#0.0789e #이런 형식은 X. 보기 좋으라고 지수를 사용하는 건데 오히려 불편"
   ]
  },
  {
   "cell_type": "markdown",
   "id": "ee80a921",
   "metadata": {},
   "source": [
    "#### * <e를 기준>으로 양수면 앞으로, 음수면 뒤로"
   ]
  },
  {
   "cell_type": "code",
   "execution_count": 119,
   "id": "5a3332f7",
   "metadata": {},
   "outputs": [
    {
     "data": {
      "text/plain": [
       "0.01"
      ]
     },
     "execution_count": 119,
     "metadata": {},
     "output_type": "execute_result"
    }
   ],
   "source": [
    "1.0e-2"
   ]
  },
  {
   "cell_type": "markdown",
   "id": "86098859",
   "metadata": {},
   "source": [
    "## Ch04. 조건문, if"
   ]
  },
  {
   "cell_type": "markdown",
   "id": "b49d53bb",
   "metadata": {},
   "source": [
    "* code structure"
   ]
  },
  {
   "cell_type": "markdown",
   "id": "0ece4390",
   "metadata": {},
   "source": [
    "### 1. 코드 짜는 룰\n",
    "* 주석 다는 법\n",
    "    * 설명하는 부분에 사용\n",
    "    * 목적 : 의도를 표현함, 오류가 있거나 업데이트 할 예정 등등을 표시\n",
    "    * '#' hash, sharp, ....\n",
    "    * 시작된 부분부터 그 라인 끝까지가 주석임\n",
    "    * 문자열 안에 들어있는 해시는 문자열로 인식\n",
    "    * \"\"\"<주석>\"\"\" : 주석 길게 쓰고 싶을 때\n",
    "\n",
    "* 라인 유지하기\n",
    "     * 들여쓰기, 공백 4개, 탭 1개\n",
    "     * 한 줄에 최대한 80자 넘지 않게\n",
    "     * 백슬래시로 끊어준다 (\\)"
   ]
  },
  {
   "cell_type": "code",
   "execution_count": 121,
   "id": "71dc0438",
   "metadata": {},
   "outputs": [],
   "source": [
    "a = 3 #여기부터 라인 끝\n",
    "b = 2"
   ]
  },
  {
   "cell_type": "code",
   "execution_count": 125,
   "id": "3f015546",
   "metadata": {},
   "outputs": [
    {
     "name": "stdout",
     "output_type": "stream",
     "text": [
      "hey ####\n"
     ]
    },
    {
     "data": {
      "text/plain": [
       "'\\n주석1. aa\\n주석2. bb\\n주석3. cc\\n'"
      ]
     },
     "execution_count": 125,
     "metadata": {},
     "output_type": "execute_result"
    }
   ],
   "source": [
    "example = 'hey ####' #문자열 안의 해시는 문자열로\n",
    "print(example)\n",
    "\"\"\"\n",
    "주석1. aa\n",
    "주석2. bb\n",
    "주석3. cc\n",
    "\"\"\""
   ]
  },
  {
   "cell_type": "markdown",
   "id": "b70a106b",
   "metadata": {},
   "source": [
    "### 2. if문\n",
    "if ....:\n",
    "    # : 입력 후 엔터치면 자동으로 들여쓰기\n",
    "\n",
    "* 조건 1개\n",
    "if <조건식>:\n",
    "    <실행할 코드>"
   ]
  },
  {
   "cell_type": "code",
   "execution_count": 127,
   "id": "e4e7df41",
   "metadata": {},
   "outputs": [],
   "source": [
    "if 4 == 9:\n",
    "    print('Yaay!') #4와 9가 달라 print 안됨."
   ]
  },
  {
   "cell_type": "code",
   "execution_count": 128,
   "id": "988f2670",
   "metadata": {},
   "outputs": [
    {
     "name": "stdout",
     "output_type": "stream",
     "text": [
      "Yaay!\n"
     ]
    }
   ],
   "source": [
    "if 4 != 9:\n",
    "    print('Yaay!') #4와 9가 달라 print 됨."
   ]
  },
  {
   "cell_type": "markdown",
   "id": "5a854292",
   "metadata": {},
   "source": [
    "* 조건 2개:\n",
    "    if <조건식1>:\n",
    "        <실행할 코드>\n",
    "    else <조건식2>:\n",
    "        <실행할 코드2>\n",
    "       "
   ]
  },
  {
   "cell_type": "code",
   "execution_count": 129,
   "id": "44526daa",
   "metadata": {},
   "outputs": [
    {
     "name": "stdout",
     "output_type": "stream",
     "text": [
      "Hey!\n"
     ]
    }
   ],
   "source": [
    "if 4 == 9 :\n",
    "    print('Yaay!')\n",
    "else:\n",
    "    print('Hey!')"
   ]
  },
  {
   "cell_type": "markdown",
   "id": "59e927f7",
   "metadata": {},
   "source": [
    "* 조건 3개:\n",
    "    if <조건식1>:\n",
    "        <실행할 코드>\n",
    "    elif <조건식2>:\n",
    "        <실행할 코드2>\n",
    "        \n",
    ".\n",
    ".\n",
    ".\n",
    "\n",
    "    else <조건식3>:\n",
    "        <실행할 코드3>\n",
    "        \n",
    "* 주의할 점 : if, elif, else는 같은 라인 / 들여쓰기 주의"
   ]
  },
  {
   "cell_type": "markdown",
   "id": "3a06713d",
   "metadata": {},
   "source": [
    "### 3. 비교연산자\n",
    "* x < y, x <= y\n",
    "* x > y, x >= y\n",
    "* x == y (값)\n",
    "* x != y (값)\n",
    "* x is y (값, 메모리주소가 같아야 함)\n",
    "* x is not y"
   ]
  },
  {
   "cell_type": "markdown",
   "id": "8298a157",
   "metadata": {},
   "source": [
    "### `Quiz 1` 학점 계산기\n",
    "* 학점 부여하기\n",
    "* 학점을 입력 받아서\n",
    "    * 90점 이상이면 A\n",
    "    * 80점 이상이면 B\n",
    "    * 70점 이상이면 C\n",
    "    * 그외면 D\n",
    "\n",
    "* 변수 설정 주의하기(a,b,c 안됨)"
   ]
  },
  {
   "cell_type": "markdown",
   "id": "b2a76f2c",
   "metadata": {},
   "source": [
    "#### 방법 1"
   ]
  },
  {
   "cell_type": "code",
   "execution_count": 132,
   "id": "541d5bdc",
   "metadata": {},
   "outputs": [
    {
     "name": "stdout",
     "output_type": "stream",
     "text": [
      "30\n",
      "D\n"
     ]
    }
   ],
   "source": [
    "score=int(input())\n",
    "\n",
    "if score >= 90:\n",
    "    print('A')\n",
    "elif score >= 80:\n",
    "    print('B')\n",
    "elif score >= 70:\n",
    "    print('C')\n",
    "else:\n",
    "    print('D')"
   ]
  },
  {
   "cell_type": "markdown",
   "id": "d72321a6",
   "metadata": {},
   "source": [
    "#### 방법 2"
   ]
  },
  {
   "cell_type": "code",
   "execution_count": 138,
   "id": "f77de5b9",
   "metadata": {},
   "outputs": [
    {
     "name": "stdout",
     "output_type": "stream",
     "text": [
      "점수를 입력하세요.75\n",
      "당신의 점수는 75점이며 C학점 입니다.\n"
     ]
    }
   ],
   "source": [
    "score = int(input('점수를 입력하세요.'))\n",
    "if score >= 90:\n",
    "    grade = 'A'\n",
    "elif score >= 80:\n",
    "    grade = 'B'\n",
    "elif score >= 70:\n",
    "    grade = 'C'\n",
    "else:\n",
    "    grade = 'D'\n",
    "\n",
    "print('당신의 점수는 {}점이며 {}학점 입니다.'.format(score, grade))"
   ]
  },
  {
   "cell_type": "markdown",
   "id": "eb19f132",
   "metadata": {},
   "source": [
    "### `Quiz 2` 로그인\n",
    "* 아이디와 비번 입력 받아서 둘 다 일치하면 로그인하기\n",
    "* 아이디, 비번 각자 정해놓기\n",
    "* 일치하지 않을 때에는 창의적으로 어떤 걸로 반환하기"
   ]
  },
  {
   "cell_type": "code",
   "execution_count": 141,
   "id": "4dacb6f1",
   "metadata": {},
   "outputs": [
    {
     "name": "stdout",
     "output_type": "stream",
     "text": [
      "아이디를 입력하세요hufs\n",
      "비밀번호를 입력하세요4321\n",
      "비밀번호가 틀렸습니다.\n"
     ]
    }
   ],
   "source": [
    "id = 'hufs'\n",
    "pw = '1234'\n",
    "\n",
    "#선언하기 위해서 문자열로 인식되도록 하기\n",
    "\n",
    "id_login = input('아이디를 입력하세요')\n",
    "pw_login = input('비밀번호를 입력하세요')\n",
    "if id == id_login and pw != pw_login:\n",
    "    print('비밀번호가 틀렸습니다.')\n",
    "elif id != id_login and pw == pw_login:\n",
    "    print('존재하지 않는 아이디입니다.')\n",
    "elif id == id_login and pw == pw_login:\n",
    "    print('로그인 되었습니다.')"
   ]
  },
  {
   "cell_type": "markdown",
   "id": "cff61f9f",
   "metadata": {},
   "source": [
    "### 4. 논리연산자\n",
    "* 여러 조건식을 비교할 때\n",
    "    ex) 10 < x < 20\n",
    "    * 파이썬에서만 가능한 표현\n",
    "    * (x > 10) 혹은 (x < 20)\n",
    "\n",
    "* and, &: 둘 다 참일 때 True\n",
    "* or , |: 둘 중 하나만 참이여도 True\n",
    "* not: 참 -> False, 거짓 -> True"
   ]
  },
  {
   "cell_type": "markdown",
   "id": "8d7d26d3",
   "metadata": {},
   "source": [
    "### `Quiz 3` 과제\n",
    "* quiz 1 확장판\n",
    "* 결석 횟수를 받아서 점수가 80점 이상인데 결석이 2번 이상이면 F, 나머지는 그대로\n",
    "* 논리 연산자 사용하거나,\n",
    "* if 구조를 크게 2번 가져갈 수 있다."
   ]
  },
  {
   "cell_type": "code",
   "execution_count": 146,
   "id": "be3e3ee6",
   "metadata": {},
   "outputs": [
    {
     "name": "stdout",
     "output_type": "stream",
     "text": [
      "점수를 입력하세요.85\n",
      "결석 횟수를 입력하세요.3\n",
      "당신의 점수는 85.0점이고 지각횟수는 3회이며, F학점 입니다.\n"
     ]
    }
   ],
   "source": [
    "score = float(input('점수를 입력하세요.'))\n",
    "absence = int(input('결석 횟수를 입력하세요.'))\n",
    "\n",
    "if score >=90:\n",
    "    if absence < 2:\n",
    "        grade = 'A'\n",
    "    else:\n",
    "        grade = 'F'\n",
    "\n",
    "if score >=80:\n",
    "    if absence < 2:\n",
    "        grade = 'B'\n",
    "    else:\n",
    "        grade = 'F'\n",
    "        \n",
    "if score >=70:\n",
    "    if absence < 2:\n",
    "        grade = 'C'\n",
    "    else:\n",
    "        grade = 'F'\n",
    "\n",
    "if score >=60:\n",
    "    if absence < 2:\n",
    "        grade = 'D'\n",
    "    else:\n",
    "        grade = 'F'\n",
    "        \n",
    "print('당신의 점수는 {}점이고 지각횟수는 {}회이며, {}학점 입니다.'.format(score, absence, grade))"
   ]
  }
 ],
 "metadata": {
  "kernelspec": {
   "display_name": "Python 3 (ipykernel)",
   "language": "python",
   "name": "python3"
  },
  "language_info": {
   "codemirror_mode": {
    "name": "ipython",
    "version": 3
   },
   "file_extension": ".py",
   "mimetype": "text/x-python",
   "name": "python",
   "nbconvert_exporter": "python",
   "pygments_lexer": "ipython3",
   "version": "3.9.7"
  }
 },
 "nbformat": 4,
 "nbformat_minor": 5
}
