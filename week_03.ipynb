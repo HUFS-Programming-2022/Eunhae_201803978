{
 "cells": [
  {
   "cell_type": "markdown",
   "id": "7c855cc4",
   "metadata": {},
   "source": [
    "## Ch04. 조건문, if"
   ]
  },
  {
   "cell_type": "markdown",
   "id": "82e6919d",
   "metadata": {},
   "source": [
    "### 5. 중첩조건문 | nested conditional\n",
    "* if 블록 안에 또 if 블록이 만들어지는 경우 (조건문 안에 또 다른 조건문)\n",
    "    * 예 : if ...\n",
    "                if...\n",
    "                     if...\n",
    "    * 구분은 들여쓰기로 한다.\n",
    "    * 조건이 여러 개일 경우 사용한다.\n",
    "\n",
    "* 근데, 이 방법은 가독성이 떨어지므로 지양한다. 더 예쁜 방법을 찾아볼 것."
   ]
  },
  {
   "cell_type": "code",
   "execution_count": 4,
   "id": "28696bd7",
   "metadata": {},
   "outputs": [
    {
     "name": "stdout",
     "output_type": "stream",
     "text": [
      "Block B\n"
     ]
    }
   ],
   "source": [
    "#1\n",
    "x = 0\n",
    "y = 4\n",
    "\n",
    "\n",
    "# 중첩조건문 사용. 깔끔하지 않고 복잡함.\n",
    "if x == y:\n",
    "    print(\"Block A\")\n",
    "else:\n",
    "    if x < y:\n",
    "        print(\"Block B\")\n",
    "    else:\n",
    "        print(\"Block C\")"
   ]
  },
  {
   "cell_type": "code",
   "execution_count": 5,
   "id": "aa35960b",
   "metadata": {},
   "outputs": [
    {
     "name": "stdout",
     "output_type": "stream",
     "text": [
      "Block B\n"
     ]
    }
   ],
   "source": [
    "# 깔끔하게 고치는 방법\n",
    "\n",
    "if x == y:\n",
    "    print(\"Block A\")\n",
    "elif x < y:\n",
    "    print(\"Block B\")\n",
    "else:\n",
    "    print(\"Block C\")"
   ]
  },
  {
   "cell_type": "markdown",
   "id": "bae6ccb5",
   "metadata": {},
   "source": [
    "* 0 < x < 10를 알아보고 싶다면"
   ]
  },
  {
   "cell_type": "code",
   "execution_count": 7,
   "id": "4f6d4d82",
   "metadata": {},
   "outputs": [
    {
     "name": "stdout",
     "output_type": "stream",
     "text": [
      "D\n"
     ]
    }
   ],
   "source": [
    "# 중첩조건문 사용. 깔끔하지 않고 복잡함.\n",
    "if  x > 0:\n",
    "    print('A')\n",
    "    if x < 10:\n",
    "        print('B')\n",
    "    else:\n",
    "        print('C')\n",
    "else:\n",
    "    print('D')"
   ]
  },
  {
   "cell_type": "code",
   "execution_count": 8,
   "id": "3be7ed48",
   "metadata": {
    "scrolled": true
   },
   "outputs": [
    {
     "name": "stdout",
     "output_type": "stream",
     "text": [
      "B\n",
      "B\n"
     ]
    }
   ],
   "source": [
    "#개선방법 1_ 논리 연산자 사용\n",
    "\n",
    "if (x > 0) and (x < 10):     # 복잡한 식이면 ()로 묶어도 좋음\n",
    "    print('A')\n",
    "else:\n",
    "    print('B')\n",
    "\n",
    "#개선방법 2_ 논리 연산자 사용\n",
    "\n",
    "if 0 < x < 10: #파이썬에서만 가능함\n",
    "    print('A')\n",
    "else:\n",
    "    print('B')\n",
    "    \n",
    "#중첩조건문은 최대한 가독성이 좋은 방식을 찾아보도록 한다."
   ]
  },
  {
   "cell_type": "markdown",
   "id": "f5fc6650",
   "metadata": {},
   "source": [
    "### 6.논리연산자\n",
    "* 비교연산 조건을 여러 번 사용하는 경우 유용함\n",
    "    * x > 0, x < 10\n",
    "    \n",
    "* and, or, not\n",
    "    * A and B : A 그리고 B. A,B 둘 다 참일 때 True (&)\n",
    "    * A or B : A 혹은 B. 둘 중 하나만 참이면 True (|)\n",
    "    * not A : A가 참이면 False, 거짓이면 True (~)\n",
    "\n",
    "* 연산이 여러번 사용되면 괄호를 통해 가독성을 높일 수 있음"
   ]
  },
  {
   "cell_type": "markdown",
   "id": "66b1faaf",
   "metadata": {},
   "source": [
    "### 7. True/Flase\n",
    "* A = True\n",
    "* \"만약 A가 참이면, ...\""
   ]
  },
  {
   "cell_type": "code",
   "execution_count": 9,
   "id": "ae972d19",
   "metadata": {},
   "outputs": [
    {
     "name": "stdout",
     "output_type": "stream",
     "text": [
      "\n"
     ]
    }
   ],
   "source": [
    "a = 10\n",
    "\n",
    "#이렇게 하는 것 아님\n",
    "if a == True: \n",
    "    print()\n",
    "    \n",
    "#이렇게 사용하는 것 # 아무것도 안쓰면 a가 참일 경우를 뜻함\n",
    "if a:\n",
    "    print()"
   ]
  },
  {
   "cell_type": "markdown",
   "id": "590c533a",
   "metadata": {},
   "source": [
    "### 8. in\n",
    "* membership operator\n",
    "\n",
    "    * 1) 요소가 안에 포함되어 있는가\n",
    "        * A in B : A가 B안에 있는가\n",
    "    * 2) 조건문이 여럿일 때\n",
    "    \n",
    "* A in B = A가 B에 포함되어 있냐"
   ]
  },
  {
   "cell_type": "code",
   "execution_count": 11,
   "id": "4434516c",
   "metadata": {},
   "outputs": [
    {
     "name": "stdout",
     "output_type": "stream",
     "text": [
      "자음\n"
     ]
    }
   ],
   "source": [
    "# ex1. 모음인지 아닌지 판단하라 (a, e, i, o, u)\n",
    "# 비슷한 조건이 여럿일 때의 경우\n",
    "\n",
    "letter = 'k'\n",
    "\n",
    "# if letter == 'a' or letter == 'e', ...\n",
    "#이렇게 길게 나열하지 말고 in을 쓰자\n",
    "\n",
    "if letter in ['a', 'e', 'i', 'o', 'u']:\n",
    "    print(\"모음\")\n",
    "else:\n",
    "    print(\"자음\")"
   ]
  },
  {
   "cell_type": "code",
   "execution_count": null,
   "id": "d55b04b2",
   "metadata": {},
   "outputs": [],
   "source": [
    "#단어에 모음이 있냐 없냐\n",
    "word = 'apple'\n",
    "\n",
    "if 'a' or 'e' or 'i' or 'o' or 'u' in word:\n",
    "    print('yes')"
   ]
  },
  {
   "cell_type": "code",
   "execution_count": null,
   "id": "fa72c479",
   "metadata": {},
   "outputs": [],
   "source": [
    "word = 'apple'\n",
    "\n",
    "if word in ['a', 'e', 'i', 'o', 'u']: #리스트로 묶어서 #반대로\n",
    "    print('yes')"
   ]
  },
  {
   "cell_type": "markdown",
   "id": "5c6c6b03",
   "metadata": {},
   "source": [
    "#### 9. 코끼리연산자\n",
    "* walrus operator\n",
    "* :=\n",
    "* 할당 + 테스트 동시에 하는 기능"
   ]
  },
  {
   "cell_type": "code",
   "execution_count": null,
   "id": "1732e627",
   "metadata": {},
   "outputs": [],
   "source": [
    "tweet_limit = 200 #200자 까지 가능\n",
    "tweet_string = 'blah' * 50 # 4 * 50 = 200\n",
    "len(tweet_string)"
   ]
  },
  {
   "cell_type": "code",
   "execution_count": null,
   "id": "adfa9717",
   "metadata": {},
   "outputs": [],
   "source": [
    "diff = tweet_limit - len(tweet_string) #diff를 초기화하기 위해 할당\n",
    "if diff > 0:\n",
    "    print(\"가능하다\")\n",
    "else:\n",
    "    print(\"불가능하다\")"
   ]
  },
  {
   "cell_type": "code",
   "execution_count": null,
   "id": "1b89d299",
   "metadata": {},
   "outputs": [],
   "source": [
    "#위의 내용을 한 줄로 줄이기\n",
    "if diff := tweet_limit - len(tweet_string) > 0:\n",
    "        print('yes')\n",
    "else:\n",
    "    print('no')"
   ]
  },
  {
   "cell_type": "markdown",
   "id": "25e6d3a0",
   "metadata": {},
   "source": [
    "### `Quiz 1`\n",
    "* 윤년을 구해봅시다.\n",
    "    * 연도 입력받는다.\n",
    "    * 4로 나눠지면 윤년\n",
    "    * 100으로 나눠지면 안된다.\n",
    "    * 400으로 나눠지면 윤년\n",
    "* 출력 : '{}년은 윤년입니다.' / '~아닙니다.'"
   ]
  },
  {
   "cell_type": "code",
   "execution_count": null,
   "id": "c864fcb0",
   "metadata": {},
   "outputs": [],
   "source": [
    "# 코끼리 연산자 안 쓴 풀이\n",
    "year=int(input(\"연도를 입력하세요.\"))\n",
    "\n",
    "if year%4 == 0:\n",
    "    print(f\"{year}년도는 윤년입니다.\")\n",
    "elif year%100 == 0:\n",
    "    print(f\"{year}년도는 윤년이 아닙니다.\")\n",
    "elif year%400 == 0:\n",
    "    print(f\"{year}년도는 윤년입니다.\")\n",
    "else:\n",
    "    print(f\"{year}년도는 윤년이 아닙니다.\")"
   ]
  },
  {
   "cell_type": "code",
   "execution_count": null,
   "id": "1a82892a",
   "metadata": {},
   "outputs": [],
   "source": [
    "#코끼리 연산자를 쓴 모범풀이\n",
    "year=int(input(\"연도를 입력하세요.\"))\n",
    "\n",
    "if (year % 4 == 0 and year % 100 != 0) or (year % 400 == 0):\n",
    "    print(f'{year}년도는 윤년입니다.')\n",
    "else:\n",
    "    print(f'{year}년도는 윤년이 아닙니다.')"
   ]
  },
  {
   "cell_type": "markdown",
   "id": "cefa939f",
   "metadata": {},
   "source": [
    "## Ch.05 String"
   ]
  },
  {
   "cell_type": "markdown",
   "id": "51c38253",
   "metadata": {},
   "source": [
    "### 1. string | 문자열\n",
    "* 시스템에서 가장 작은 단위 = 하나의 character가 차지하는 byte가 가장 작다\n",
    "* 불변적인 성격을 가진다. immutable\n",
    "    * 예 : jack -> jeck \n",
    "    * 이렇게 중간의 문자만 바꾸는 건 불가!\n",
    "    * 아예 할당을 다시할 순 있음\n",
    "* ', \"으로 선언한다.\n",
    "    * 예 : \"25.5\"\n",
    "    * '과 \"로 감싸면 string이다.\n",
    "    \n",
    "* ''', \"\"\" 주석이다.\n",
    "* 형변환은 str()\n",
    "\n",
    "### 2. escape charcter | 이스케이프문자\n",
    "* 특수한 형태의 문자열. 눈에 보이는 대로 인식되지 않는 문자\n",
    "* \\ + ch\n",
    "* 예 : \\n, \\t, \\b, \\', \\\", ...\n",
    "    * \\n을 출력하고 싶을 때?\n",
    "        1) \\을 한 번 더 씀\n",
    "        2) r'' :r로 string을 묶어줌\n",
    "        \n",
    "* 다른 스트링을 만드는 것이 아님. 출력의 방식인 것임."
   ]
  },
  {
   "cell_type": "code",
   "execution_count": null,
   "id": "cd821d39",
   "metadata": {},
   "outputs": [],
   "source": [
    "sent = 'hello\\nworld'\n",
    "print(sent)"
   ]
  },
  {
   "cell_type": "code",
   "execution_count": null,
   "id": "dada0cc6",
   "metadata": {},
   "outputs": [],
   "source": [
    "#만약 \\n을 출력하고 싶으면?\n",
    "sent = 'hello\\\\nworld' #\\을 한 번 더 써라\n",
    "print(sent)"
   ]
  },
  {
   "cell_type": "code",
   "execution_count": null,
   "id": "9cb2ecdb",
   "metadata": {},
   "outputs": [],
   "source": [
    "#print로 안 감싸도 \\n 출력됨\n",
    "sent = 'hello\\nworld'\n",
    "sent "
   ]
  },
  {
   "cell_type": "code",
   "execution_count": null,
   "id": "b406257f",
   "metadata": {},
   "outputs": [],
   "source": [
    "'I\\'m a student.' # I'm a student.가 통째로 string이니 '에 \\를 사용"
   ]
  },
  {
   "cell_type": "code",
   "execution_count": null,
   "id": "a1a62883",
   "metadata": {},
   "outputs": [],
   "source": [
    "sent = r'hello\\nworld'\n",
    "print(sent)"
   ]
  },
  {
   "cell_type": "markdown",
   "id": "147dad45",
   "metadata": {},
   "source": [
    "### 7. 연산\n",
    "- concatenatation\n",
    "    * ' '  + ' ' => string을 더할 때 공백 없이 결합하는 방법\n",
    "* 곱하기\n",
    "    * ' '*5 => string 복제"
   ]
  },
  {
   "cell_type": "code",
   "execution_count": null,
   "id": "a04d4a1d",
   "metadata": {},
   "outputs": [],
   "source": [
    "name = 'jack'\n",
    "name + name"
   ]
  },
  {
   "cell_type": "code",
   "execution_count": null,
   "id": "5bc7af00",
   "metadata": {},
   "outputs": [],
   "source": [
    "name * 4"
   ]
  },
  {
   "cell_type": "code",
   "execution_count": null,
   "id": "d8ea8e3f",
   "metadata": {
    "scrolled": false
   },
   "outputs": [],
   "source": [
    "#name의 2번째 char을 e로 바꿀 수 있나?\n",
    "name[1] = 'e'\n",
    "\n",
    "#immutable하기 때문에 변경 불가."
   ]
  },
  {
   "cell_type": "markdown",
   "id": "017b3eab",
   "metadata": {},
   "source": [
    "### 8. 슬라이싱 추출\n",
    "* 문자열의 일부분을 떼어내는 작업\n",
    "* 대괄호 사용, 그 안에 오프셋을 지정\n",
    "* 오프셋은 0부터 시작한다.\n",
    "    0123\n",
    "    jack\n",
    "   -4  -1\n",
    "* 음수도 가능함. -1부터 시작\n",
    "* 오프셋은 [시작:끝:스텝] # step 디폴트 값 = 1\n",
    "* 시작은 포함, 끝은 포함하지 않음 (이상 - 미만)"
   ]
  },
  {
   "cell_type": "code",
   "execution_count": null,
   "id": "9fc06350",
   "metadata": {},
   "outputs": [],
   "source": [
    "name = 'jack'\n",
    "name[0]"
   ]
  },
  {
   "cell_type": "code",
   "execution_count": null,
   "id": "240115a9",
   "metadata": {},
   "outputs": [],
   "source": [
    "sent"
   ]
  },
  {
   "cell_type": "code",
   "execution_count": null,
   "id": "5369505f",
   "metadata": {},
   "outputs": [],
   "source": [
    "# 3번째 자리 출력\n",
    "sent[3:4]"
   ]
  },
  {
   "cell_type": "code",
   "execution_count": null,
   "id": "e8868495",
   "metadata": {},
   "outputs": [],
   "source": [
    "#처음부터 5까지 출력 #[0:6]이라고 굳이 하지 않음\n",
    "sent[:6]"
   ]
  },
  {
   "cell_type": "code",
   "execution_count": null,
   "id": "2560ae88",
   "metadata": {},
   "outputs": [],
   "source": [
    "#처음부터 끝까지 2스텝씩 출력\n",
    "sent[::2]"
   ]
  },
  {
   "cell_type": "code",
   "execution_count": null,
   "id": "9f325963",
   "metadata": {},
   "outputs": [],
   "source": [
    "# 모든 글자를 거꾸로 출력하세요\n",
    "sent[::-1]"
   ]
  },
  {
   "cell_type": "code",
   "execution_count": null,
   "id": "e5bf5b3b",
   "metadata": {},
   "outputs": [],
   "source": [
    "cars = ['benz', 'kia', 'porsche']\n",
    "cars[0]"
   ]
  },
  {
   "cell_type": "markdown",
   "id": "a453ba52",
   "metadata": {},
   "source": [
    "\n",
    "\n",
    "## Ch05-2. NLTK"
   ]
  },
  {
   "cell_type": "markdown",
   "id": "c2f82dcf",
   "metadata": {},
   "source": [
    "### 1. NLTK\n",
    "* natural language toolkit\n",
    "* 자연어 분석을 위해 교육용으로 배포된 패키지\n",
    "* 웹사이트에 있는 텍스트랑 뭐가 다른가?\n",
    "    * 내장함수, 기능들이 추가되어 있음\n",
    "        * ex) 토크나이즈, 파싱, 태깅, ..."
   ]
  },
  {
   "cell_type": "code",
   "execution_count": 1,
   "id": "c822498f",
   "metadata": {},
   "outputs": [
    {
     "name": "stdout",
     "output_type": "stream",
     "text": [
      "Requirement already satisfied: nltk in c:\\users\\panom\\anaconda3\\lib\\site-packages (3.6.5)\n",
      "Requirement already satisfied: click in c:\\users\\panom\\anaconda3\\lib\\site-packages (from nltk) (8.0.3)\n",
      "Requirement already satisfied: joblib in c:\\users\\panom\\anaconda3\\lib\\site-packages (from nltk) (1.1.0)\n",
      "Requirement already satisfied: regex>=2021.8.3 in c:\\users\\panom\\anaconda3\\lib\\site-packages (from nltk) (2021.8.3)\n",
      "Requirement already satisfied: tqdm in c:\\users\\panom\\anaconda3\\lib\\site-packages (from nltk) (4.62.3)\n",
      "Requirement already satisfied: colorama in c:\\users\\panom\\anaconda3\\lib\\site-packages (from click->nltk) (0.4.4)\n"
     ]
    }
   ],
   "source": [
    "#NLTK 다운로드 #터미널에서 설치 #설치하고 나면 주석처리해서 실행 반복되지 않도록하기\n",
    "!pip install nltk"
   ]
  },
  {
   "cell_type": "code",
   "execution_count": 2,
   "id": "8ce7494d",
   "metadata": {
    "scrolled": false
   },
   "outputs": [],
   "source": [
    "import nltk #nltk 불러오기"
   ]
  },
  {
   "cell_type": "code",
   "execution_count": 3,
   "id": "8cec09c7",
   "metadata": {},
   "outputs": [
    {
     "data": {
      "text/plain": [
       "True"
      ]
     },
     "execution_count": 3,
     "metadata": {},
     "output_type": "execute_result"
    }
   ],
   "source": [
    "nltk.download('book', quiet = True) #가져 온 후 nltk에 접근해서 부분적으로 다운받기\n",
    "#book이라는 package를 다운받기"
   ]
  },
  {
   "cell_type": "code",
   "execution_count": 4,
   "id": "095e60c1",
   "metadata": {},
   "outputs": [
    {
     "name": "stdout",
     "output_type": "stream",
     "text": [
      "*** Introductory Examples for the NLTK Book ***\n",
      "Loading text1, ..., text9 and sent1, ..., sent9\n",
      "Type the name of the text or sentence to view it.\n",
      "Type: 'texts()' or 'sents()' to list the materials.\n",
      "text1: Moby Dick by Herman Melville 1851\n",
      "text2: Sense and Sensibility by Jane Austen 1811\n",
      "text3: The Book of Genesis\n",
      "text4: Inaugural Address Corpus\n",
      "text5: Chat Corpus\n",
      "text6: Monty Python and the Holy Grail\n",
      "text7: Wall Street Journal\n",
      "text8: Personals Corpus\n",
      "text9: The Man Who Was Thursday by G . K . Chesterton 1908\n"
     ]
    }
   ],
   "source": [
    "from nltk import book #book 다운 했으니 book 가져오기"
   ]
  },
  {
   "cell_type": "code",
   "execution_count": null,
   "id": "80efc868",
   "metadata": {},
   "outputs": [],
   "source": [
    "moby = book.text1 #book의 text1에 접근하여 text가 너무 기니까 moby에 할당해줌\n",
    "moby.tokens[:10] #토큰에 접근하는 방법 #앞에서 10개만 추출하자\n",
    "# 토큰 : 프로그래밍의 단어 단위 hello world, I'm not a coward.\n",
    "    # I'm / I, 'm / I, am 등 우리가 어떻게 받아들이게 할건지 정해야함."
   ]
  },
  {
   "cell_type": "code",
   "execution_count": null,
   "id": "0258d7b4",
   "metadata": {},
   "outputs": [],
   "source": [
    "# 1. 길이 세기\n",
    "len(moby) # 26만자"
   ]
  },
  {
   "cell_type": "code",
   "execution_count": null,
   "id": "f094e0b6",
   "metadata": {
    "scrolled": true
   },
   "outputs": [],
   "source": [
    "# 2. 중복 없이 단어 몇 개?\n",
    "len(set(moby)) # 1.9만 자"
   ]
  },
  {
   "cell_type": "markdown",
   "id": "1027397f",
   "metadata": {},
   "source": [
    "- list\n",
    "    - ['a', 1, True]\n",
    "    - 순서가 있고\n",
    "    - 중복 허용된다.\n",
    "    - list()\n",
    "- set\n",
    "    - {'a', 2, True}\n",
    "    - 순서 없고\n",
    "    - 중복 허용 안 됨\n",
    "    - set()\n",
    "    - 수학의 집합 개념"
   ]
  },
  {
   "cell_type": "code",
   "execution_count": null,
   "id": "60607780",
   "metadata": {},
   "outputs": [],
   "source": [
    "cars = ['kia', 'hyundai', 'renault', 'benz', 'benz', 'kia']\n",
    "cars"
   ]
  },
  {
   "cell_type": "code",
   "execution_count": null,
   "id": "eb5bbea5",
   "metadata": {},
   "outputs": [],
   "source": [
    "set(cars) #중복이 사라짐"
   ]
  },
  {
   "cell_type": "code",
   "execution_count": null,
   "id": "23079d99",
   "metadata": {},
   "outputs": [],
   "source": [
    "#lexical diversity\n",
    "len(set(moby)) / len(moby) #7%밖에 안됨"
   ]
  },
  {
   "cell_type": "code",
   "execution_count": null,
   "id": "a0f72348",
   "metadata": {},
   "outputs": [],
   "source": [
    "#정렬\n",
    "sorted(cars)"
   ]
  },
  {
   "cell_type": "code",
   "execution_count": null,
   "id": "d9701825",
   "metadata": {},
   "outputs": [],
   "source": [
    "sorted(cars, reverse = True)"
   ]
  },
  {
   "cell_type": "code",
   "execution_count": null,
   "id": "5e35f175",
   "metadata": {},
   "outputs": [],
   "source": [
    "# sorted(set(moby)) #결과가 너무 많이 나오는데, set은 indexing이 안됨.\n",
    "# 정렬은 문장부호-숫자-대문자-소문자 순서대로 나옴"
   ]
  },
  {
   "cell_type": "code",
   "execution_count": null,
   "id": "e4d5edd8",
   "metadata": {},
   "outputs": [],
   "source": [
    "#10개를 뽑고 sorted함 (뽑고 정렬)\n",
    "sorted(moby[:10])"
   ]
  },
  {
   "cell_type": "code",
   "execution_count": null,
   "id": "23f00449",
   "metadata": {},
   "outputs": [],
   "source": [
    "#sorted한 다음 10개를 뽑음 (정렬하고 뽑음)\n",
    "sorted(moby)[:10] "
   ]
  },
  {
   "cell_type": "markdown",
   "id": "51230c19",
   "metadata": {},
   "source": [
    "### `Quiz 1`\n",
    "* text6 가져와서 토큰을 변수에 담고\n",
    "* 중복 없는 셋으로 저장하고 내림차순\n",
    "    * 앞에서 10개 단어 출력\n",
    "    * 단어에 z가 있으면 z를 대문자로 바꾸시오\n",
    "    * z가 없는데 4자 이상이면 끝 글자를 대문자로 바꾸라."
   ]
  },
  {
   "cell_type": "code",
   "execution_count": 10,
   "id": "3e63adea",
   "metadata": {},
   "outputs": [
    {
     "name": "stdout",
     "output_type": "stream",
     "text": [
      "['zoosh', 'zoop', 'zoo', 'zone', 'zhiv', 'yourself', 'yours', 'your', 'young', 'you']\n",
      "['Zoosh', 'Zoop', 'Zoo', 'Zone', 'Zhiv', 'yourselF', 'yourS', 'youR', 'younG', 'you']\n"
     ]
    }
   ],
   "source": [
    "monty = book.text6\n",
    "monty = sorted(set(monty), reverse = True)\n",
    "monty = monty[:10]\n",
    "print(monty)\n",
    "len(monty)\n",
    "\n",
    "for i in range(len(monty)):\n",
    "    if 'z' in monty[i]:\n",
    "        monty[i] = monty[i].replace('z', 'Z')\n",
    "    \n",
    "    elif len(monty[i]) >= 4:\n",
    "        monty[i] = monty[i][:-1] + monty[i][-1].upper()\n",
    "        \n",
    "print(monty)"
   ]
  },
  {
   "cell_type": "markdown",
   "id": "c6e1363f",
   "metadata": {},
   "source": [
    "### `Quiz 2`\n",
    "* 주민번호, 휴대폰 번호, 이메일 주소를 입력 받는다.\n",
    "* 주민번호, 휴대폰 번호는 숫자만 입력받는다. (- 없이)\n",
    "* 이메일주소는 아이디만 입력받는다. (@ 없이)\n",
    "\n",
    "* output\n",
    "    * 1. \"당신은 {}년 {}월 {}일 출생의 {남성/여성}입니다.\"\n",
    "    * 2. 휴대폰 번호 : 000-0000-0000\n",
    "    * 3. 이메일주소 : xxxx@gmail.com"
   ]
  },
  {
   "cell_type": "code",
   "execution_count": 14,
   "id": "e82c823c",
   "metadata": {
    "scrolled": true
   },
   "outputs": [
    {
     "name": "stdout",
     "output_type": "stream",
     "text": [
      "주민등록번호를 입력하세요.(- 없이, 숫자만)060606343434\n",
      "휴대폰번호를 입력하세요.(- 없이, 숫자만)01055222222\n",
      "이메일 주소의 아이디를 입력하세요.(@없이, 아이디만)jg\n",
      "\n",
      "1. 당신은 2006년 06월 06일 출생의 남성입니다.\n",
      "2. 휴대폰번호 : 010-5522-2222\n",
      "3. 이메일주소 : jg@gmail.com\n",
      "\n"
     ]
    }
   ],
   "source": [
    "resident_num = input(\"주민등록번호를 입력하세요.(- 없이, 숫자만)\")\n",
    "phone_num = input(\"휴대폰번호를 입력하세요.(- 없이, 숫자만)\")\n",
    "email = input(\"이메일 주소의 아이디를 입력하세요.(@없이, 아이디만)\")\n",
    "\n",
    "#성별 추출 #년도추출 \n",
    "year = resident_num[:2]\n",
    "if resident_num[6] == \"1\":\n",
    "    year = \"19\" + resident_num[0:2]\n",
    "    sex = \"남성\"\n",
    "elif resident_num[6] == \"2\":\n",
    "    year = \"19\" + resident_num[0:2]\n",
    "    sex = \"여성\"\n",
    "elif resident_num[6] == \"3\":\n",
    "    year = \"20\" + resident_num[0:2]\n",
    "    sex = \"남성\"\n",
    "else:\n",
    "    year = \"20\" + resident_num[0:2]\n",
    "    sex = \"여성\"\n",
    "    \n",
    "#월추출\n",
    "month = resident_num[2:4]\n",
    "\n",
    "#일추출\n",
    "day = resident_num[4:6]\n",
    "\n",
    "\n",
    "print(f'''\n",
    "1. 당신은 {year}년 {month}월 {day}일 출생의 {sex}입니다.\n",
    "2. 휴대폰번호 : {phone_num[:3]}-{phone_num[3:7]}-{phone_num[7:]}\n",
    "3. 이메일주소 : {email}@gmail.com\n",
    "''')\n"
   ]
  }
 ],
 "metadata": {
  "kernelspec": {
   "display_name": "Python 3 (ipykernel)",
   "language": "python",
   "name": "python3"
  },
  "language_info": {
   "codemirror_mode": {
    "name": "ipython",
    "version": 3
   },
   "file_extension": ".py",
   "mimetype": "text/x-python",
   "name": "python",
   "nbconvert_exporter": "python",
   "pygments_lexer": "ipython3",
   "version": "3.9.7"
  }
 },
 "nbformat": 4,
 "nbformat_minor": 5
}
