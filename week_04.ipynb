{
 "cells": [
  {
   "cell_type": "markdown",
   "id": "ff2302c8",
   "metadata": {},
   "source": [
    "## Ch05-2. NLTK\n"
   ]
  },
  {
   "cell_type": "code",
   "execution_count": 2,
   "id": "d4749f0d",
   "metadata": {},
   "outputs": [],
   "source": [
    "import nltk"
   ]
  },
  {
   "cell_type": "code",
   "execution_count": 3,
   "id": "9ec2d5c6",
   "metadata": {
    "scrolled": false
   },
   "outputs": [
    {
     "data": {
      "text/plain": [
       "True"
      ]
     },
     "execution_count": 3,
     "metadata": {},
     "output_type": "execute_result"
    }
   ],
   "source": [
    "from nltk.book import *\n",
    "nltk.download('book', quiet = True)\n",
    "\n",
    "#nltk, book 가져오는 코드는 손에 익히기"
   ]
  },
  {
   "cell_type": "markdown",
   "id": "08715bd2",
   "metadata": {},
   "source": [
    "### 2.내장함수\n",
    "`method의 형식 : .method`\n",
    "- string1.method(string2)\n",
    "- list.method(string)"
   ]
  },
  {
   "cell_type": "markdown",
   "id": "07accb95",
   "metadata": {},
   "source": [
    "### `.count(str) : str의 등장 개수를 셈`"
   ]
  },
  {
   "cell_type": "code",
   "execution_count": 4,
   "id": "f23271d4",
   "metadata": {},
   "outputs": [
    {
     "data": {
      "text/plain": [
       "1661"
      ]
     },
     "execution_count": 4,
     "metadata": {},
     "output_type": "execute_result"
    }
   ],
   "source": [
    "#text1에서 he가 몇 번 등장? #HE, He는 세지 않음\n",
    "text1.count('he')"
   ]
  },
  {
   "cell_type": "markdown",
   "id": "dcb4a1f9",
   "metadata": {},
   "source": [
    "### `.replace('A','B') : A->B로 변경`"
   ]
  },
  {
   "cell_type": "code",
   "execution_count": 6,
   "id": "762b801b",
   "metadata": {},
   "outputs": [
    {
     "data": {
      "text/plain": [
       "'Word'"
      ]
     },
     "execution_count": 6,
     "metadata": {},
     "output_type": "execute_result"
    }
   ],
   "source": [
    "#word에서 w를 W로 변경\n",
    "'word'.replace('w', 'W')"
   ]
  },
  {
   "cell_type": "markdown",
   "id": "31154184",
   "metadata": {},
   "source": [
    "### `.strip() : 문자의 양 옆 공백 제거`"
   ]
  },
  {
   "cell_type": "code",
   "execution_count": 9,
   "id": "ad5b1cc9",
   "metadata": {
    "scrolled": true
   },
   "outputs": [
    {
     "data": {
      "text/plain": [
       "'t    word'"
      ]
     },
     "execution_count": 9,
     "metadata": {},
     "output_type": "execute_result"
    }
   ],
   "source": [
    "'    t    word'.strip() #t~d까지 문자로 인식되어 그 사이 공백은 제거 X"
   ]
  },
  {
   "cell_type": "markdown",
   "id": "448a2403",
   "metadata": {},
   "source": [
    "####      `.lstrip() : 문자의 왼쪽(left) 공백 제거`"
   ]
  },
  {
   "cell_type": "code",
   "execution_count": 12,
   "id": "44098114",
   "metadata": {
    "scrolled": true
   },
   "outputs": [
    {
     "data": {
      "text/plain": [
       "'t    word'"
      ]
     },
     "execution_count": 12,
     "metadata": {},
     "output_type": "execute_result"
    }
   ],
   "source": [
    "'    t    word'.lstrip()"
   ]
  },
  {
   "cell_type": "markdown",
   "id": "abf4d52e",
   "metadata": {},
   "source": [
    "#### `.rstrip() : 문자의 오른쪽(right) 공백 제거`"
   ]
  },
  {
   "cell_type": "code",
   "execution_count": 13,
   "id": "db5d4977",
   "metadata": {},
   "outputs": [
    {
     "data": {
      "text/plain": [
       "'    t    word'"
      ]
     },
     "execution_count": 13,
     "metadata": {},
     "output_type": "execute_result"
    }
   ],
   "source": [
    "'    t    word'.rstrip() "
   ]
  },
  {
   "cell_type": "markdown",
   "id": "1413d3d5",
   "metadata": {},
   "source": [
    "#### `replace(), strip() 함께 사용 가능`"
   ]
  },
  {
   "cell_type": "code",
   "execution_count": 15,
   "id": "21653177",
   "metadata": {},
   "outputs": [
    {
     "data": {
      "text/plain": [
       "'chorD'"
      ]
     },
     "execution_count": 15,
     "metadata": {},
     "output_type": "execute_result"
    }
   ],
   "source": [
    "word = '    \\t        word'\n",
    "word.replace('w', 'ch').strip().replace('d', 'D') #함수에 대한 결과 자료형이 string으로 동일하기 때문에 가능"
   ]
  },
  {
   "cell_type": "code",
   "execution_count": 17,
   "id": "b25c9d89",
   "metadata": {
    "scrolled": false
   },
   "outputs": [
    {
     "data": {
      "text/plain": [
       "'    \\t        word'"
      ]
     },
     "execution_count": 17,
     "metadata": {},
     "output_type": "execute_result"
    }
   ],
   "source": [
    "word"
   ]
  },
  {
   "cell_type": "code",
   "execution_count": 21,
   "id": "5d40d070",
   "metadata": {},
   "outputs": [],
   "source": [
    "#실제로 chorD라고 할당되지 않음. 값을 새로 할당해줘야 함\n",
    "word = word.replace('w', 'ch').strip().replace('d', 'D')"
   ]
  },
  {
   "cell_type": "markdown",
   "id": "1da52dd4",
   "metadata": {},
   "source": [
    "### `find(string) : 오프셋을 반환`\n",
    "    - lfind, rfind 존재\n",
    "    - 공백 포함해서 find함\n",
    "    - 중복되는 값이 존재한다면 1번째 값의 인덱스를 우선으로 반환\n",
    "    - 찾는 값이 없는 경우 -1 반환"
   ]
  },
  {
   "cell_type": "code",
   "execution_count": 25,
   "id": "3f5c550d",
   "metadata": {},
   "outputs": [
    {
     "data": {
      "text/plain": [
       "11"
      ]
     },
     "execution_count": 25,
     "metadata": {},
     "output_type": "execute_result"
    }
   ],
   "source": [
    "word2 = '    \\t      wordwwww'\n",
    "word2.find('w')\n",
    "#공백 포함해서 계산"
   ]
  },
  {
   "cell_type": "markdown",
   "id": "62d44787",
   "metadata": {},
   "source": [
    "### `index(string):string의 index 반환`\n",
    "- find()와 유사\n",
    "- 찾는 값이 없을 경우 find()는 -1반환, index()는 error 발생"
   ]
  },
  {
   "cell_type": "code",
   "execution_count": 27,
   "id": "29d2747c",
   "metadata": {},
   "outputs": [
    {
     "data": {
      "text/plain": [
       "11"
      ]
     },
     "execution_count": 27,
     "metadata": {},
     "output_type": "execute_result"
    }
   ],
   "source": [
    "#index()도 유사\n",
    "word2.index('w')"
   ]
  },
  {
   "cell_type": "code",
   "execution_count": 28,
   "id": "8b6717ed",
   "metadata": {},
   "outputs": [
    {
     "data": {
      "text/plain": [
       "-1"
      ]
     },
     "execution_count": 28,
     "metadata": {},
     "output_type": "execute_result"
    }
   ],
   "source": [
    "#없는 단어의 경우 find는 -1이 반환\n",
    "word2.find('a')"
   ]
  },
  {
   "cell_type": "code",
   "execution_count": 29,
   "id": "8100b589",
   "metadata": {},
   "outputs": [
    {
     "ename": "ValueError",
     "evalue": "substring not found",
     "output_type": "error",
     "traceback": [
      "\u001b[1;31m---------------------------------------------------------------------------\u001b[0m",
      "\u001b[1;31mValueError\u001b[0m                                Traceback (most recent call last)",
      "\u001b[1;32m~\\AppData\\Local\\Temp/ipykernel_25220/894359598.py\u001b[0m in \u001b[0;36m<module>\u001b[1;34m\u001b[0m\n\u001b[0;32m      1\u001b[0m \u001b[1;31m#index는 error가 반환됨\u001b[0m\u001b[1;33m\u001b[0m\u001b[1;33m\u001b[0m\u001b[0m\n\u001b[1;32m----> 2\u001b[1;33m \u001b[0mword2\u001b[0m\u001b[1;33m.\u001b[0m\u001b[0mindex\u001b[0m\u001b[1;33m(\u001b[0m\u001b[1;34m'a'\u001b[0m\u001b[1;33m)\u001b[0m\u001b[1;33m\u001b[0m\u001b[1;33m\u001b[0m\u001b[0m\n\u001b[0m",
      "\u001b[1;31mValueError\u001b[0m: substring not found"
     ]
    }
   ],
   "source": [
    "#index는 error가 반환됨\n",
    "word2.index('a')"
   ]
  },
  {
   "cell_type": "markdown",
   "id": "2c37bb89",
   "metadata": {},
   "source": [
    "### 3. NLTK 내장 함수\n",
    "- NLTK 전용 함수들\n",
    "- 자연어처리와 관련된 함수들\n",
    "\n",
    "`method의 형식 : .method`\n",
    "- list.method(var)"
   ]
  },
  {
   "cell_type": "markdown",
   "id": "8721d602",
   "metadata": {},
   "source": [
    "### `concordance(str)`\n",
    "- 특정 string이 어떤 문맥에서 쓰이는가"
   ]
  },
  {
   "cell_type": "code",
   "execution_count": 39,
   "id": "7409fb48",
   "metadata": {},
   "outputs": [
    {
     "name": "stdout",
     "output_type": "stream",
     "text": [
      "Displaying 25 of 1226 matches:\n",
      "s , and to teach them by what name a whale - fish is to be called in our tongue\n",
      "t which is not true .\" -- HACKLUYT \" WHALE . ... Sw . and Dan . HVAL . This ani\n",
      "ulted .\" -- WEBSTER ' S DICTIONARY \" WHALE . ... It is more immediately from th\n",
      "ISH . WAL , DUTCH . HWAL , SWEDISH . WHALE , ICELANDIC . WHALE , ENGLISH . BALE\n",
      "HWAL , SWEDISH . WHALE , ICELANDIC . WHALE , ENGLISH . BALEINE , FRENCH . BALLE\n",
      "least , take the higgledy - piggledy whale statements , however authentic , in \n",
      " dreadful gulf of this monster ' s ( whale ' s ) mouth , are immediately lost a\n",
      " patient Job .\" -- RABELAIS . \" This whale ' s liver was two cartloads .\" -- ST\n",
      " Touching that monstrous bulk of the whale or ork we have received nothing cert\n",
      " of oil will be extracted out of one whale .\" -- IBID . \" HISTORY OF LIFE AND D\n",
      "ise .\" -- KING HENRY . \" Very like a whale .\" -- HAMLET . \" Which to secure , n\n",
      "restless paine , Like as the wounded whale to shore flies thro ' the maine .\" -\n",
      ". OF SPERMA CETI AND THE SPERMA CETI WHALE . VIDE HIS V . E . \" Like Spencer ' \n",
      "t had been a sprat in the mouth of a whale .\" -- PILGRIM ' S PROGRESS . \" That \n",
      "EN ' S ANNUS MIRABILIS . \" While the whale is floating at the stern of the ship\n",
      "e ship called The Jonas - in - the - Whale . ... Some say the whale can ' t ope\n",
      " in - the - Whale . ... Some say the whale can ' t open his mouth , but that is\n",
      " masts to see whether they can see a whale , for the first discoverer has a duc\n",
      " for his pains . ... I was told of a whale taken near Shetland , that had above\n",
      "oneers told me that he caught once a whale in Spitzbergen that was white all ov\n",
      "2 , one eighty feet in length of the whale - bone kind came in , which ( as I w\n",
      "n master and kill this Sperma - ceti whale , for I could never hear of any of t\n",
      " . 1729 . \"... and the breath of the whale is frequendy attended with such an i\n",
      "ed with hoops and armed with ribs of whale .\" -- RAPE OF THE LOCK . \" If we com\n",
      "contemptible in the comparison . The whale is doubtless the largest animal in c\n"
     ]
    }
   ],
   "source": [
    "#주어진 string의 문맥\n",
    "text1.concordance('whale')"
   ]
  },
  {
   "cell_type": "markdown",
   "id": "8d762eb8",
   "metadata": {},
   "source": [
    "### `similar(str)`\n",
    "- 주어진 string과 비슷한 문맥에서 사용되는 단어들"
   ]
  },
  {
   "cell_type": "code",
   "execution_count": 38,
   "id": "377d23c4",
   "metadata": {},
   "outputs": [
    {
     "name": "stdout",
     "output_type": "stream",
     "text": [
      "ship boat sea time captain world man deck pequod other whales air\n",
      "water head crew line thing side way body\n"
     ]
    }
   ],
   "source": [
    "#whale를 기준으로 앞/뒤 문맥을 알 수 있음\n",
    "text1.similar('whale')"
   ]
  },
  {
   "cell_type": "markdown",
   "id": "82a7e9ac",
   "metadata": {},
   "source": [
    "### `common_contexts(list)`\n",
    "- 주어진 string(list내부에 list형식으로 들어감)이 공유하는 문맥을 찾아줌"
   ]
  },
  {
   "cell_type": "code",
   "execution_count": 37,
   "id": "5825d921",
   "metadata": {},
   "outputs": [
    {
     "name": "stdout",
     "output_type": "stream",
     "text": [
      "am_glad a_pretty a_lucky is_pretty be_glad\n"
     ]
    }
   ],
   "source": [
    "#monstrous와 very가 어떤 문맥에서 유사하게 쓰이는지 알려줌\n",
    "text2.common_contexts(['monstrous','very'])"
   ]
  },
  {
   "cell_type": "markdown",
   "id": "19f878f0",
   "metadata": {},
   "source": [
    "### `dispersion_plot()`\n",
    "- 주어진 string들이 text의 어느 위치에 나오는지 이미지화\n",
    "- 오류가 나면 matplotlib 설치"
   ]
  },
  {
   "cell_type": "code",
   "execution_count": 41,
   "id": "e4ca709c",
   "metadata": {},
   "outputs": [],
   "source": [
    "# !pip install matplotlib"
   ]
  },
  {
   "cell_type": "code",
   "execution_count": 13,
   "id": "956af230",
   "metadata": {
    "scrolled": true
   },
   "outputs": [
    {
     "data": {
      "image/png": "[encoded data removed]",
      "text/plain": [
       "<Figure size 432x288 with 1 Axes>"
      ]
     },
     "metadata": {
      "needs_background": "light"
     },
     "output_type": "display_data"
    }
   ],
   "source": [
    "text4.dispersion_plot(['citizens', 'America', 'freedom'])"
   ]
  },
  {
   "cell_type": "code",
   "execution_count": null,
   "id": "3eca6c00",
   "metadata": {},
   "outputs": [],
   "source": [
    "y = 3x + 1"
   ]
  },
  {
   "cell_type": "markdown",
   "id": "8f7466b0",
   "metadata": {},
   "source": [
    "### 4. Frequency Distribution\n",
    "- 단어의 빈도수를 활용할 수 있는 많은 메소드 제공\n",
    "\n",
    "- 단어 빈도수가 왜 중요한가?\n",
    "    - 자연어처리 : 인간의 언어를 컴퓨터가 인식할 수 있게 하는 것\n",
    "    - 단어 특징을 뽑아낼 때 가장 많이 사용하는 특징들\n",
    "        - 전체 단어 수\n",
    "        - 특정 단어의 빈도수\n",
    "        * 즉, 빈도수를 가장 많이 사용함"
   ]
  },
  {
   "cell_type": "markdown",
   "id": "30f768d8",
   "metadata": {},
   "source": [
    "### `FreqDist(text)`\n",
    "- 주로 fdist로 받음\n",
    "- dictionary 타입\n",
    "    - (key:value) = (단어, 빈도수)"
   ]
  },
  {
   "cell_type": "code",
   "execution_count": 43,
   "id": "bb1a3d9f",
   "metadata": {
    "scrolled": true
   },
   "outputs": [
    {
     "data": {
      "text/plain": [
       "FreqDist({',': 18713, 'the': 13721, '.': 6862, 'of': 6536, 'and': 6024, 'a': 4569, 'to': 4542, ';': 4072, 'in': 3916, 'that': 2982, ...})"
      ]
     },
     "execution_count": 43,
     "metadata": {},
     "output_type": "execute_result"
    }
   ],
   "source": [
    "fdist = FreqDist(text1)\n",
    "fdist"
   ]
  },
  {
   "cell_type": "markdown",
   "id": "b1865dc7",
   "metadata": {},
   "source": [
    "### `.most_common(단어개수)`"
   ]
  },
  {
   "cell_type": "code",
   "execution_count": 44,
   "id": "f6341a4b",
   "metadata": {
    "scrolled": true
   },
   "outputs": [
    {
     "data": {
      "text/plain": [
       "[(',', 18713),\n",
       " ('the', 13721),\n",
       " ('.', 6862),\n",
       " ('of', 6536),\n",
       " ('and', 6024),\n",
       " ('a', 4569),\n",
       " ('to', 4542),\n",
       " (';', 4072),\n",
       " ('in', 3916),\n",
       " ('that', 2982)]"
      ]
     },
     "execution_count": 44,
     "metadata": {},
     "output_type": "execute_result"
    }
   ],
   "source": [
    "fdist.most_common(10) #가장 많이 등장한 단어 10개 출력 후, 등장 횟수까지"
   ]
  },
  {
   "cell_type": "markdown",
   "id": "f1274e25",
   "metadata": {},
   "source": [
    "### `['word']`\n",
    "- 특정 word의 등장횟수\n",
    "- 앞에서 사용한 .count()와 똑같은 기능"
   ]
  },
  {
   "cell_type": "code",
   "execution_count": 15,
   "id": "ba501d1d",
   "metadata": {
    "scrolled": false
   },
   "outputs": [
    {
     "data": {
      "text/plain": [
       "(906, 906)"
      ]
     },
     "execution_count": 15,
     "metadata": {},
     "output_type": "execute_result"
    }
   ],
   "source": [
    "fdist['whale'], text1.count('whale')"
   ]
  },
  {
   "cell_type": "markdown",
   "id": "6934a994",
   "metadata": {},
   "source": [
    "### `.freq('word')`\n",
    "* 전체 단어 中 특정 word가 차지하는 비율"
   ]
  },
  {
   "cell_type": "code",
   "execution_count": 46,
   "id": "b040d397",
   "metadata": {},
   "outputs": [
    {
     "data": {
      "text/plain": [
       "0.003473673313677301"
      ]
     },
     "execution_count": 46,
     "metadata": {},
     "output_type": "execute_result"
    }
   ],
   "source": [
    "fdist.freq('whale') #rate으로 반환"
   ]
  },
  {
   "cell_type": "markdown",
   "id": "6132cc68",
   "metadata": {},
   "source": [
    "### `.plot()`"
   ]
  },
  {
   "cell_type": "code",
   "execution_count": 47,
   "id": "d90b205b",
   "metadata": {},
   "outputs": [
    {
     "data": {
      "image/png": "[encoded data removed]",
      "text/plain": [
       "<Figure size 432x288 with 1 Axes>"
      ]
     },
     "metadata": {
      "needs_background": "light"
     },
     "output_type": "display_data"
    },
    {
     "data": {
      "text/plain": [
       "<AxesSubplot:xlabel='Samples', ylabel='Cumulative Counts'>"
      ]
     },
     "execution_count": 47,
     "metadata": {},
     "output_type": "execute_result"
    }
   ],
   "source": [
    "#가장 많은 빈도부터 50개 출력. 가장 많이 등장하는 것부터 출력. 완만할수록 별로 안나타는 단어들\n",
    "fdist.plot(50, cumulative = True)"
   ]
  },
  {
   "cell_type": "code",
   "execution_count": 20,
   "id": "01252df1",
   "metadata": {
    "scrolled": false
   },
   "outputs": [
    {
     "data": {
      "image/png": "[encoded data removed]",
      "text/plain": [
       "<Figure size 432x288 with 1 Axes>"
      ]
     },
     "metadata": {
      "needs_background": "light"
     },
     "output_type": "display_data"
    },
    {
     "data": {
      "text/plain": [
       "<AxesSubplot:xlabel='Samples', ylabel='Counts'>"
      ]
     },
     "execution_count": 20,
     "metadata": {},
     "output_type": "execute_result"
    }
   ],
   "source": [
    "fdist.plot(50, cumulative = False)"
   ]
  },
  {
   "cell_type": "markdown",
   "id": "844d67d0",
   "metadata": {},
   "source": [
    "### `.hapaxes()`\n",
    "* 전체 text 中 1번만 등장하는 단어를 출력함\n",
    "* fdist는 딕셔너리 형태라 중복은 이미 제거된 상태\n",
    "* 대소문자를 구분함"
   ]
  },
  {
   "cell_type": "code",
   "execution_count": 50,
   "id": "a7c7c31e",
   "metadata": {
    "scrolled": false
   },
   "outputs": [
    {
     "data": {
      "text/plain": [
       "['Herman', 'Melville', ']', 'ETYMOLOGY', 'Late']"
      ]
     },
     "execution_count": 50,
     "metadata": {},
     "output_type": "execute_result"
    }
   ],
   "source": [
    "fdist.hapaxes()[:5] #너무 많아서 5개만 출력해보기"
   ]
  },
  {
   "cell_type": "code",
   "execution_count": 51,
   "id": "c9abf644",
   "metadata": {},
   "outputs": [
    {
     "data": {
      "text/plain": [
       "9002"
      ]
     },
     "execution_count": 51,
     "metadata": {},
     "output_type": "execute_result"
    }
   ],
   "source": [
    "len(fdist.hapaxes()) #1번만 등장하는 단어들의 총 개수는?"
   ]
  },
  {
   "cell_type": "code",
   "execution_count": 52,
   "id": "ea8345c7",
   "metadata": {},
   "outputs": [
    {
     "data": {
      "text/plain": [
       "9002"
      ]
     },
     "execution_count": 52,
     "metadata": {},
     "output_type": "execute_result"
    }
   ],
   "source": [
    "len(set(fdist.hapaxes())) #출력값이 같으므로 중복이 아님을 확인할 수 있음"
   ]
  },
  {
   "cell_type": "markdown",
   "id": "02435660",
   "metadata": {},
   "source": [
    "### 5. List & List comprehension\n",
    "- 우리의 목표는 text 中 원하는 단어의 정보를 찾는 것\n",
    "- 리스트 : 프로그래밍에서는 배열(array), 파이썬에서는 리스트(list)라고 부름\n",
    "- 하나의 변수에 여러 값을 할당하는 자료형\n",
    "    - a = [1, 2, 3, 4]\n",
    "- 대괄호로 선언 []\n",
    "- 내부 요소들은 자료형이 달라도 됨\n",
    "    - a = [1, True, 'hello']\n",
    "- 순서가 있다 => 인덱싱, 슬라이싱 기능\n",
    "- 빈 리스트 선언\n",
    "    * list()\n",
    "    * []"
   ]
  },
  {
   "cell_type": "code",
   "execution_count": 62,
   "id": "b6458b48",
   "metadata": {},
   "outputs": [
    {
     "data": {
      "text/plain": [
       "1"
      ]
     },
     "execution_count": 62,
     "metadata": {},
     "output_type": "execute_result"
    }
   ],
   "source": [
    "a = [1, True, 'hello']\n",
    "\n",
    "#인덱싱\n",
    "a[0]"
   ]
  },
  {
   "cell_type": "code",
   "execution_count": 64,
   "id": "fa84f7d2",
   "metadata": {},
   "outputs": [
    {
     "data": {
      "text/plain": [
       "['hello', True, 1]"
      ]
     },
     "execution_count": 64,
     "metadata": {},
     "output_type": "execute_result"
    }
   ],
   "source": [
    "#리스트 슬라이싱, 출력\n",
    "a[::-1] #리스트의 원소를 역순으로 출력"
   ]
  },
  {
   "cell_type": "code",
   "execution_count": 61,
   "id": "a429f7ef",
   "metadata": {},
   "outputs": [],
   "source": [
    "#빈 리스트 선언\n",
    "b = []\n",
    "b = list()"
   ]
  },
  {
   "cell_type": "code",
   "execution_count": 58,
   "id": "ed0b68d7",
   "metadata": {},
   "outputs": [
    {
     "data": {
      "text/plain": [
       "'mojito'"
      ]
     },
     "execution_count": 58,
     "metadata": {},
     "output_type": "execute_result"
    }
   ],
   "source": [
    "drinks = ['rum', 'mojito', 'soju']\n",
    "drinks[1]"
   ]
  },
  {
   "cell_type": "code",
   "execution_count": 65,
   "id": "9713e72f",
   "metadata": {},
   "outputs": [
    {
     "data": {
      "text/plain": [
       "2"
      ]
     },
     "execution_count": 65,
     "metadata": {},
     "output_type": "execute_result"
    }
   ],
   "source": [
    "#인덱싱2\n",
    "#drinks에서 soju의 offset(위치)을 알고 싶다.\n",
    "drinks.index('soju')"
   ]
  },
  {
   "cell_type": "markdown",
   "id": "85293861",
   "metadata": {},
   "source": [
    "### 5-1. list comprehension\n",
    "- 지능형 리스트\n",
    "- 주어진 리스트를 포함하는 새로운 리스트를 형성하는 것\n",
    "- list + for_loop 한 줄로 해결하는 방식\n",
    "- [A for A' in B]\n",
    "    - B에 있는 A'에서 A를 가진 리스트를 반환\n",
    "    - B: 기존의 리스트\n",
    "    - A' :B의 자료 형태\n",
    "    - A: 새로운 리스트의 요소   "
   ]
  },
  {
   "cell_type": "code",
   "execution_count": 60,
   "id": "a21e0b39",
   "metadata": {},
   "outputs": [
    {
     "data": {
      "text/plain": [
       "['rum', 'mojito', 'soju']"
      ]
     },
     "execution_count": 60,
     "metadata": {},
     "output_type": "execute_result"
    }
   ],
   "source": [
    "[d for d in drinks] #기본 형식 #이걸 외워서 이 형태를 활용"
   ]
  },
  {
   "cell_type": "code",
   "execution_count": 66,
   "id": "5d626f9a",
   "metadata": {},
   "outputs": [
    {
     "data": {
      "text/plain": [
       "['r', 'm', 's']"
      ]
     },
     "execution_count": 66,
     "metadata": {},
     "output_type": "execute_result"
    }
   ],
   "source": [
    "[d[0] for d in drinks] #리스트 원소의 첫글자만 출력"
   ]
  },
  {
   "cell_type": "markdown",
   "id": "1483edde",
   "metadata": {},
   "source": [
    "### 5-1-1. 조건을 만족시키는 단어들만 빼오기\n",
    "- 조건+ : [A for A' in B if <조건식>]\n",
    "    - [A for A' in B if <조건식> and <조건식>, ...]"
   ]
  },
  {
   "cell_type": "markdown",
   "id": "e497be19",
   "metadata": {},
   "source": [
    "### `Quiz1` text1 알파벳 수가 10이상인 단어 출력하기\n",
    "\n",
    "#### step1. [기본 문법] 모든 텍스트가 반환됨"
   ]
  },
  {
   "cell_type": "code",
   "execution_count": 71,
   "id": "0f9ad4db",
   "metadata": {
    "scrolled": true
   },
   "outputs": [
    {
     "data": {
      "text/plain": [
       "['[',\n",
       " 'Moby',\n",
       " 'Dick',\n",
       " 'by',\n",
       " 'Herman',\n",
       " 'Melville',\n",
       " '1851',\n",
       " ']',\n",
       " 'ETYMOLOGY',\n",
       " '.',\n",
       " '(',\n",
       " 'Supplied',\n",
       " 'by',\n",
       " 'a',\n",
       " 'Late',\n",
       " 'Consumptive',\n",
       " 'Usher',\n",
       " 'to',\n",
       " 'a',\n",
       " 'Grammar',\n",
       " 'School',\n",
       " ')',\n",
       " 'The',\n",
       " 'pale',\n",
       " 'Usher',\n",
       " '--',\n",
       " 'threadbare',\n",
       " 'in',\n",
       " 'coat',\n",
       " ',',\n",
       " 'heart',\n",
       " ',',\n",
       " 'body',\n",
       " ',',\n",
       " 'and',\n",
       " 'brain',\n",
       " ';',\n",
       " 'I',\n",
       " 'see',\n",
       " 'him',\n",
       " 'now',\n",
       " '.',\n",
       " 'He',\n",
       " 'was',\n",
       " 'ever',\n",
       " 'dusting',\n",
       " 'his',\n",
       " 'old',\n",
       " 'lexicons',\n",
       " 'and',\n",
       " 'grammars',\n",
       " ',',\n",
       " 'with',\n",
       " 'a',\n",
       " 'queer',\n",
       " 'handkerchief',\n",
       " ',',\n",
       " 'mockingly',\n",
       " 'embellished',\n",
       " 'with',\n",
       " 'all',\n",
       " 'the',\n",
       " 'gay',\n",
       " 'flags',\n",
       " 'of',\n",
       " 'all',\n",
       " 'the',\n",
       " 'known',\n",
       " 'nations',\n",
       " 'of',\n",
       " 'the',\n",
       " 'world',\n",
       " '.',\n",
       " 'He',\n",
       " 'loved',\n",
       " 'to',\n",
       " 'dust',\n",
       " 'his',\n",
       " 'old',\n",
       " 'grammars',\n",
       " ';',\n",
       " 'it',\n",
       " 'somehow',\n",
       " 'mildly',\n",
       " 'reminded',\n",
       " 'him',\n",
       " 'of',\n",
       " 'his',\n",
       " 'mortality',\n",
       " '.',\n",
       " '\"',\n",
       " 'While',\n",
       " 'you',\n",
       " 'take',\n",
       " 'in',\n",
       " 'hand',\n",
       " 'to',\n",
       " 'school',\n",
       " 'others',\n",
       " ',',\n",
       " 'and',\n",
       " 'to',\n",
       " 'teach',\n",
       " 'them',\n",
       " 'by',\n",
       " 'what',\n",
       " 'name',\n",
       " 'a',\n",
       " 'whale',\n",
       " '-',\n",
       " 'fish',\n",
       " 'is',\n",
       " 'to',\n",
       " 'be',\n",
       " 'called',\n",
       " 'in',\n",
       " 'our',\n",
       " 'tongue',\n",
       " 'leaving',\n",
       " 'out',\n",
       " ',',\n",
       " 'through',\n",
       " 'ignorance',\n",
       " ',',\n",
       " 'the',\n",
       " 'letter',\n",
       " 'H',\n",
       " ',',\n",
       " 'which',\n",
       " 'almost',\n",
       " 'alone',\n",
       " 'maketh',\n",
       " 'the',\n",
       " 'signification',\n",
       " 'of',\n",
       " 'the',\n",
       " 'word',\n",
       " ',',\n",
       " 'you',\n",
       " 'deliver',\n",
       " 'that',\n",
       " 'which',\n",
       " 'is',\n",
       " 'not',\n",
       " 'true',\n",
       " '.\"',\n",
       " '--',\n",
       " 'HACKLUYT',\n",
       " '\"',\n",
       " 'WHALE',\n",
       " '.',\n",
       " '...',\n",
       " 'Sw',\n",
       " '.',\n",
       " 'and',\n",
       " 'Dan',\n",
       " '.',\n",
       " 'HVAL',\n",
       " '.',\n",
       " 'This',\n",
       " 'animal',\n",
       " 'is',\n",
       " 'named',\n",
       " 'from',\n",
       " 'roundness',\n",
       " 'or',\n",
       " 'rolling',\n",
       " ';',\n",
       " 'for',\n",
       " 'in',\n",
       " 'Dan',\n",
       " '.',\n",
       " 'HVALT',\n",
       " 'is',\n",
       " 'arched',\n",
       " 'or',\n",
       " 'vaulted',\n",
       " '.\"',\n",
       " '--',\n",
       " 'WEBSTER',\n",
       " \"'\",\n",
       " 'S',\n",
       " 'DICTIONARY',\n",
       " '\"',\n",
       " 'WHALE',\n",
       " '.',\n",
       " '...',\n",
       " 'It',\n",
       " 'is',\n",
       " 'more',\n",
       " 'immediately',\n",
       " 'from',\n",
       " 'the',\n",
       " 'Dut',\n",
       " '.',\n",
       " 'and',\n",
       " 'Ger',\n",
       " '.',\n",
       " 'WALLEN',\n",
       " ';',\n",
       " 'A',\n",
       " '.',\n",
       " 'S',\n",
       " '.',\n",
       " 'WALW',\n",
       " '-',\n",
       " 'IAN',\n",
       " ',',\n",
       " 'to',\n",
       " 'roll',\n",
       " ',',\n",
       " 'to',\n",
       " 'wallow',\n",
       " '.\"',\n",
       " '--',\n",
       " 'RICHARDSON',\n",
       " \"'\",\n",
       " 'S',\n",
       " 'DICTIONARY',\n",
       " 'KETOS',\n",
       " ',',\n",
       " 'GREEK',\n",
       " '.',\n",
       " 'CETUS',\n",
       " ',',\n",
       " 'LATIN',\n",
       " '.',\n",
       " 'WHOEL',\n",
       " ',',\n",
       " 'ANGLO',\n",
       " '-',\n",
       " 'SAXON',\n",
       " '.',\n",
       " 'HVALT',\n",
       " ',',\n",
       " 'DANISH',\n",
       " '.',\n",
       " 'WAL',\n",
       " ',',\n",
       " 'DUTCH',\n",
       " '.',\n",
       " 'HWAL',\n",
       " ',',\n",
       " 'SWEDISH',\n",
       " '.',\n",
       " 'WHALE',\n",
       " ',',\n",
       " 'ICELANDIC',\n",
       " '.',\n",
       " 'WHALE',\n",
       " ',',\n",
       " 'ENGLISH',\n",
       " '.',\n",
       " 'BALEINE',\n",
       " ',',\n",
       " 'FRENCH',\n",
       " '.',\n",
       " 'BALLENA',\n",
       " ',',\n",
       " 'SPANISH',\n",
       " '.',\n",
       " 'PEKEE',\n",
       " '-',\n",
       " 'NUEE',\n",
       " '-',\n",
       " 'NUEE',\n",
       " ',',\n",
       " 'FEGEE',\n",
       " '.',\n",
       " 'PEKEE',\n",
       " '-',\n",
       " 'NUEE',\n",
       " '-',\n",
       " 'NUEE',\n",
       " ',',\n",
       " 'ERROMANGOAN',\n",
       " '.',\n",
       " 'EXTRACTS',\n",
       " '(',\n",
       " 'Supplied',\n",
       " 'by',\n",
       " 'a',\n",
       " 'Sub',\n",
       " '-',\n",
       " 'Sub',\n",
       " '-',\n",
       " 'Librarian',\n",
       " ').',\n",
       " 'It',\n",
       " 'will',\n",
       " 'be',\n",
       " 'seen',\n",
       " 'that',\n",
       " 'this',\n",
       " 'mere',\n",
       " 'painstaking',\n",
       " 'burrower',\n",
       " 'and',\n",
       " 'grub',\n",
       " '-',\n",
       " 'worm',\n",
       " 'of',\n",
       " 'a',\n",
       " 'poor',\n",
       " 'devil',\n",
       " 'of',\n",
       " 'a',\n",
       " 'Sub',\n",
       " '-',\n",
       " 'Sub',\n",
       " 'appears',\n",
       " 'to',\n",
       " 'have',\n",
       " 'gone',\n",
       " 'through',\n",
       " 'the',\n",
       " 'long',\n",
       " 'Vaticans',\n",
       " 'and',\n",
       " 'street',\n",
       " '-',\n",
       " 'stalls',\n",
       " 'of',\n",
       " 'the',\n",
       " 'earth',\n",
       " ',',\n",
       " 'picking',\n",
       " 'up',\n",
       " 'whatever',\n",
       " 'random',\n",
       " 'allusions',\n",
       " 'to',\n",
       " 'whales',\n",
       " 'he',\n",
       " 'could',\n",
       " 'anyways',\n",
       " 'find',\n",
       " 'in',\n",
       " 'any',\n",
       " 'book',\n",
       " 'whatsoever',\n",
       " ',',\n",
       " 'sacred',\n",
       " 'or',\n",
       " 'profane',\n",
       " '.',\n",
       " 'Therefore',\n",
       " 'you',\n",
       " 'must',\n",
       " 'not',\n",
       " ',',\n",
       " 'in',\n",
       " 'every',\n",
       " 'case',\n",
       " 'at',\n",
       " 'least',\n",
       " ',',\n",
       " 'take',\n",
       " 'the',\n",
       " 'higgledy',\n",
       " '-',\n",
       " 'piggledy',\n",
       " 'whale',\n",
       " 'statements',\n",
       " ',',\n",
       " 'however',\n",
       " 'authentic',\n",
       " ',',\n",
       " 'in',\n",
       " 'these',\n",
       " 'extracts',\n",
       " ',',\n",
       " 'for',\n",
       " 'veritable',\n",
       " 'gospel',\n",
       " 'cetology',\n",
       " '.',\n",
       " 'Far',\n",
       " 'from',\n",
       " 'it',\n",
       " '.',\n",
       " 'As',\n",
       " 'touching',\n",
       " 'the',\n",
       " 'ancient',\n",
       " 'authors',\n",
       " 'generally',\n",
       " ',',\n",
       " 'as',\n",
       " 'well',\n",
       " 'as',\n",
       " 'the',\n",
       " 'poets',\n",
       " 'here',\n",
       " 'appearing',\n",
       " ',',\n",
       " 'these',\n",
       " 'extracts',\n",
       " 'are',\n",
       " 'solely',\n",
       " 'valuable',\n",
       " 'or',\n",
       " 'entertaining',\n",
       " ',',\n",
       " 'as',\n",
       " 'affording',\n",
       " 'a',\n",
       " 'glancing',\n",
       " 'bird',\n",
       " \"'\",\n",
       " 's',\n",
       " 'eye',\n",
       " 'view',\n",
       " 'of',\n",
       " 'what',\n",
       " 'has',\n",
       " 'been',\n",
       " 'promiscuously',\n",
       " 'said',\n",
       " ',',\n",
       " 'thought',\n",
       " ',',\n",
       " 'fancied',\n",
       " ',',\n",
       " 'and',\n",
       " 'sung',\n",
       " 'of',\n",
       " 'Leviathan',\n",
       " ',',\n",
       " 'by',\n",
       " 'many',\n",
       " 'nations',\n",
       " 'and',\n",
       " 'generations',\n",
       " ',',\n",
       " 'including',\n",
       " 'our',\n",
       " 'own',\n",
       " '.',\n",
       " 'So',\n",
       " 'fare',\n",
       " 'thee',\n",
       " 'well',\n",
       " ',',\n",
       " 'poor',\n",
       " 'devil',\n",
       " 'of',\n",
       " 'a',\n",
       " 'Sub',\n",
       " '-',\n",
       " 'Sub',\n",
       " ',',\n",
       " 'whose',\n",
       " 'commentator',\n",
       " 'I',\n",
       " 'am',\n",
       " '.',\n",
       " 'Thou',\n",
       " 'belongest',\n",
       " 'to',\n",
       " 'that',\n",
       " 'hopeless',\n",
       " ',',\n",
       " 'sallow',\n",
       " 'tribe',\n",
       " 'which',\n",
       " 'no',\n",
       " 'wine',\n",
       " 'of',\n",
       " 'this',\n",
       " 'world',\n",
       " 'will',\n",
       " 'ever',\n",
       " 'warm',\n",
       " ';',\n",
       " 'and',\n",
       " 'for',\n",
       " 'whom',\n",
       " 'even',\n",
       " 'Pale',\n",
       " 'Sherry',\n",
       " 'would',\n",
       " 'be',\n",
       " 'too',\n",
       " 'rosy',\n",
       " '-',\n",
       " 'strong',\n",
       " ';',\n",
       " 'but',\n",
       " 'with',\n",
       " 'whom',\n",
       " 'one',\n",
       " 'sometimes',\n",
       " 'loves',\n",
       " 'to',\n",
       " 'sit',\n",
       " ',',\n",
       " 'and',\n",
       " 'feel',\n",
       " 'poor',\n",
       " '-',\n",
       " 'devilish',\n",
       " ',',\n",
       " 'too',\n",
       " ';',\n",
       " 'and',\n",
       " 'grow',\n",
       " 'convivial',\n",
       " 'upon',\n",
       " 'tears',\n",
       " ';',\n",
       " 'and',\n",
       " 'say',\n",
       " 'to',\n",
       " 'them',\n",
       " 'bluntly',\n",
       " ',',\n",
       " 'with',\n",
       " 'full',\n",
       " 'eyes',\n",
       " 'and',\n",
       " 'empty',\n",
       " 'glasses',\n",
       " ',',\n",
       " 'and',\n",
       " 'in',\n",
       " 'not',\n",
       " 'altogether',\n",
       " 'unpleasant',\n",
       " 'sadness',\n",
       " '--',\n",
       " 'Give',\n",
       " 'it',\n",
       " 'up',\n",
       " ',',\n",
       " 'Sub',\n",
       " '-',\n",
       " 'Subs',\n",
       " '!',\n",
       " 'For',\n",
       " 'by',\n",
       " 'how',\n",
       " 'much',\n",
       " 'the',\n",
       " 'more',\n",
       " 'pains',\n",
       " 'ye',\n",
       " 'take',\n",
       " 'to',\n",
       " 'please',\n",
       " 'the',\n",
       " 'world',\n",
       " ',',\n",
       " 'by',\n",
       " 'so',\n",
       " 'much',\n",
       " 'the',\n",
       " 'more',\n",
       " 'shall',\n",
       " 'ye',\n",
       " 'for',\n",
       " 'ever',\n",
       " 'go',\n",
       " 'thankless',\n",
       " '!',\n",
       " 'Would',\n",
       " 'that',\n",
       " 'I',\n",
       " 'could',\n",
       " 'clear',\n",
       " 'out',\n",
       " 'Hampton',\n",
       " 'Court',\n",
       " 'and',\n",
       " 'the',\n",
       " 'Tuileries',\n",
       " 'for',\n",
       " 'ye',\n",
       " '!',\n",
       " 'But',\n",
       " 'gulp',\n",
       " 'down',\n",
       " 'your',\n",
       " 'tears',\n",
       " 'and',\n",
       " 'hie',\n",
       " 'aloft',\n",
       " 'to',\n",
       " 'the',\n",
       " 'royal',\n",
       " '-',\n",
       " 'mast',\n",
       " 'with',\n",
       " 'your',\n",
       " 'hearts',\n",
       " ';',\n",
       " 'for',\n",
       " 'your',\n",
       " 'friends',\n",
       " 'who',\n",
       " 'have',\n",
       " 'gone',\n",
       " 'before',\n",
       " 'are',\n",
       " 'clearing',\n",
       " 'out',\n",
       " 'the',\n",
       " 'seven',\n",
       " '-',\n",
       " 'storied',\n",
       " 'heavens',\n",
       " ',',\n",
       " 'and',\n",
       " 'making',\n",
       " 'refugees',\n",
       " 'of',\n",
       " 'long',\n",
       " '-',\n",
       " 'pampered',\n",
       " 'Gabriel',\n",
       " ',',\n",
       " 'Michael',\n",
       " ',',\n",
       " 'and',\n",
       " 'Raphael',\n",
       " ',',\n",
       " 'against',\n",
       " 'your',\n",
       " 'coming',\n",
       " '.',\n",
       " 'Here',\n",
       " 'ye',\n",
       " 'strike',\n",
       " 'but',\n",
       " 'splintered',\n",
       " 'hearts',\n",
       " 'together',\n",
       " '--',\n",
       " 'there',\n",
       " ',',\n",
       " 'ye',\n",
       " 'shall',\n",
       " 'strike',\n",
       " 'unsplinterable',\n",
       " 'glasses',\n",
       " '!',\n",
       " 'EXTRACTS',\n",
       " '.',\n",
       " '\"',\n",
       " 'And',\n",
       " 'God',\n",
       " 'created',\n",
       " 'great',\n",
       " 'whales',\n",
       " '.\"',\n",
       " '--',\n",
       " 'GENESIS',\n",
       " '.',\n",
       " '\"',\n",
       " 'Leviathan',\n",
       " 'maketh',\n",
       " 'a',\n",
       " 'path',\n",
       " 'to',\n",
       " 'shine',\n",
       " 'after',\n",
       " 'him',\n",
       " ';',\n",
       " 'One',\n",
       " 'would',\n",
       " 'think',\n",
       " 'the',\n",
       " 'deep',\n",
       " 'to',\n",
       " 'be',\n",
       " 'hoary',\n",
       " '.\"',\n",
       " '--',\n",
       " 'JOB',\n",
       " '.',\n",
       " '\"',\n",
       " 'Now',\n",
       " 'the',\n",
       " 'Lord',\n",
       " 'had',\n",
       " 'prepared',\n",
       " 'a',\n",
       " 'great',\n",
       " 'fish',\n",
       " 'to',\n",
       " 'swallow',\n",
       " 'up',\n",
       " 'Jonah',\n",
       " '.\"',\n",
       " '--',\n",
       " 'JONAH',\n",
       " '.',\n",
       " '\"',\n",
       " 'There',\n",
       " 'go',\n",
       " 'the',\n",
       " 'ships',\n",
       " ';',\n",
       " 'there',\n",
       " 'is',\n",
       " 'that',\n",
       " 'Leviathan',\n",
       " 'whom',\n",
       " 'thou',\n",
       " 'hast',\n",
       " 'made',\n",
       " 'to',\n",
       " 'play',\n",
       " 'therein',\n",
       " '.\"',\n",
       " '--',\n",
       " 'PSALMS',\n",
       " '.',\n",
       " '\"',\n",
       " 'In',\n",
       " 'that',\n",
       " 'day',\n",
       " ',',\n",
       " 'the',\n",
       " 'Lord',\n",
       " 'with',\n",
       " 'his',\n",
       " 'sore',\n",
       " ',',\n",
       " 'and',\n",
       " 'great',\n",
       " ',',\n",
       " 'and',\n",
       " 'strong',\n",
       " 'sword',\n",
       " ',',\n",
       " 'shall',\n",
       " 'punish',\n",
       " 'Leviathan',\n",
       " 'the',\n",
       " 'piercing',\n",
       " 'serpent',\n",
       " ',',\n",
       " 'even',\n",
       " 'Leviathan',\n",
       " 'that',\n",
       " 'crooked',\n",
       " 'serpent',\n",
       " ';',\n",
       " 'and',\n",
       " 'he',\n",
       " 'shall',\n",
       " 'slay',\n",
       " 'the',\n",
       " 'dragon',\n",
       " 'that',\n",
       " 'is',\n",
       " 'in',\n",
       " 'the',\n",
       " 'sea',\n",
       " '.\"',\n",
       " '--',\n",
       " 'ISAIAH',\n",
       " '\"',\n",
       " 'And',\n",
       " 'what',\n",
       " 'thing',\n",
       " 'soever',\n",
       " 'besides',\n",
       " 'cometh',\n",
       " 'within',\n",
       " 'the',\n",
       " 'chaos',\n",
       " 'of',\n",
       " 'this',\n",
       " 'monster',\n",
       " \"'\",\n",
       " 's',\n",
       " 'mouth',\n",
       " ',',\n",
       " 'be',\n",
       " 'it',\n",
       " 'beast',\n",
       " ',',\n",
       " 'boat',\n",
       " ',',\n",
       " 'or',\n",
       " 'stone',\n",
       " ',',\n",
       " 'down',\n",
       " 'it',\n",
       " 'goes',\n",
       " 'all',\n",
       " 'incontinently',\n",
       " 'that',\n",
       " 'foul',\n",
       " 'great',\n",
       " 'swallow',\n",
       " 'of',\n",
       " 'his',\n",
       " ',',\n",
       " 'and',\n",
       " 'perisheth',\n",
       " 'in',\n",
       " 'the',\n",
       " 'bottomless',\n",
       " 'gulf',\n",
       " 'of',\n",
       " 'his',\n",
       " 'paunch',\n",
       " '.\"',\n",
       " '--',\n",
       " 'HOLLAND',\n",
       " \"'\",\n",
       " 'S',\n",
       " 'PLUTARCH',\n",
       " \"'\",\n",
       " 'S',\n",
       " 'MORALS',\n",
       " '.',\n",
       " '\"',\n",
       " 'The',\n",
       " 'Indian',\n",
       " 'Sea',\n",
       " 'breedeth',\n",
       " 'the',\n",
       " 'most',\n",
       " 'and',\n",
       " 'the',\n",
       " 'biggest',\n",
       " 'fishes',\n",
       " 'that',\n",
       " 'are',\n",
       " ':',\n",
       " 'among',\n",
       " 'which',\n",
       " 'the',\n",
       " 'Whales',\n",
       " 'and',\n",
       " 'Whirlpooles',\n",
       " 'called',\n",
       " 'Balaene',\n",
       " ',',\n",
       " 'take',\n",
       " 'up',\n",
       " 'as',\n",
       " 'much',\n",
       " 'in',\n",
       " 'length',\n",
       " 'as',\n",
       " 'four',\n",
       " 'acres',\n",
       " 'or',\n",
       " 'arpens',\n",
       " 'of',\n",
       " 'land',\n",
       " '.\"',\n",
       " '--',\n",
       " 'HOLLAND',\n",
       " \"'\",\n",
       " 'S',\n",
       " 'PLINY',\n",
       " '.',\n",
       " '\"',\n",
       " 'Scarcely',\n",
       " 'had',\n",
       " 'we',\n",
       " 'proceeded',\n",
       " 'two',\n",
       " 'days',\n",
       " 'on',\n",
       " 'the',\n",
       " 'sea',\n",
       " ',',\n",
       " 'when',\n",
       " 'about',\n",
       " 'sunrise',\n",
       " 'a',\n",
       " 'great',\n",
       " 'many',\n",
       " 'Whales',\n",
       " 'and',\n",
       " 'other',\n",
       " 'monsters',\n",
       " 'of',\n",
       " 'the',\n",
       " 'sea',\n",
       " ',',\n",
       " 'appeared',\n",
       " '.',\n",
       " 'Among',\n",
       " 'the',\n",
       " 'former',\n",
       " ',',\n",
       " 'one',\n",
       " 'was',\n",
       " 'of',\n",
       " 'a',\n",
       " 'most',\n",
       " 'monstrous',\n",
       " 'size',\n",
       " '.',\n",
       " '...',\n",
       " 'This',\n",
       " 'came',\n",
       " 'towards',\n",
       " 'us',\n",
       " ',',\n",
       " 'open',\n",
       " '-',\n",
       " 'mouthed',\n",
       " ',',\n",
       " 'raising',\n",
       " 'the',\n",
       " 'waves',\n",
       " 'on',\n",
       " 'all',\n",
       " 'sides',\n",
       " ',',\n",
       " 'and',\n",
       " 'beating',\n",
       " 'the',\n",
       " 'sea',\n",
       " 'before',\n",
       " 'him',\n",
       " 'into',\n",
       " 'a',\n",
       " 'foam',\n",
       " '.\"',\n",
       " '--',\n",
       " 'TOOKE',\n",
       " \"'\",\n",
       " 'S',\n",
       " 'LUCIAN',\n",
       " '.',\n",
       " '\"',\n",
       " 'THE',\n",
       " 'TRUE',\n",
       " 'HISTORY',\n",
       " '.\"',\n",
       " '\"',\n",
       " 'He',\n",
       " 'visited',\n",
       " 'this',\n",
       " 'country',\n",
       " 'also',\n",
       " 'with',\n",
       " 'a',\n",
       " 'view',\n",
       " 'of',\n",
       " 'catching',\n",
       " 'horse',\n",
       " '-',\n",
       " 'whales',\n",
       " ',',\n",
       " 'which',\n",
       " 'had',\n",
       " 'bones',\n",
       " 'of',\n",
       " 'very',\n",
       " 'great',\n",
       " 'value',\n",
       " 'for',\n",
       " 'their',\n",
       " 'teeth',\n",
       " ',',\n",
       " 'of',\n",
       " 'which',\n",
       " 'he',\n",
       " 'brought',\n",
       " 'some',\n",
       " 'to',\n",
       " 'the',\n",
       " 'king',\n",
       " '.',\n",
       " '...',\n",
       " 'The',\n",
       " 'best',\n",
       " 'whales',\n",
       " 'were',\n",
       " 'catched',\n",
       " 'in',\n",
       " 'his',\n",
       " 'own',\n",
       " 'country',\n",
       " ',',\n",
       " 'of',\n",
       " 'which',\n",
       " 'some',\n",
       " 'were',\n",
       " 'forty',\n",
       " '-',\n",
       " 'eight',\n",
       " ',',\n",
       " 'some',\n",
       " 'fifty',\n",
       " 'yards',\n",
       " 'long',\n",
       " '.',\n",
       " 'He',\n",
       " ...]"
      ]
     },
     "execution_count": 71,
     "metadata": {},
     "output_type": "execute_result"
    }
   ],
   "source": [
    "[word for word in text1]"
   ]
  },
  {
   "cell_type": "markdown",
   "id": "d6cdb2ac",
   "metadata": {},
   "source": [
    "#### step2. 10자리 단어 출력"
   ]
  },
  {
   "cell_type": "code",
   "execution_count": null,
   "id": "52f82a89",
   "metadata": {},
   "outputs": [],
   "source": [
    "[word for word in text1 if len(word) >= 10]"
   ]
  },
  {
   "cell_type": "markdown",
   "id": "32dac3b3",
   "metadata": {},
   "source": [
    "#### step3. 10자리 단어의 첫자리만 출력"
   ]
  },
  {
   "cell_type": "code",
   "execution_count": 72,
   "id": "e0a459e6",
   "metadata": {},
   "outputs": [
    {
     "data": {
      "text/plain": [
       "['C',\n",
       " 't',\n",
       " 'h',\n",
       " 'e',\n",
       " 's',\n",
       " 'D',\n",
       " 'i',\n",
       " 'R',\n",
       " 'D',\n",
       " 'E',\n",
       " 'p',\n",
       " 'w',\n",
       " 's',\n",
       " 'e',\n",
       " 'p',\n",
       " 'g',\n",
       " 'c',\n",
       " 'a',\n",
       " 'u',\n",
       " 's',\n",
       " 'u',\n",
       " 'i',\n",
       " 'b',\n",
       " 'W',\n",
       " 'i',\n",
       " 'i',\n",
       " 's',\n",
       " 'p',\n",
       " 's',\n",
       " 'C',\n",
       " 'a',\n",
       " 'p',\n",
       " 'p',\n",
       " 'S',\n",
       " 'w',\n",
       " 'C',\n",
       " 'f',\n",
       " 'd',\n",
       " 'h',\n",
       " 'S',\n",
       " 'f',\n",
       " 'i',\n",
       " 'c',\n",
       " 'c',\n",
       " 't',\n",
       " 'S',\n",
       " 'N',\n",
       " 'P',\n",
       " 'c',\n",
       " 'p',\n",
       " 'B',\n",
       " 'D',\n",
       " 'm',\n",
       " 'S',\n",
       " 'S',\n",
       " 'F',\n",
       " 'm',\n",
       " 'M',\n",
       " 'i',\n",
       " 'C',\n",
       " 'f',\n",
       " 'a',\n",
       " 't',\n",
       " 'i',\n",
       " 'e',\n",
       " 'a',\n",
       " 'c',\n",
       " 'i',\n",
       " 'c',\n",
       " 'c',\n",
       " 'o',\n",
       " 'w',\n",
       " 'p',\n",
       " 'f',\n",
       " 'f',\n",
       " 'd',\n",
       " 'o',\n",
       " 'm',\n",
       " 't',\n",
       " 'i',\n",
       " 'M',\n",
       " 'p',\n",
       " 'p',\n",
       " 'A',\n",
       " 'B',\n",
       " 'A',\n",
       " 'C',\n",
       " 'D',\n",
       " 'r',\n",
       " 'i',\n",
       " 'U',\n",
       " 'i',\n",
       " 'a',\n",
       " 'P',\n",
       " 'p',\n",
       " 'p',\n",
       " 'N',\n",
       " 't',\n",
       " 'd',\n",
       " 'h',\n",
       " 'p',\n",
       " 'r',\n",
       " 'c',\n",
       " 'i',\n",
       " 'w',\n",
       " 'e',\n",
       " 'd',\n",
       " 'm',\n",
       " 's',\n",
       " 'p',\n",
       " 's',\n",
       " 'M',\n",
       " 'C',\n",
       " 'w',\n",
       " 'i',\n",
       " 'e',\n",
       " 'm',\n",
       " 'm',\n",
       " 'e',\n",
       " 'o',\n",
       " 'd',\n",
       " 'p',\n",
       " 't',\n",
       " 'u',\n",
       " 'p',\n",
       " 'q',\n",
       " 't',\n",
       " 'd',\n",
       " 'h',\n",
       " 'r',\n",
       " 't',\n",
       " 'w',\n",
       " 'c',\n",
       " 'j',\n",
       " 'j',\n",
       " 'r',\n",
       " 'r',\n",
       " 'i',\n",
       " 'f',\n",
       " 'g',\n",
       " 'u',\n",
       " 'p',\n",
       " 'e',\n",
       " 'R',\n",
       " 'H',\n",
       " 's',\n",
       " 't',\n",
       " 's',\n",
       " 'r',\n",
       " 'p',\n",
       " 's',\n",
       " 'm',\n",
       " 'p',\n",
       " 'p',\n",
       " 't',\n",
       " 'd',\n",
       " 'u',\n",
       " 'i',\n",
       " 'm',\n",
       " 'c',\n",
       " 'c',\n",
       " 'P',\n",
       " 'a',\n",
       " 'f',\n",
       " 'c',\n",
       " 'r',\n",
       " 's',\n",
       " 'i',\n",
       " 'u',\n",
       " 'P',\n",
       " 'p',\n",
       " 'P',\n",
       " 'A',\n",
       " 'm',\n",
       " 'c',\n",
       " 'p',\n",
       " 'd',\n",
       " 'o',\n",
       " 'p',\n",
       " 'm',\n",
       " 'u',\n",
       " 'P',\n",
       " 'i',\n",
       " 'e',\n",
       " 'p',\n",
       " 'd',\n",
       " 'c',\n",
       " 'b',\n",
       " 'e',\n",
       " 'm',\n",
       " 'a',\n",
       " 'a',\n",
       " 'c',\n",
       " 'c',\n",
       " 's',\n",
       " 'p',\n",
       " 'e',\n",
       " 'p',\n",
       " 'r',\n",
       " 'p',\n",
       " 'i',\n",
       " 'P',\n",
       " 'e',\n",
       " 'r',\n",
       " 'u',\n",
       " 'p',\n",
       " 'd',\n",
       " 't',\n",
       " 'E',\n",
       " 'E',\n",
       " 'n',\n",
       " 't',\n",
       " 'E',\n",
       " 'm',\n",
       " 'd',\n",
       " 'i',\n",
       " 'c',\n",
       " 's',\n",
       " 't',\n",
       " 'E',\n",
       " 'E',\n",
       " 'a',\n",
       " 'e',\n",
       " 'c',\n",
       " 'l',\n",
       " 't',\n",
       " 'b',\n",
       " 's',\n",
       " 'o',\n",
       " 't',\n",
       " 'c',\n",
       " 's',\n",
       " 'u',\n",
       " 'u',\n",
       " 'e',\n",
       " 'c',\n",
       " 'p',\n",
       " 'e',\n",
       " 'c',\n",
       " 'a',\n",
       " 'u',\n",
       " 'c',\n",
       " 'p',\n",
       " 'p',\n",
       " 'd',\n",
       " 'i',\n",
       " 'u',\n",
       " 'i',\n",
       " 'm',\n",
       " 'H',\n",
       " 'p',\n",
       " 'r',\n",
       " 'a',\n",
       " 'r',\n",
       " 'd',\n",
       " 'e',\n",
       " 'h',\n",
       " 'g',\n",
       " 'r',\n",
       " 'h',\n",
       " 'h',\n",
       " 'a',\n",
       " 's',\n",
       " 'f',\n",
       " 'e',\n",
       " 'P',\n",
       " 'd',\n",
       " 'A',\n",
       " 'd',\n",
       " 'S',\n",
       " 'a',\n",
       " 'u',\n",
       " 'o',\n",
       " 'h',\n",
       " 'h',\n",
       " 'h',\n",
       " 'o',\n",
       " 'r',\n",
       " 'd',\n",
       " 's',\n",
       " 'h',\n",
       " 'd',\n",
       " 'h',\n",
       " 'c',\n",
       " 'h',\n",
       " 's',\n",
       " 'c',\n",
       " 'h',\n",
       " 'c',\n",
       " 'o',\n",
       " 'c',\n",
       " 'w',\n",
       " 'o',\n",
       " 'i',\n",
       " 'd',\n",
       " 'r',\n",
       " 'S',\n",
       " 'm',\n",
       " 'A',\n",
       " 'c',\n",
       " 'u',\n",
       " 'B',\n",
       " 'B',\n",
       " 'B',\n",
       " 's',\n",
       " 'c',\n",
       " 'h',\n",
       " 'o',\n",
       " 'i',\n",
       " 'h',\n",
       " 'a',\n",
       " 'h',\n",
       " 'h',\n",
       " 'h',\n",
       " 't',\n",
       " 'S',\n",
       " 'h',\n",
       " 'v',\n",
       " 'i',\n",
       " 'l',\n",
       " 'e',\n",
       " 'w',\n",
       " 'h',\n",
       " 'h',\n",
       " 's',\n",
       " 'c',\n",
       " 'u',\n",
       " 'p',\n",
       " 'h',\n",
       " 'b',\n",
       " 'h',\n",
       " 'c',\n",
       " 'b',\n",
       " 'h',\n",
       " 'o',\n",
       " 'h',\n",
       " 'u',\n",
       " 'u',\n",
       " 'h',\n",
       " 'h',\n",
       " 'm',\n",
       " 'e',\n",
       " 'u',\n",
       " 'c',\n",
       " 'h',\n",
       " 'h',\n",
       " 'p',\n",
       " 'h',\n",
       " 'u',\n",
       " 'h',\n",
       " 'h',\n",
       " 'i',\n",
       " 'h',\n",
       " 'c',\n",
       " 'p',\n",
       " 'h',\n",
       " 'c',\n",
       " 'd',\n",
       " 'c',\n",
       " 'r',\n",
       " 'c',\n",
       " 'h',\n",
       " 'o',\n",
       " 's',\n",
       " 'c',\n",
       " 'c',\n",
       " 'o',\n",
       " 'h',\n",
       " 'u',\n",
       " 'm',\n",
       " 'h',\n",
       " 'h',\n",
       " 'r',\n",
       " 'h',\n",
       " 'p',\n",
       " 'h',\n",
       " 'a',\n",
       " 'd',\n",
       " 'r',\n",
       " 'h',\n",
       " 'c',\n",
       " 'c',\n",
       " 'i',\n",
       " 'e',\n",
       " 'h',\n",
       " 'd',\n",
       " 'a',\n",
       " 'c',\n",
       " 'c',\n",
       " 'n',\n",
       " 'c',\n",
       " 's',\n",
       " 'c',\n",
       " 'i',\n",
       " 'u',\n",
       " 'a',\n",
       " 's',\n",
       " 'c',\n",
       " 'f',\n",
       " 'd',\n",
       " 'p',\n",
       " 'R',\n",
       " 'a',\n",
       " 's',\n",
       " 'w',\n",
       " 'a',\n",
       " 'e',\n",
       " 'u',\n",
       " 'c',\n",
       " 'p',\n",
       " 'u',\n",
       " 'e',\n",
       " 'c',\n",
       " 'o',\n",
       " 'd',\n",
       " 'e',\n",
       " 'a',\n",
       " 'S',\n",
       " 'c',\n",
       " 'f',\n",
       " 'f',\n",
       " 'h',\n",
       " 'c',\n",
       " 't',\n",
       " 'C',\n",
       " 'a',\n",
       " 'c',\n",
       " 'i',\n",
       " 'u',\n",
       " 'i',\n",
       " 's',\n",
       " 'c',\n",
       " 'c',\n",
       " 's',\n",
       " 's',\n",
       " 'h',\n",
       " 'd',\n",
       " 'c',\n",
       " 'r',\n",
       " 's',\n",
       " 's',\n",
       " 'b',\n",
       " 'p',\n",
       " 's',\n",
       " 'm',\n",
       " 'c',\n",
       " 'u',\n",
       " 'c',\n",
       " 's',\n",
       " 's',\n",
       " 'm',\n",
       " 's',\n",
       " 'c',\n",
       " 'u',\n",
       " 'c',\n",
       " 's',\n",
       " 'r',\n",
       " 'a',\n",
       " 'c',\n",
       " 's',\n",
       " 's',\n",
       " 's',\n",
       " 'e',\n",
       " 'p',\n",
       " 'b',\n",
       " 'c',\n",
       " 'e',\n",
       " 'u',\n",
       " 'm',\n",
       " 'e',\n",
       " 'N',\n",
       " 'a',\n",
       " 'c',\n",
       " 'm',\n",
       " 'r',\n",
       " 'u',\n",
       " 'a',\n",
       " 'c',\n",
       " 'm',\n",
       " 'e',\n",
       " 'p',\n",
       " 'c',\n",
       " 'c',\n",
       " 'N',\n",
       " 's',\n",
       " 't',\n",
       " 'c',\n",
       " 'o',\n",
       " 'u',\n",
       " 'a',\n",
       " 'i',\n",
       " 'a',\n",
       " 'p',\n",
       " 'p',\n",
       " 'r',\n",
       " 'u',\n",
       " 'h',\n",
       " 'A',\n",
       " 'e',\n",
       " 'd',\n",
       " 'p',\n",
       " 's',\n",
       " 'c',\n",
       " 'b',\n",
       " 'c',\n",
       " 'b',\n",
       " 'h',\n",
       " 'c',\n",
       " 'c',\n",
       " 'p',\n",
       " 'r',\n",
       " 'o',\n",
       " 'c',\n",
       " 'm',\n",
       " 'e',\n",
       " 'b',\n",
       " 's',\n",
       " 'b',\n",
       " 'e',\n",
       " 'p',\n",
       " 'b',\n",
       " 'i',\n",
       " 'a',\n",
       " 'o',\n",
       " 'i',\n",
       " 'c',\n",
       " 'a',\n",
       " 't',\n",
       " 'c',\n",
       " 'f',\n",
       " 'n',\n",
       " 'M',\n",
       " 'a',\n",
       " 'T',\n",
       " 'E',\n",
       " 'P',\n",
       " 'B',\n",
       " 'V',\n",
       " 'd',\n",
       " 'r',\n",
       " 'b',\n",
       " 'w',\n",
       " 'h',\n",
       " 'e',\n",
       " 'r',\n",
       " 'r',\n",
       " 's',\n",
       " 'c',\n",
       " 'c',\n",
       " 'o',\n",
       " 's',\n",
       " 's',\n",
       " 'c',\n",
       " 'w',\n",
       " 'i',\n",
       " 's',\n",
       " 'D',\n",
       " '_',\n",
       " '_',\n",
       " 'i',\n",
       " 'c',\n",
       " 'i',\n",
       " 'c',\n",
       " 'u',\n",
       " 'c',\n",
       " 's',\n",
       " 'd',\n",
       " 'i',\n",
       " 'i',\n",
       " 'r',\n",
       " 'p',\n",
       " 'c',\n",
       " 's',\n",
       " 'f',\n",
       " 'u',\n",
       " 'n',\n",
       " 'u',\n",
       " 'D',\n",
       " 'i',\n",
       " 's',\n",
       " 'r',\n",
       " 'i',\n",
       " 'c',\n",
       " 's',\n",
       " 'h',\n",
       " 'd',\n",
       " 'p',\n",
       " 'p',\n",
       " 'a',\n",
       " 'a',\n",
       " 's',\n",
       " 'p',\n",
       " 'c',\n",
       " 'c',\n",
       " 'o',\n",
       " 'r',\n",
       " 'p',\n",
       " 'c',\n",
       " 'u',\n",
       " 'd',\n",
       " 'i',\n",
       " 'c',\n",
       " 'r',\n",
       " 'f',\n",
       " 'w',\n",
       " 'c',\n",
       " 'r',\n",
       " 'c',\n",
       " 's',\n",
       " 'E',\n",
       " 'r',\n",
       " 'p',\n",
       " 'f',\n",
       " 'u',\n",
       " 'f',\n",
       " 'c',\n",
       " 'e',\n",
       " 'c',\n",
       " 'c',\n",
       " 'S',\n",
       " 'b',\n",
       " 'h',\n",
       " 'p',\n",
       " 'r',\n",
       " 'd',\n",
       " 'd',\n",
       " 'd',\n",
       " 'd',\n",
       " 'M',\n",
       " 'c',\n",
       " 'd',\n",
       " 'c',\n",
       " 'c',\n",
       " 'i',\n",
       " 'a',\n",
       " 'c',\n",
       " 'd',\n",
       " 's',\n",
       " 'a',\n",
       " 's',\n",
       " 'p',\n",
       " 'o',\n",
       " 'd',\n",
       " 's',\n",
       " 'c',\n",
       " 'c',\n",
       " 'p',\n",
       " 'o',\n",
       " 'i',\n",
       " 's',\n",
       " 'c',\n",
       " 'c',\n",
       " 'c',\n",
       " 'c',\n",
       " 'a',\n",
       " 'c',\n",
       " 'w',\n",
       " 'c',\n",
       " 'c',\n",
       " 'f',\n",
       " 'a',\n",
       " 's',\n",
       " 'd',\n",
       " 'o',\n",
       " 'u',\n",
       " 'S',\n",
       " 'c',\n",
       " 's',\n",
       " 'm',\n",
       " 'i',\n",
       " 'u',\n",
       " 'm',\n",
       " 'd',\n",
       " 'p',\n",
       " 'd',\n",
       " 'c',\n",
       " 'r',\n",
       " 'p',\n",
       " 'd',\n",
       " 'r',\n",
       " 'd',\n",
       " 'm',\n",
       " 'e',\n",
       " 's',\n",
       " 'm',\n",
       " 'e',\n",
       " 'c',\n",
       " 'i',\n",
       " 't',\n",
       " 'a',\n",
       " 'b',\n",
       " 'd',\n",
       " 'b',\n",
       " 'b',\n",
       " 'h',\n",
       " 'i',\n",
       " 'd',\n",
       " 'r',\n",
       " 'a',\n",
       " 'a',\n",
       " 'c',\n",
       " 'd',\n",
       " 't',\n",
       " 'u',\n",
       " 'a',\n",
       " 'p',\n",
       " 'r',\n",
       " 'W',\n",
       " 'r',\n",
       " 'p',\n",
       " 'p',\n",
       " 'W',\n",
       " 'c',\n",
       " 'p',\n",
       " 'm',\n",
       " 'C',\n",
       " 'e',\n",
       " 'c',\n",
       " 'a',\n",
       " 'i',\n",
       " 'c',\n",
       " 's',\n",
       " 'a',\n",
       " 'p',\n",
       " 'c',\n",
       " 'p',\n",
       " 'p',\n",
       " 'p',\n",
       " 's',\n",
       " 'i',\n",
       " 'h',\n",
       " 'm',\n",
       " 'h',\n",
       " 'b',\n",
       " 'c',\n",
       " 'e',\n",
       " 'e',\n",
       " 'i',\n",
       " 'u',\n",
       " 'h',\n",
       " 'c',\n",
       " 'f',\n",
       " 'd',\n",
       " 'm',\n",
       " 'r',\n",
       " 'd',\n",
       " 'i',\n",
       " 'P',\n",
       " 'w',\n",
       " 'm',\n",
       " 'i',\n",
       " 'I',\n",
       " 'p',\n",
       " 'P',\n",
       " 'C',\n",
       " 'c',\n",
       " 'c',\n",
       " 'd',\n",
       " 'a',\n",
       " 'c',\n",
       " 'n',\n",
       " 'a',\n",
       " 'c',\n",
       " 'c',\n",
       " 'c',\n",
       " 'd',\n",
       " 'u',\n",
       " 'd',\n",
       " 'd',\n",
       " 'c',\n",
       " 'u',\n",
       " 'e',\n",
       " 'd',\n",
       " 'r',\n",
       " 'p',\n",
       " 'c',\n",
       " 'c',\n",
       " 'i',\n",
       " 'u',\n",
       " 'c',\n",
       " 's',\n",
       " 'd',\n",
       " 'p',\n",
       " 'B',\n",
       " 'C',\n",
       " 'u',\n",
       " 'p',\n",
       " 'c',\n",
       " 't',\n",
       " 'd',\n",
       " 'C',\n",
       " 'e',\n",
       " 'c',\n",
       " 'C',\n",
       " 'C',\n",
       " 'i',\n",
       " 'C',\n",
       " 'c',\n",
       " 'C',\n",
       " 'C',\n",
       " 'h',\n",
       " 'a',\n",
       " 'e',\n",
       " 'h',\n",
       " 'u',\n",
       " 'a',\n",
       " 'W',\n",
       " 'f',\n",
       " 'e',\n",
       " 'p',\n",
       " 'c',\n",
       " 'w',\n",
       " 'c',\n",
       " 't',\n",
       " 'p',\n",
       " 'w',\n",
       " 'c',\n",
       " 'p',\n",
       " 'i',\n",
       " 'c',\n",
       " 'c',\n",
       " 'c',\n",
       " 'p',\n",
       " 'e',\n",
       " 'g',\n",
       " 'c',\n",
       " 'b',\n",
       " 'e',\n",
       " 'i',\n",
       " 'm',\n",
       " 'p',\n",
       " 'c',\n",
       " 'w',\n",
       " 'm',\n",
       " 'e',\n",
       " 'p',\n",
       " 't',\n",
       " 'c',\n",
       " 'e',\n",
       " 'c',\n",
       " 'p',\n",
       " 'd',\n",
       " 'u',\n",
       " 'M',\n",
       " 'C',\n",
       " 'm',\n",
       " 'l',\n",
       " 'b',\n",
       " 's',\n",
       " 't',\n",
       " 's',\n",
       " 'e',\n",
       " 't',\n",
       " 'd',\n",
       " 'N',\n",
       " 'l',\n",
       " 'e',\n",
       " 'c',\n",
       " 'e',\n",
       " 'm',\n",
       " 'H',\n",
       " 'p',\n",
       " 'u',\n",
       " 'N',\n",
       " 'A',\n",
       " 'p',\n",
       " 't',\n",
       " 'N',\n",
       " 'p',\n",
       " 'h',\n",
       " 't',\n",
       " 'b',\n",
       " 'N',\n",
       " 'p',\n",
       " 'o',\n",
       " 'N',\n",
       " 'r',\n",
       " 'p',\n",
       " 'd',\n",
       " 'd',\n",
       " 'e',\n",
       " 'u',\n",
       " 'i',\n",
       " 'i',\n",
       " 't',\n",
       " 'p',\n",
       " 'r',\n",
       " 'p',\n",
       " 'p',\n",
       " 'd',\n",
       " 'a',\n",
       " 'd',\n",
       " 'p',\n",
       " 'p',\n",
       " 's',\n",
       " 'd',\n",
       " 'e',\n",
       " 'b',\n",
       " 'a',\n",
       " 'e',\n",
       " 's',\n",
       " 'd',\n",
       " 'd',\n",
       " 'c',\n",
       " 'u',\n",
       " 'd',\n",
       " 'c',\n",
       " 'b',\n",
       " 'i',\n",
       " 'i',\n",
       " 'i',\n",
       " 'c',\n",
       " 'e',\n",
       " 's',\n",
       " 'c',\n",
       " 'b',\n",
       " 'r',\n",
       " 'a',\n",
       " 'd',\n",
       " 'h',\n",
       " 's',\n",
       " 's',\n",
       " 'c',\n",
       " 'M',\n",
       " 'm',\n",
       " 'c',\n",
       " 'w',\n",
       " 'C',\n",
       " 'a',\n",
       " 'm',\n",
       " 'p',\n",
       " 'g',\n",
       " 'q',\n",
       " 'a',\n",
       " 'u',\n",
       " 'c',\n",
       " 'h',\n",
       " 'm',\n",
       " 'c',\n",
       " 'P',\n",
       " 't',\n",
       " 'i',\n",
       " 'c',\n",
       " 'p',\n",
       " 'a',\n",
       " 'm',\n",
       " 'i',\n",
       " 'N',\n",
       " 'c',\n",
       " 's',\n",
       " 'i',\n",
       " 'N',\n",
       " 'p',\n",
       " 'd',\n",
       " 'm',\n",
       " 'p',\n",
       " 'c',\n",
       " 'e',\n",
       " 'p',\n",
       " 'u',\n",
       " 'p',\n",
       " 'i',\n",
       " 'e',\n",
       " 'h',\n",
       " 'c',\n",
       " 'e',\n",
       " 'm',\n",
       " 'f',\n",
       " 'c',\n",
       " 'd',\n",
       " 'w',\n",
       " 's',\n",
       " 'a',\n",
       " 'f',\n",
       " 'N',\n",
       " 'o',\n",
       " 'i',\n",
       " 'p',\n",
       " 'a',\n",
       " 'a',\n",
       " 'h',\n",
       " 's',\n",
       " 's',\n",
       " 's',\n",
       " 'u',\n",
       " 'p',\n",
       " 'S',\n",
       " 'c',\n",
       " 'u',\n",
       " 'i',\n",
       " 'i',\n",
       " 'a',\n",
       " 'a',\n",
       " 'd',\n",
       " 'c',\n",
       " 'o',\n",
       " 'm',\n",
       " 't',\n",
       " 'm',\n",
       " 'i',\n",
       " ...]"
      ]
     },
     "execution_count": 72,
     "metadata": {},
     "output_type": "execute_result"
    }
   ],
   "source": [
    "[word[0] for word in text1 if len(word) >= 10]"
   ]
  },
  {
   "cell_type": "markdown",
   "id": "dbd2494e",
   "metadata": {},
   "source": [
    "### `Quiz2` text4에서 'gnt'를 포함하는 단어 반환"
   ]
  },
  {
   "cell_type": "code",
   "execution_count": 73,
   "id": "4cf3a3e6",
   "metadata": {
    "scrolled": true
   },
   "outputs": [
    {
     "data": {
      "text/plain": [
       "['sovereignty',\n",
       " 'sovereignty',\n",
       " 'sovereignty',\n",
       " 'sovereignty',\n",
       " 'sovereignty',\n",
       " 'sovereignty',\n",
       " 'sovereignty',\n",
       " 'sovereignty',\n",
       " 'sovereignty',\n",
       " 'sovereignties',\n",
       " 'sovereignties',\n",
       " 'sovereignty',\n",
       " 'sovereignties',\n",
       " 'sovereignty',\n",
       " 'sovereignty',\n",
       " 'sovereignty',\n",
       " 'sovereignty',\n",
       " 'sovereignty',\n",
       " 'sovereignty',\n",
       " 'sovereignty',\n",
       " 'sovereignty',\n",
       " 'sovereignty',\n",
       " 'sovereignty',\n",
       " 'sovereignty',\n",
       " 'sovereignty',\n",
       " 'sovereignty',\n",
       " 'sovereignties',\n",
       " 'sovereignty',\n",
       " 'Sovereignty',\n",
       " 'sovereignty',\n",
       " 'sovereignty']"
      ]
     },
     "execution_count": 73,
     "metadata": {},
     "output_type": "execute_result"
    }
   ],
   "source": [
    "[word for word in text4 if 'gnt' in word]"
   ]
  },
  {
   "cell_type": "code",
   "execution_count": null,
   "id": "9f72d061",
   "metadata": {},
   "outputs": [],
   "source": [
    "#추가적인 다른 답\n",
    "[word for word in text4 if 'gnt' in word > 0]\n",
    "[word for word in text4 if word.find('gnt') > 0] \n",
    "\n",
    "#주의 gnt와 'gnt'는 형태가 다르다는 점 인지"
   ]
  },
  {
   "cell_type": "markdown",
   "id": "5e886550",
   "metadata": {},
   "source": [
    "#### `복습` : 'gnt' in 'sovergnty'"
   ]
  },
  {
   "cell_type": "code",
   "execution_count": null,
   "id": "9b001093",
   "metadata": {},
   "outputs": [],
   "source": [
    "a = True #라고 할 때,\n",
    "if a == True: #라고 안한다\n",
    "if a: #가 맞음"
   ]
  },
  {
   "cell_type": "markdown",
   "id": "4bddce16",
   "metadata": {},
   "source": [
    "#### `복습` : set()의 활용"
   ]
  },
  {
   "cell_type": "code",
   "execution_count": 77,
   "id": "79237203",
   "metadata": {},
   "outputs": [],
   "source": [
    "#두 개의 차이는?\n",
    "a = [word.lower() for word in set(text4) if 'gnt' in word]\n",
    "b = set([word.lower() for word in text4 if 'gnt' in word])\n",
    "    \n",
    "#a : 중복으로 없앤 text에서 gnt를 뽑음 (list 자료형)\n",
    "#b : 다 뽑고 나서 중복을 없앰 (set 자료형)"
   ]
  },
  {
   "cell_type": "code",
   "execution_count": 78,
   "id": "aa984ec6",
   "metadata": {},
   "outputs": [
    {
     "data": {
      "text/plain": [
       "['sovereignties', 'sovereignty', 'sovereignty']"
      ]
     },
     "execution_count": 78,
     "metadata": {},
     "output_type": "execute_result"
    }
   ],
   "source": [
    "a"
   ]
  },
  {
   "cell_type": "code",
   "execution_count": 79,
   "id": "367f89aa",
   "metadata": {},
   "outputs": [
    {
     "data": {
      "text/plain": [
       "{'sovereignties', 'sovereignty'}"
      ]
     },
     "execution_count": 79,
     "metadata": {},
     "output_type": "execute_result"
    }
   ],
   "source": [
    "b"
   ]
  },
  {
   "cell_type": "markdown",
   "id": "0e00d178",
   "metadata": {},
   "source": [
    "### 5-1-2. 조건을 위한 함수: uncased, cased\n",
    "- 'the' != 'The' : 둘은 다름\n",
    "- upper(), lower(), title()\n",
    "- capitalize(), swapcase()\n",
    "- isupper(), islower(), istitle()\n",
    "- endswith() : 무엇으로 끝나는지 , startswith() : 무엇으로 시작하는지\n",
    "- isalpha() : 전체에서 알파벳만 골라내고 싶을 때 쓰는 함수"
   ]
  },
  {
   "cell_type": "markdown",
   "id": "1b46febf",
   "metadata": {},
   "source": [
    "### `.upper()`"
   ]
  },
  {
   "cell_type": "code",
   "execution_count": 53,
   "id": "0265626f",
   "metadata": {
    "scrolled": true
   },
   "outputs": [
    {
     "data": {
      "text/plain": [
       "'WORD'"
      ]
     },
     "execution_count": 53,
     "metadata": {},
     "output_type": "execute_result"
    }
   ],
   "source": [
    "'word'.upper()"
   ]
  },
  {
   "cell_type": "markdown",
   "id": "828f6a08",
   "metadata": {},
   "source": [
    "### `.isupper()` : 대문자인지"
   ]
  },
  {
   "cell_type": "code",
   "execution_count": 80,
   "id": "f8d1301e",
   "metadata": {},
   "outputs": [
    {
     "data": {
      "text/plain": [
       "False"
      ]
     },
     "execution_count": 80,
     "metadata": {},
     "output_type": "execute_result"
    }
   ],
   "source": [
    "'word'.isupper()"
   ]
  },
  {
   "cell_type": "markdown",
   "id": "63649c28",
   "metadata": {},
   "source": [
    "### `.startswith()` : 무엇으로 시작하는지"
   ]
  },
  {
   "cell_type": "code",
   "execution_count": 54,
   "id": "25fa7f12",
   "metadata": {},
   "outputs": [
    {
     "data": {
      "text/plain": [
       "True"
      ]
     },
     "execution_count": 54,
     "metadata": {},
     "output_type": "execute_result"
    }
   ],
   "source": [
    "'word'.startswith('w')"
   ]
  },
  {
   "cell_type": "markdown",
   "id": "955dd087",
   "metadata": {},
   "source": [
    "### `text.isalpha()` : text에 알파벳이 나오는가"
   ]
  },
  {
   "cell_type": "code",
   "execution_count": 81,
   "id": "47f77697",
   "metadata": {},
   "outputs": [
    {
     "data": {
      "text/plain": [
       "False"
      ]
     },
     "execution_count": 81,
     "metadata": {},
     "output_type": "execute_result"
    }
   ],
   "source": [
    "','.isalpha() # ,에 알파벳이 없음 -> False 반환"
   ]
  },
  {
   "cell_type": "markdown",
   "id": "94115e9b",
   "metadata": {},
   "source": [
    "### `.endswith(str)` : str로 끝나는지\n",
    "* if 복습한 것 적용"
   ]
  },
  {
   "cell_type": "code",
   "execution_count": 56,
   "id": "41102c18",
   "metadata": {},
   "outputs": [
    {
     "data": {
      "text/plain": [
       "['uncomfortableness',\n",
       " 'comfortableness',\n",
       " 'intolerableness',\n",
       " 'immutableness',\n",
       " 'indomitableness',\n",
       " 'reasonableness',\n",
       " 'indispensableness',\n",
       " 'indomitableness',\n",
       " 'honourableness',\n",
       " 'palpableness']"
      ]
     },
     "execution_count": 56,
     "metadata": {},
     "output_type": "execute_result"
    }
   ],
   "source": [
    "# text1에서 'ableness'로 끝나는 단어 반환\n",
    "[word for word in text1 if word.endswith('ableness')]"
   ]
  },
  {
   "cell_type": "markdown",
   "id": "a6272f9c",
   "metadata": {},
   "source": [
    "### `Quiz 3` \n",
    "* text3에서 대문자로 시작하는 단어들 중에 길이가 3 이상인 단어 -> 중복없이 뽑고 -> 대문자로 반환"
   ]
  },
  {
   "cell_type": "code",
   "execution_count": 82,
   "id": "040a07b6",
   "metadata": {},
   "outputs": [
    {
     "ename": "SyntaxError",
     "evalue": "invalid syntax (Temp/ipykernel_25220/1201312354.py, line 5)",
     "output_type": "error",
     "traceback": [
      "\u001b[1;36m  File \u001b[1;32m\"C:\\Users\\panom\\AppData\\Local\\Temp/ipykernel_25220/1201312354.py\"\u001b[1;36m, line \u001b[1;32m5\u001b[0m\n\u001b[1;33m    set[word.upper() for word in text3 if word.istitle() and len(word) >=3]\u001b[0m\n\u001b[1;37m                     ^\u001b[0m\n\u001b[1;31mSyntaxError\u001b[0m\u001b[1;31m:\u001b[0m invalid syntax\n"
     ]
    }
   ],
   "source": [
    "#god,GOD => GOD,GOD으로 중복 남음\n",
    "a = [word.upper() for word in set(text3) if word.istitle() and len(word) >= 3] #중복 안걸러짐\n",
    "\n",
    "#god, GOD => GOD, GOD => GOD으로 중복 없음\n",
    "b = set[word.upper() for word in text3 if word.istitle() and len(word) >=3]\n",
    "\n",
    "#정답은 b\n",
    "# a는 God, GOD을 걸러주지 않아 중복이 그대로 출력됨"
   ]
  },
  {
   "cell_type": "markdown",
   "id": "3d9d8753",
   "metadata": {},
   "source": [
    "### 교수님 피드백\n",
    "- list는 upper 불가. upper는 string만 가능\n",
    "- word[0].isuppe == True는 괜찮음"
   ]
  },
  {
   "cell_type": "markdown",
   "id": "7e0efbd2",
   "metadata": {},
   "source": [
    "### `Quiz 4`\n",
    "* text4에서 알파벳인 단어 중, 길이가 4개 이상이고, 빈도수가 5 이상인 단어의 길이 반환\n",
    "* 예시\n",
    "    * ['apple'] => [5]처럼 개수로 반환하라\n"
   ]
  },
  {
   "cell_type": "code",
   "execution_count": 83,
   "id": "633ccb17",
   "metadata": {},
   "outputs": [
    {
     "data": {
      "text/plain": [
       "[5, 12, 8, 4, 5, 5, 4, 6, 4, 7]"
      ]
     },
     "execution_count": 83,
     "metadata": {},
     "output_type": "execute_result"
    }
   ],
   "source": [
    "fdist4 = FreqDist(text4) #너무 많이 나와서 마지막에 10개만 출력함\n",
    "[len(word) for word in text4 \\\n",
    " if word.isalpha() and (len(word) >= 4) and fdist[word] >=5][:10]"
   ]
  },
  {
   "cell_type": "markdown",
   "id": "295e179e",
   "metadata": {},
   "source": [
    "### Step1.\n",
    "[word for word in text4 if ...]\n",
    "\n",
    "### Step2.\n",
    "[len(word) for word in text4 if...]\n",
    "* 출력값을 가장 앞에서 잡아주기\n",
    "\n",
    "### Q. 만약 count를 사용한다면?\n",
    "비효율적임. 각 단어마다 계속 계산함 => 시간 너무 오래 걸림\n",
    "\n",
    "### Q. fdist로 접근하는 방법은?"
   ]
  },
  {
   "cell_type": "code",
   "execution_count": 84,
   "id": "0f366707",
   "metadata": {},
   "outputs": [
    {
     "data": {
      "text/plain": [
       "[6, 8, 6, 5, 15, 12, 8, 4, 5, 5]"
      ]
     },
     "execution_count": 84,
     "metadata": {},
     "output_type": "execute_result"
    }
   ],
   "source": [
    "fdist4 = FreqDist(text4)\n",
    "[len(word) for (word, count) in fdist4.items() \\\n",
    " if word.isalpha() and (len(word) >= 4) and (count >= 5)][:10]"
   ]
  },
  {
   "cell_type": "markdown",
   "id": "e79226ef",
   "metadata": {},
   "source": [
    "[word for word in text4 if word.isalpha() and len(word) >= 4 and text4.count(word) >=5]"
   ]
  },
  {
   "cell_type": "markdown",
   "id": "e47d766d",
   "metadata": {},
   "source": [
    "### 리스트, 스트링\n",
    "* `split()` : string을 인자로 받은 후 -> list로 반환\n",
    "* `join()` : list를 인자로 받은 후 -> str로 반환"
   ]
  },
  {
   "cell_type": "code",
   "execution_count": 79,
   "id": "e85180fb",
   "metadata": {},
   "outputs": [
    {
     "data": {
      "text/plain": [
       "['I', ' am', ' thirsty']"
      ]
     },
     "execution_count": 79,
     "metadata": {},
     "output_type": "execute_result"
    }
   ],
   "source": [
    "sent = 'I, am, thirsty'\n",
    "#['I', 'am', 'thirsty'] #tokens\n",
    "\n",
    "sent.split(',') # strip()"
   ]
  },
  {
   "cell_type": "code",
   "execution_count": 90,
   "id": "c3e5290e",
   "metadata": {},
   "outputs": [
    {
     "data": {
      "text/plain": [
       "['I', ' am', ' thirsty']"
      ]
     },
     "execution_count": 90,
     "metadata": {},
     "output_type": "execute_result"
    }
   ],
   "source": [
    "tokens = sent.split(',')\n",
    "tokens"
   ]
  },
  {
   "cell_type": "code",
   "execution_count": 93,
   "id": "22cb017f",
   "metadata": {},
   "outputs": [
    {
     "data": {
      "text/plain": [
       "['I', 'am', 'thirsty']"
      ]
     },
     "execution_count": 93,
     "metadata": {},
     "output_type": "execute_result"
    }
   ],
   "source": [
    "# 불필요한 여백 없애기 #list comprehension 쓰기\n",
    "tokens = [word.lstrip() for word in tokens]\n",
    "tokens"
   ]
  },
  {
   "cell_type": "code",
   "execution_count": 92,
   "id": "9bd5bf72",
   "metadata": {},
   "outputs": [
    {
     "data": {
      "text/plain": [
       "'I- am- thirsty'"
      ]
     },
     "execution_count": 92,
     "metadata": {},
     "output_type": "execute_result"
    }
   ],
   "source": [
    "'-'.join(tokens)"
   ]
  },
  {
   "cell_type": "markdown",
   "id": "98102c8d",
   "metadata": {},
   "source": [
    "## CH06. 반복문\n",
    "- `[word for word in text1]`\n",
    "- 자료구조를 순회할 때 사용함.\n",
    "- 정해진 동작을 반복적으로 수행할 때 내리는 명령어\n",
    "- 시작조건, 종료조건, 수행명령으로 구성됨\n",
    "- for 요소 in 반복범위:\n",
    "    수행명령\n",
    " \n",
    "- for, while\n"
   ]
  },
  {
   "cell_type": "code",
   "execution_count": 94,
   "id": "22ca2101",
   "metadata": {},
   "outputs": [],
   "source": [
    "import nltk\n",
    "from nltk.book import *\n",
    "nltk.download('book', quiet = True)"
   ]
  },
  {
   "cell_type": "code",
   "execution_count": null,
   "id": "5d45ef8c",
   "metadata": {},
   "outputs": [],
   "source": [
    "# [word for word in text1]\n",
    "for word in text1:\n",
    "    print(word)"
   ]
  },
  {
   "cell_type": "code",
   "execution_count": 95,
   "id": "a998e241",
   "metadata": {},
   "outputs": [
    {
     "data": {
      "text/plain": [
       "['[',\n",
       " 'Moby',\n",
       " 'Dick',\n",
       " 'by',\n",
       " 'Herman',\n",
       " 'Melville',\n",
       " '1851',\n",
       " ']',\n",
       " 'ETYMOLOGY',\n",
       " '.']"
      ]
     },
     "execution_count": 95,
     "metadata": {},
     "output_type": "execute_result"
    }
   ],
   "source": [
    "[word for word in text1[:10]]\n"
   ]
  },
  {
   "cell_type": "code",
   "execution_count": null,
   "id": "444b6d34",
   "metadata": {},
   "outputs": [],
   "source": [
    "alphabet = ['a', 'b', 'c']\n",
    "for w in alphabet:\n",
    "    print(w)"
   ]
  },
  {
   "cell_type": "code",
   "execution_count": 97,
   "id": "bc5f063c",
   "metadata": {},
   "outputs": [
    {
     "name": "stdout",
     "output_type": "stream",
     "text": [
      "0\n",
      "1\n",
      "2\n",
      "3\n",
      "4\n",
      "5\n",
      "6\n",
      "7\n",
      "8\n",
      "9\n"
     ]
    }
   ],
   "source": [
    "# 숫자 반복: range(start, end, step)\n",
    "for i in range(10):\n",
    "    print(i)"
   ]
  },
  {
   "cell_type": "code",
   "execution_count": 98,
   "id": "a47504ab",
   "metadata": {},
   "outputs": [
    {
     "name": "stdout",
     "output_type": "stream",
     "text": [
      "1\n",
      "3\n",
      "5\n",
      "7\n",
      "9\n"
     ]
    }
   ],
   "source": [
    "# 1부터 9까지, 2씩 증가\n",
    "for i in range(1, 10, 2):\n",
    "    print(i)"
   ]
  },
  {
   "cell_type": "code",
   "execution_count": 85,
   "id": "15befd6a",
   "metadata": {},
   "outputs": [
    {
     "name": "stdout",
     "output_type": "stream",
     "text": [
      "260819\n",
      "141576\n",
      "44764\n",
      "152901\n",
      "45010\n",
      "16967\n",
      "100676\n",
      "4867\n",
      "69213\n"
     ]
    }
   ],
   "source": [
    "#text 1-9 각 텍스트의 단어 수를 반환\n",
    "    #10만, 20만, 24만, ...\n",
    "\n",
    "# [len(word) for word in text1]\n",
    "\n",
    "texts = [text1, text2, text3, text4, text5, text6, text7, text8, text9]\n",
    "for text in texts:\n",
    "    print(len(text))\n"
   ]
  },
  {
   "cell_type": "markdown",
   "id": "45ad84ee",
   "metadata": {},
   "source": [
    "### 1. 출력 포매팅\n",
    "- 1. f'str .... {var}' #이게 젤 좋은 방식\n",
    "    - f, F 둘다 가능\n",
    "    \n",
    "- 2. % # 옛날방식\n",
    "    - '... %s ' %var\n",
    " \n",
    "- 3. ' .... {}'.format{var} #이것도 종종 씀"
   ]
  },
  {
   "cell_type": "code",
   "execution_count": 126,
   "id": "be74f561",
   "metadata": {},
   "outputs": [],
   "source": [
    "name = 'lee'\n",
    "age = 14\n",
    "#print('My name is ###')"
   ]
  },
  {
   "cell_type": "code",
   "execution_count": 117,
   "id": "9ca82bda",
   "metadata": {},
   "outputs": [
    {
     "name": "stdout",
     "output_type": "stream",
     "text": [
      "My name is lee\n"
     ]
    }
   ],
   "source": [
    "print('My name is', name)"
   ]
  },
  {
   "cell_type": "code",
   "execution_count": 120,
   "id": "706acfd5",
   "metadata": {
    "scrolled": true
   },
   "outputs": [
    {
     "name": "stdout",
     "output_type": "stream",
     "text": [
      "My name is lee\n"
     ]
    }
   ],
   "source": [
    "print(f'My name is {name}')"
   ]
  },
  {
   "cell_type": "code",
   "execution_count": 121,
   "id": "fa5ea6f7",
   "metadata": {
    "scrolled": true
   },
   "outputs": [
    {
     "name": "stdout",
     "output_type": "stream",
     "text": [
      "My name is lee\n"
     ]
    }
   ],
   "source": [
    "print('My name is %s' %name)"
   ]
  },
  {
   "cell_type": "code",
   "execution_count": 127,
   "id": "e2abe25c",
   "metadata": {
    "scrolled": true
   },
   "outputs": [
    {
     "name": "stdout",
     "output_type": "stream",
     "text": [
      "My name is lee, and I am 14 years old.\n"
     ]
    }
   ],
   "source": [
    "print(f'My name is {name}, and I am {age} years old.')"
   ]
  },
  {
   "cell_type": "code",
   "execution_count": 128,
   "id": "e93f23c1",
   "metadata": {},
   "outputs": [
    {
     "name": "stdout",
     "output_type": "stream",
     "text": [
      "My name is lee, and I am 14 years old.\n"
     ]
    }
   ],
   "source": [
    "print('My name is {}, and I am {} years old.'.format(name, age))"
   ]
  },
  {
   "cell_type": "code",
   "execution_count": 129,
   "id": "289f871e",
   "metadata": {},
   "outputs": [
    {
     "name": "stdout",
     "output_type": "stream",
     "text": [
      "My name is 0.555555\n"
     ]
    }
   ],
   "source": [
    "a = 0.555555\n",
    "print('My name is %s' %a)"
   ]
  },
  {
   "cell_type": "code",
   "execution_count": 122,
   "id": "000982f2",
   "metadata": {
    "scrolled": true
   },
   "outputs": [
    {
     "name": "stdout",
     "output_type": "stream",
     "text": [
      "My name is lee\n"
     ]
    }
   ],
   "source": [
    "print('My name is {}'.format(name))"
   ]
  }
 ],
 "metadata": {
  "kernelspec": {
   "display_name": "Python 3 (ipykernel)",
   "language": "python",
   "name": "python3"
  },
  "language_info": {
   "codemirror_mode": {
    "name": "ipython",
    "version": 3
   },
   "file_extension": ".py",
   "mimetype": "text/x-python",
   "name": "python",
   "nbconvert_exporter": "python",
   "pygments_lexer": "ipython3",
   "version": "3.9.7"
  }
 },
 "nbformat": 4,
 "nbformat_minor": 5
}
