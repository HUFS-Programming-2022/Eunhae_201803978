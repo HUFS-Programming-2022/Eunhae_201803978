{
 "cells": [
  {
   "cell_type": "markdown",
   "id": "56aae914",
   "metadata": {},
   "source": [
    "## CH06. 반복문 이어서\n",
    "### 2. 반복문\n",
    "- while, for loop\n",
    "- 정해진 동작을 반복할 때\n",
    "- for loop : 시작, 종료, 수행명령이 존재\n",
    "\n",
    "\n",
    "### 2-1. while\n",
    "- 어떤 조건이 만족하는 동안 명령 블록을 수행한다.\n",
    "- if + for loop\n",
    "- 해당 조건이 거짓이면 멈춘다. -> 언제 멈추는지 그 시점을 정확히 파악해야 함."
   ]
  },
  {
   "cell_type": "code",
   "execution_count": 1,
   "id": "6732bda5",
   "metadata": {},
   "outputs": [
    {
     "name": "stdout",
     "output_type": "stream",
     "text": [
      "0\n",
      "1\n",
      "2\n",
      "3\n",
      "4\n",
      "5\n",
      "6\n",
      "7\n",
      "8\n",
      "9\n"
     ]
    }
   ],
   "source": [
    "for i in range(10):\n",
    "    print(i)"
   ]
  },
  {
   "cell_type": "markdown",
   "id": "d22668a1",
   "metadata": {},
   "source": [
    "### 2-2. for loop를 while문으로 바꾸기\n",
    "* while문에서는 변수가 미리 선언되어야 (for loop은 X)\n",
    "* 아래 예제의 2행을 j < 10으로 바꾸면 위와 똑같음"
   ]
  },
  {
   "cell_type": "code",
   "execution_count": 2,
   "id": "1ef70a72",
   "metadata": {
    "scrolled": true
   },
   "outputs": [
    {
     "name": "stdout",
     "output_type": "stream",
     "text": [
      "0\n",
      "1\n",
      "2\n"
     ]
    }
   ],
   "source": [
    "j = 0 #초기화\n",
    "while j < 3:     #0, 1, 2, False\n",
    "    print(j)       #0, 1, 2\n",
    "    j += 1 # 변화 #1, 2, 3"
   ]
  },
  {
   "cell_type": "markdown",
   "id": "dc7954b1",
   "metadata": {},
   "source": [
    "### 2-3. for vs. while\n",
    "- for : 반복 횟수가 정해짐. 용도가 정확함. 변하지 않음.\n",
    "    - 예 : 성적 산출 \n",
    "- while : 횟수 정해지지 않음.(중요X) 어떤 조건을 만족시킬 때 빠져나오도록 하는 게  중요한 경우 사용\n",
    "    - 예 : 가위바위보 (이겼을 때 빠져나오는 것)"
   ]
  },
  {
   "cell_type": "markdown",
   "id": "e3008845",
   "metadata": {},
   "source": [
    "#### for loop을 while문으로 바꾸기"
   ]
  },
  {
   "cell_type": "code",
   "execution_count": 8,
   "id": "a3c1eb5e",
   "metadata": {
    "scrolled": true
   },
   "outputs": [
    {
     "name": "stdout",
     "output_type": "stream",
     "text": [
      "a\n",
      "b\n",
      "c\n",
      "d\n"
     ]
    }
   ],
   "source": [
    "#문제 : for loop\n",
    "abcd = ['a', 'b', 'c', 'd']\n",
    "for ch in abcd:\n",
    "    print(ch)"
   ]
  },
  {
   "cell_type": "code",
   "execution_count": 7,
   "id": "9e1ed08b",
   "metadata": {},
   "outputs": [
    {
     "name": "stdout",
     "output_type": "stream",
     "text": [
      "a\n",
      "b\n",
      "c\n",
      "d\n"
     ]
    }
   ],
   "source": [
    "#정답\n",
    "i = 0\n",
    "while i < len(abcd):\n",
    "    print(abcd[i])\n",
    "    i += 1"
   ]
  },
  {
   "cell_type": "markdown",
   "id": "3464dd07",
   "metadata": {},
   "source": [
    "#### 반복문 제어\n",
    "- 되도록 사용 X\n",
    "    - 생각지 못하게 코드가 종료될 수 있음. 의도치 않은 오류 발생 위험o\n",
    "- break : 논리적으로 반복을 종료시킬 때 \n",
    "- else : 어떤 조건이 완전히 끝났을 때 한번 더 실행함. break시에 실행 안 됨. => 어느 지점에서 종료되었는지 확인할 때\n",
    "- countinue : : 어떤 조건을 건너뛰고 다음 조건 실행\n"
   ]
  },
  {
   "cell_type": "markdown",
   "id": "2a7d0d82",
   "metadata": {},
   "source": [
    "#### `break` : 논리적으로 반복을 종료시킬 때"
   ]
  },
  {
   "cell_type": "code",
   "execution_count": 9,
   "id": "a43201cc",
   "metadata": {},
   "outputs": [
    {
     "name": "stdout",
     "output_type": "stream",
     "text": [
      "0\n",
      "1\n",
      "2\n",
      "3\n",
      "4\n",
      "5\n",
      "6\n"
     ]
    }
   ],
   "source": [
    "j = 0\n",
    "while j < 10:\n",
    "    print(j)\n",
    "    if j == 6 : break\n",
    "    j += 1"
   ]
  },
  {
   "cell_type": "code",
   "execution_count": 10,
   "id": "4bc2aaab",
   "metadata": {},
   "outputs": [
    {
     "name": "stdout",
     "output_type": "stream",
     "text": [
      "0\n",
      "1\n",
      "2\n",
      "3\n",
      "4\n",
      "5\n"
     ]
    }
   ],
   "source": [
    "for i in range(10):\n",
    "    if i == 6: break\n",
    "    print(i) # 6은 출력 안 됨 # 6에서 break 걸었기 때문"
   ]
  },
  {
   "cell_type": "code",
   "execution_count": null,
   "id": "dbc84440",
   "metadata": {},
   "outputs": [],
   "source": [
    "i #왜냐면 i=6이기 떄문"
   ]
  },
  {
   "cell_type": "markdown",
   "id": "53ac95cd",
   "metadata": {},
   "source": [
    "#### `else` 어떤 조건이 완전히 끝났을 때 한번 더 실행\n",
    "* break 조건이랑 loop 모두 다 도는 조건이랑 같다면, 어느 지점에서 종료되었는지 확인하고 싶을 때 else 활용 가능.\n",
    "* 즉, 완전히 끝났을 때 실행한다는 것은 break시에 실행 안된다는 뜻."
   ]
  },
  {
   "cell_type": "code",
   "execution_count": 11,
   "id": "ccf6643e",
   "metadata": {
    "scrolled": true
   },
   "outputs": [
    {
     "name": "stdout",
     "output_type": "stream",
     "text": [
      "0\n",
      "1\n",
      "2\n",
      "3\n",
      "4\n",
      "5\n",
      "6\n",
      "7\n",
      "8\n",
      "9\n",
      "ended\n"
     ]
    }
   ],
   "source": [
    "j = 0\n",
    "while j < 10:\n",
    "    print(j)\n",
    "    if j == 10 : break # j == 6이면 ended 출력 안됨\n",
    "    j += 1\n",
    "else:\n",
    "    print('ended') #지금 예시는 loop를 다 돈 결과"
   ]
  },
  {
   "cell_type": "markdown",
   "id": "883812c2",
   "metadata": {},
   "source": [
    "#### `continue` : 어떤 조건을 건너뛰고 다음 조건 실행"
   ]
  },
  {
   "cell_type": "code",
   "execution_count": 12,
   "id": "890198e3",
   "metadata": {},
   "outputs": [
    {
     "name": "stdout",
     "output_type": "stream",
     "text": [
      "0\n",
      "1\n",
      "2\n",
      "3\n",
      "4\n",
      "5\n",
      "7\n",
      "8\n",
      "9\n",
      "ended\n"
     ]
    }
   ],
   "source": [
    "for i in range(10):\n",
    "    if i == 6 : continue   # i==6인 조건을 뛰어넘고 다음 조건 실행\n",
    "    print(i) #6은 출력 안됨 \n",
    "else :\n",
    "    print('ended')"
   ]
  },
  {
   "cell_type": "markdown",
   "id": "020789bb",
   "metadata": {},
   "source": [
    "### 2-3. 반복문 대표예시 : gugudan\n",
    "변수는 입력을 받아서 사용함\n",
    "- 1. n단 출력\n",
    "- 2. 1-n단까지 출력\n",
    "    - n > 10의 경우를 대비 => 전체를 while문으로\n",
    "- 3. n,m 모두 입력 받아서 출력\n",
    "    - n > m의 경우 어떻게 할래?\n",
    "    \n",
    "- 4. 프로그램으로 만듦.\n",
    "    - 메뉴 : \n",
    "             1) n\n",
    "             2) 1-n\n",
    "             3) n-m단\n",
    "    - 메뉴에 없는 옵션을 선택할 때 어떻게?"
   ]
  },
  {
   "cell_type": "markdown",
   "id": "02d25b17",
   "metadata": {},
   "source": [
    "#### `1. n단 출력`"
   ]
  },
  {
   "cell_type": "code",
   "execution_count": 15,
   "id": "5a669723",
   "metadata": {},
   "outputs": [
    {
     "name": "stdout",
     "output_type": "stream",
     "text": [
      "단수를 입력하세요.2\n",
      "===2단===\n",
      "2 x 1 = 2\n",
      "2 x 2 = 4\n",
      "2 x 3 = 6\n",
      "2 x 4 = 8\n",
      "2 x 5 = 10\n",
      "2 x 6 = 12\n",
      "2 x 7 = 14\n",
      "2 x 8 = 16\n",
      "2 x 9 = 18\n"
     ]
    }
   ],
   "source": [
    "dan = int(input(\"단수를 입력하세요.\"))\n",
    "print(f'==={dan}단===')\n",
    "for i in range(1, 10):\n",
    "    print(f'{dan} x {i} = {dan * i}')"
   ]
  },
  {
   "cell_type": "markdown",
   "id": "a43ecd22",
   "metadata": {},
   "source": [
    "#### `2번 1-n단 출력`"
   ]
  },
  {
   "cell_type": "code",
   "execution_count": 16,
   "id": "c29cefbe",
   "metadata": {},
   "outputs": [
    {
     "name": "stdout",
     "output_type": "stream",
     "text": [
      "단수를 입력하세요.3\n",
      "===1단===\n",
      "1 x 1 = 1\n",
      "1 x 2 = 2\n",
      "1 x 3 = 3\n",
      "1 x 4 = 4\n",
      "1 x 5 = 5\n",
      "1 x 6 = 6\n",
      "1 x 7 = 7\n",
      "1 x 8 = 8\n",
      "1 x 9 = 9\n",
      "\n",
      "===2단===\n",
      "2 x 1 = 2\n",
      "2 x 2 = 4\n",
      "2 x 3 = 6\n",
      "2 x 4 = 8\n",
      "2 x 5 = 10\n",
      "2 x 6 = 12\n",
      "2 x 7 = 14\n",
      "2 x 8 = 16\n",
      "2 x 9 = 18\n",
      "\n",
      "===3단===\n",
      "3 x 1 = 3\n",
      "3 x 2 = 6\n",
      "3 x 3 = 9\n",
      "3 x 4 = 12\n",
      "3 x 5 = 15\n",
      "3 x 6 = 18\n",
      "3 x 7 = 21\n",
      "3 x 8 = 24\n",
      "3 x 9 = 27\n",
      "\n"
     ]
    }
   ],
   "source": [
    "dan = int(input(\"단수를 입력하세요.\"))\n",
    "for i in range(1, dan + 1):\n",
    "    print(f'==={i}단===')\n",
    "    for j in range(1, 10):\n",
    "        print(f'{i} x {j} = {i * j}')\n",
    "    print()"
   ]
  },
  {
   "cell_type": "markdown",
   "id": "d0ed82ce",
   "metadata": {},
   "source": [
    "#### `3번 n-m단 출력`"
   ]
  },
  {
   "cell_type": "code",
   "execution_count": 29,
   "id": "1e5a187d",
   "metadata": {},
   "outputs": [
    {
     "name": "stdout",
     "output_type": "stream",
     "text": [
      "몇 단부터 출력하시겠습니까? (0이상의 수를 입력하세요.)5\n",
      "몇 단까지 출력하시겠습니까?3\n",
      "시작하는 단이 끝나는 단보다 큽니다. 다시 입력하세요.\n",
      "몇 단부터 출력하시겠습니까? (0이상의 수를 입력하세요.)1\n",
      "몇 단까지 출력하시겠습니까?3\n",
      "===1단===\n",
      "1 x 1 = 1\n",
      "1 x 2 = 2\n",
      "1 x 3 = 3\n",
      "1 x 4 = 4\n",
      "1 x 5 = 5\n",
      "1 x 6 = 6\n",
      "1 x 7 = 7\n",
      "1 x 8 = 8\n",
      "1 x 9 = 9\n",
      "===2단===\n",
      "2 x 1 = 2\n",
      "2 x 2 = 4\n",
      "2 x 3 = 6\n",
      "2 x 4 = 8\n",
      "2 x 5 = 10\n",
      "2 x 6 = 12\n",
      "2 x 7 = 14\n",
      "2 x 8 = 16\n",
      "2 x 9 = 18\n",
      "===3단===\n",
      "3 x 1 = 3\n",
      "3 x 2 = 6\n",
      "3 x 3 = 9\n",
      "3 x 4 = 12\n",
      "3 x 5 = 15\n",
      "3 x 6 = 18\n",
      "3 x 7 = 21\n",
      "3 x 8 = 24\n",
      "3 x 9 = 27\n",
      "\n"
     ]
    }
   ],
   "source": [
    "while True:\n",
    "    dan_from = int(input(\"몇 단부터 출력하시겠습니까? (0이상의 수를 입력하세요.)\"))\n",
    "    dan_to = int(input(\"몇 단까지 출력하시겠습니까?\"))\n",
    "\n",
    "    if dan_from < dan_to :\n",
    "        for i in range(dan_from, dan_to + 1) :\n",
    "            print(f'==={i}단===')\n",
    "            for j in range(1, 10):\n",
    "                print(f'{i} x {j} = {i * j}')\n",
    "        print()\n",
    "        break\n",
    "    else:   \n",
    "        print(\"시작하는 단이 끝나는 단보다 큽니다. 다시 입력하세요.\")"
   ]
  },
  {
   "cell_type": "markdown",
   "id": "27ebc48e",
   "metadata": {},
   "source": [
    "#### `4번 구구단 프로그램`"
   ]
  },
  {
   "cell_type": "code",
   "execution_count": 44,
   "id": "025c858d",
   "metadata": {},
   "outputs": [
    {
     "name": "stdout",
     "output_type": "stream",
     "text": [
      "원하는 메뉴를 숫자로 입력하세요.\n",
      "        1) n단 계산\n",
      "        2) 1-n단 계산\n",
      "        3) n-m단 계산\n",
      "        4) 종료1\n",
      "1) n단 계산\n",
      "몇 단을 출력하시겠습니까? (0이상의 수를 입력하세요.)5\n",
      "===5단===\n",
      "5 x 1 = 5\n",
      "5 x 2 = 10\n",
      "5 x 3 = 15\n",
      "5 x 4 = 20\n",
      "5 x 5 = 25\n",
      "5 x 6 = 30\n",
      "5 x 7 = 35\n",
      "5 x 8 = 40\n",
      "5 x 9 = 45\n",
      "\n",
      "원하는 메뉴를 숫자로 입력하세요.\n",
      "        1) n단 계산\n",
      "        2) 1-n단 계산\n",
      "        3) n-m단 계산\n",
      "        4) 종료2\n",
      "2) 1-n단 계산\n",
      "몇 단까지 출력하시겠습니까?2\n",
      "===1단===\n",
      "1 x 1 = 1\n",
      "1 x 2 = 2\n",
      "1 x 3 = 3\n",
      "1 x 4 = 4\n",
      "1 x 5 = 5\n",
      "1 x 6 = 6\n",
      "1 x 7 = 7\n",
      "1 x 8 = 8\n",
      "1 x 9 = 9\n",
      "\n",
      "===2단===\n",
      "2 x 1 = 2\n",
      "2 x 2 = 4\n",
      "2 x 3 = 6\n",
      "2 x 4 = 8\n",
      "2 x 5 = 10\n",
      "2 x 6 = 12\n",
      "2 x 7 = 14\n",
      "2 x 8 = 16\n",
      "2 x 9 = 18\n",
      "\n",
      "원하는 메뉴를 숫자로 입력하세요.\n",
      "        1) n단 계산\n",
      "        2) 1-n단 계산\n",
      "        3) n-m단 계산\n",
      "        4) 종료3\n",
      "3) n-m단 계산\n",
      "몇 단부터 출력하시겠습니까? (0이상의 수를 입력하세요.)5\n",
      "몇 단까지 출력하시겠습니까?6\n",
      "===5단===\n",
      "5 x 1 = 5\n",
      "5 x 2 = 10\n",
      "5 x 3 = 15\n",
      "5 x 4 = 20\n",
      "5 x 5 = 25\n",
      "5 x 6 = 30\n",
      "5 x 7 = 35\n",
      "5 x 8 = 40\n",
      "5 x 9 = 45\n",
      "\n",
      "===6단===\n",
      "6 x 1 = 6\n",
      "6 x 2 = 12\n",
      "6 x 3 = 18\n",
      "6 x 4 = 24\n",
      "6 x 5 = 30\n",
      "6 x 6 = 36\n",
      "6 x 7 = 42\n",
      "6 x 8 = 48\n",
      "6 x 9 = 54\n",
      "\n",
      "원하는 메뉴를 숫자로 입력하세요.\n",
      "        1) n단 계산\n",
      "        2) 1-n단 계산\n",
      "        3) n-m단 계산\n",
      "        4) 종료6\n",
      "존재하지 않는 메뉴입니다. 다시 시작합니다.\n",
      "원하는 메뉴를 숫자로 입력하세요.\n",
      "        1) n단 계산\n",
      "        2) 1-n단 계산\n",
      "        3) n-m단 계산\n",
      "        4) 종료4\n",
      "프로그램을 종료합니다.\n"
     ]
    }
   ],
   "source": [
    "while True:\n",
    "    menu = int(input(f'''원하는 메뉴를 숫자로 입력하세요.\n",
    "        1) n단 계산\n",
    "        2) 1-n단 계산\n",
    "        3) n-m단 계산\n",
    "        4) 종료'''))\n",
    "    if menu == 1:\n",
    "        print('1) n단 계산')\n",
    "        start_dan = int(input(\"몇 단을 출력하시겠습니까? (0이상의 수를 입력하세요.)\"))\n",
    "        end_dan == start_dan\n",
    "    elif menu == 2:\n",
    "        print('2) 1-n단 계산')        \n",
    "        start_dan = 1\n",
    "        end_dan = int(input(\"몇 단까지 출력하시겠습니까?\"))\n",
    "    elif menu == 3:\n",
    "        print('3) n-m단 계산')\n",
    "        start_dan = int(input(\"몇 단부터 출력하시겠습니까? (0이상의 수를 입력하세요.)\"))\n",
    "        end_dan = int(input(\"몇 단까지 출력하시겠습니까?\"))\n",
    "    elif menu == 4:\n",
    "        print('프로그램을 종료합니다.')\n",
    "        break\n",
    "    else:\n",
    "        print('존재하지 않는 메뉴입니다. 다시 시작합니다.')\n",
    "        continue\n",
    "        \n",
    "    if start_dan > end_dan:\n",
    "        print('시작 단을 끝 단보다 작게 입력하세요. 다시 시작합니다.')\n",
    "        continue\n",
    "        \n",
    "    if start_dan < 1 or end_dan > 9:\n",
    "        print('시작 단을 1보다 크게, 끝 단은 9보다 작게 입력하세요.')\n",
    "        continue\n",
    "         \n",
    "    for i in range(start_dan, end_dan + 1) :\n",
    "        print(f'==={i}단===')\n",
    "        for j in range(1, 10):\n",
    "            print(f'{i} x {j} = {i * j}')\n",
    "        print()\n",
    "\n",
    "               \n",
    "           \n"
   ]
  },
  {
   "cell_type": "markdown",
   "id": "9de6e7c2",
   "metadata": {},
   "source": [
    "### 3. NLTK corpus\n"
   ]
  },
  {
   "cell_type": "code",
   "execution_count": 46,
   "id": "1c891dc0",
   "metadata": {},
   "outputs": [
    {
     "name": "stdout",
     "output_type": "stream",
     "text": [
      "*** Introductory Examples for the NLTK Book ***\n",
      "Loading text1, ..., text9 and sent1, ..., sent9\n",
      "Type the name of the text or sentence to view it.\n",
      "Type: 'texts()' or 'sents()' to list the materials.\n",
      "text1: Moby Dick by Herman Melville 1851\n",
      "text2: Sense and Sensibility by Jane Austen 1811\n",
      "text3: The Book of Genesis\n",
      "text4: Inaugural Address Corpus\n",
      "text5: Chat Corpus\n",
      "text6: Monty Python and the Holy Grail\n",
      "text7: Wall Street Journal\n",
      "text8: Personals Corpus\n",
      "text9: The Man Who Was Thursday by G . K . Chesterton 1908\n"
     ]
    },
    {
     "data": {
      "text/plain": [
       "True"
      ]
     },
     "execution_count": 46,
     "metadata": {},
     "output_type": "execute_result"
    }
   ],
   "source": [
    "import nltk\n",
    "from nltk.book import *\n",
    "nltk.download('book', quiet = True)"
   ]
  },
  {
   "cell_type": "code",
   "execution_count": null,
   "id": "984c4d5a",
   "metadata": {},
   "outputs": [],
   "source": [
    "#text 1-9\n",
    "    # text 1 vs 'text1' 은 다름\n",
    "    #  변수  vs  string\n",
    "    \n",
    "    # step1. text1 - 9를 string으로 가져오기\n",
    "    # step2. str -> fx <string을 어떤 기능이 있는 것으로 바꿔주기>\n",
    "            #fx : getattr(library, 'string_name')"
   ]
  },
  {
   "cell_type": "code",
   "execution_count": null,
   "id": "97fc8860",
   "metadata": {},
   "outputs": [],
   "source": [
    "#step 1.\n",
    "texts = [text1, text2, text3, text4, text5, text6, text7, text8, text9]"
   ]
  },
  {
   "cell_type": "code",
   "execution_count": 47,
   "id": "b876d55c",
   "metadata": {
    "scrolled": true
   },
   "outputs": [
    {
     "data": {
      "text/plain": [
       "[<Text: Moby Dick by Herman Melville 1851>,\n",
       " <Text: Sense and Sensibility by Jane Austen 1811>,\n",
       " <Text: The Book of Genesis>,\n",
       " <Text: Inaugural Address Corpus>,\n",
       " <Text: Chat Corpus>,\n",
       " <Text: Monty Python and the Holy Grail>,\n",
       " <Text: Wall Street Journal>,\n",
       " <Text: Personals Corpus>,\n",
       " <Text: The Man Who Was Thursday by G . K . Chesterton 1908>]"
      ]
     },
     "execution_count": 47,
     "metadata": {},
     "output_type": "execute_result"
    }
   ],
   "source": [
    "#step 2.\n",
    "texts = [getattr(nltk.book, f'text{i}') for i in range(1, 10)]\n",
    "texts"
   ]
  },
  {
   "cell_type": "code",
   "execution_count": 48,
   "id": "b8c659c5",
   "metadata": {},
   "outputs": [
    {
     "data": {
      "text/plain": [
       "<Text: Moby Dick by Herman Melville 1851>"
      ]
     },
     "execution_count": 48,
     "metadata": {},
     "output_type": "execute_result"
    }
   ],
   "source": [
    "texts[0]"
   ]
  },
  {
   "cell_type": "markdown",
   "id": "640a0b61",
   "metadata": {},
   "source": [
    "### 3-1. NLTK corpus\n",
    "- 코퍼스 + 테마\n",
    "- 종류\n",
    "    - brown\n",
    "    - gutenberg\n",
    "    - inaugural\n",
    "- methods\n",
    "    - words(file) #nltk의 tokens와 유사 #단어수\n",
    "    - sents(file) #문장수\n",
    "    - raw(file) #모든 것을 string으로 반환해줌\n",
    "    - fileids(file) #file의 목록이 뜸"
   ]
  },
  {
   "cell_type": "code",
   "execution_count": 49,
   "id": "2cfa62e8",
   "metadata": {},
   "outputs": [
    {
     "name": "stderr",
     "output_type": "stream",
     "text": [
      "[nltk_data] Downloading package brown to\n",
      "[nltk_data]     C:\\Users\\panom\\AppData\\Roaming\\nltk_data...\n",
      "[nltk_data]   Package brown is already up-to-date!\n",
      "[nltk_data] Downloading package gutenberg to\n",
      "[nltk_data]     C:\\Users\\panom\\AppData\\Roaming\\nltk_data...\n",
      "[nltk_data]   Package gutenberg is already up-to-date!\n",
      "[nltk_data] Downloading package inaugural to\n",
      "[nltk_data]     C:\\Users\\panom\\AppData\\Roaming\\nltk_data...\n",
      "[nltk_data]   Package inaugural is already up-to-date!\n"
     ]
    },
    {
     "data": {
      "text/plain": [
       "True"
      ]
     },
     "execution_count": 49,
     "metadata": {},
     "output_type": "execute_result"
    }
   ],
   "source": [
    "from nltk.corpus import gutenberg\n",
    "nltk.download(['brown', 'gutenberg', 'inaugural'])"
   ]
  },
  {
   "cell_type": "code",
   "execution_count": 51,
   "id": "6b465972",
   "metadata": {},
   "outputs": [],
   "source": [
    "# 이렇게 import 해도 됨\n",
    "# gutenberg = nltk.corpus.gutenberg"
   ]
  },
  {
   "cell_type": "markdown",
   "id": "76b9ecc6",
   "metadata": {},
   "source": [
    "### `.fileids()` : 파일 목록 확인"
   ]
  },
  {
   "cell_type": "code",
   "execution_count": 52,
   "id": "fe1177d2",
   "metadata": {},
   "outputs": [
    {
     "data": {
      "text/plain": [
       "['austen-emma.txt',\n",
       " 'austen-persuasion.txt',\n",
       " 'austen-sense.txt',\n",
       " 'bible-kjv.txt',\n",
       " 'blake-poems.txt',\n",
       " 'bryant-stories.txt',\n",
       " 'burgess-busterbrown.txt',\n",
       " 'carroll-alice.txt',\n",
       " 'chesterton-ball.txt',\n",
       " 'chesterton-brown.txt',\n",
       " 'chesterton-thursday.txt',\n",
       " 'edgeworth-parents.txt',\n",
       " 'melville-moby_dick.txt',\n",
       " 'milton-paradise.txt',\n",
       " 'shakespeare-caesar.txt',\n",
       " 'shakespeare-hamlet.txt',\n",
       " 'shakespeare-macbeth.txt',\n",
       " 'whitman-leaves.txt']"
      ]
     },
     "execution_count": 52,
     "metadata": {},
     "output_type": "execute_result"
    }
   ],
   "source": [
    "gutenberg.fileids()"
   ]
  },
  {
   "cell_type": "markdown",
   "id": "7df295e6",
   "metadata": {},
   "source": [
    "### `예제` 각 파일마다 word, charcter, sents 개수 출력하기\n",
    "ex) auten-emma | 글자수 = 14개, 단어 수 = 15개, 문장 수 = 33개"
   ]
  },
  {
   "cell_type": "code",
   "execution_count": 44,
   "id": "dd8622b8",
   "metadata": {},
   "outputs": [
    {
     "data": {
      "text/plain": [
       "['[', 'Alice', \"'\", 's', 'Adventures', 'in', ...]"
      ]
     },
     "execution_count": 44,
     "metadata": {},
     "output_type": "execute_result"
    }
   ],
   "source": [
    "#파일에 접근하는 방법\n",
    "gutenberg.words(fileids=['carroll-alice.txt', 'austen-emma.txt'])"
   ]
  },
  {
   "cell_type": "code",
   "execution_count": 64,
   "id": "3f29dee7",
   "metadata": {},
   "outputs": [
    {
     "name": "stdout",
     "output_type": "stream",
     "text": [
      "austen-emma|글자 수=192427개, 단어 수=887071개, 문장 수=7752개\n",
      "austen-persuasion|글자 수=98171개, 단어 수=466292개, 문장 수=3747개\n",
      "austen-sense|글자 수=141576개, 단어 수=673022개, 문장 수=4999개\n",
      "bible-kjv|글자 수=1010654개, 단어 수=4332554개, 문장 수=30103개\n",
      "blake-poems|글자 수=8354개, 단어 수=38153개, 문장 수=438개\n",
      "bryant-stories|글자 수=55563개, 단어 수=249439개, 문장 수=2863개\n",
      "burgess-busterbrown|글자 수=18963개, 단어 수=84663개, 문장 수=1054개\n",
      "carroll-alice|글자 수=34110개, 단어 수=144395개, 문장 수=1703개\n",
      "chesterton-ball|글자 수=96996개, 단어 수=457450개, 문장 수=4779개\n",
      "chesterton-brown|글자 수=86063개, 단어 수=406629개, 문장 수=3806개\n",
      "chesterton-thursday|글자 수=69213개, 단어 수=320525개, 문장 수=3742개\n",
      "edgeworth-parents|글자 수=210663개, 단어 수=935158개, 문장 수=10230개\n",
      "melville-moby_dick|글자 수=260819개, 단어 수=1242990개, 문장 수=10059개\n",
      "milton-paradise|글자 수=96825개, 단어 수=468220개, 문장 수=1851개\n",
      "shakespeare-caesar|글자 수=25833개, 단어 수=112310개, 문장 수=2163개\n",
      "shakespeare-hamlet|글자 수=37360개, 단어 수=162881개, 문장 수=3106개\n",
      "shakespeare-macbeth|글자 수=23140개, 단어 수=100351개, 문장 수=1907개\n",
      "whitman-leaves|글자 수=154883개, 단어 수=711215개, 문장 수=4250개\n"
     ]
    }
   ],
   "source": [
    "for file in gutenberg.fileids():\n",
    "    words = len(gutenberg.words(file))\n",
    "    characters = len(gutenberg.raw(file))\n",
    "    sents = len(gutenberg.sents(file))\n",
    "    \n",
    "    print(f'{file[:-4]}|글자 수={words}개, 단어 수={characters}개, 문장 수={sents}개')"
   ]
  },
  {
   "cell_type": "code",
   "execution_count": 61,
   "id": "3bdfbcdd",
   "metadata": {},
   "outputs": [
    {
     "data": {
      "text/plain": [
       "['[', 'Emma', 'by', 'Jane', 'Austen', '1816', ']', ...]"
      ]
     },
     "execution_count": 61,
     "metadata": {},
     "output_type": "execute_result"
    }
   ],
   "source": [
    "#corpus method 함수\n",
    "#gutenberg에서 함수 쓰기\n",
    "\n",
    "# gutenberg.words(파일명)\n",
    "gutenberg.words('austen-emma.txt')\n",
    "\n",
    "# .words 등의 methods는 인자가 fileids 밖에 없어서 생략해도 괜찮\n",
    "# 근데, brown은 안됨."
   ]
  },
  {
   "cell_type": "markdown",
   "id": "187abc7b",
   "metadata": {},
   "source": [
    "### 4. Gutenberg\n",
    "1. shakespeare-caesar의 중복된 단어를 거르고 각 단어의 길이를 출력하시오.\n",
    "2. chesterton-thursday에서 길이가 4자 이하인 알파벳 중 ie를 포함하는 단어를 소문자로 출력하고, 개수를 세어라. #list-comprehension쓰고, for-loop 쓰지마\n",
    "3. bryant-stories에서 ch로 끝나는 단어를 출력하는 데, 중복 없이, 첫글자(모두 소문자)와 끝 ch만 남기고 가운데 글자들은 모두 -로 가려라. \n",
    "    ex) much -> m-ch"
   ]
  },
  {
   "cell_type": "code",
   "execution_count": 77,
   "id": "ba660672",
   "metadata": {
    "scrolled": true
   },
   "outputs": [
    {
     "data": {
      "text/plain": [
       "[5, 6, 3, 8, 5, 6, 7, 6, 5, 6]"
      ]
     },
     "execution_count": 77,
     "metadata": {},
     "output_type": "execute_result"
    }
   ],
   "source": [
    "#1번문제 \n",
    "# [len(word.lower()) for word in set((gutenberg.words('shakespeare-caesar.txt')))]\n",
    "# in set()보다는 set[]으로 전체 감싸는 게 더 옳은 방법\n",
    "\n",
    "# 여기서는 리스트컴프리헨션 쓰기. for loop는 너무 길어짐\n",
    "\n",
    "a = [len(word.lower()) for word in set(gutenberg.words('shakespeare-caesar.txt'))]\n",
    "a[:10] #많아서 10개만 출력"
   ]
  },
  {
   "cell_type": "markdown",
   "id": "4378c183",
   "metadata": {},
   "source": [
    "1. 전체를 감싸는 경우 실행이 되지 않음. \n",
    "2. 출력값이 교수님과 다르게 나옴. 어떻게 된건지?"
   ]
  },
  {
   "cell_type": "code",
   "execution_count": 86,
   "id": "b548cd3b",
   "metadata": {},
   "outputs": [
    {
     "data": {
      "text/plain": [
       "37"
      ]
     },
     "execution_count": 86,
     "metadata": {},
     "output_type": "execute_result"
    }
   ],
   "source": [
    "#2번문제\n",
    "len([word.lower() for word in gutenberg.words('chesterton-thursday.txt') if word.isalpha() and (len(word) <= 4) and ('ie' in word)])"
   ]
  },
  {
   "cell_type": "code",
   "execution_count": 90,
   "id": "a7994425",
   "metadata": {},
   "outputs": [
    {
     "data": {
      "text/plain": [
       "{'a-ch',\n",
       " 'b---ch',\n",
       " 'b--ch',\n",
       " 'c---ch',\n",
       " 'c--ch',\n",
       " 'e-ch',\n",
       " 'f---ch',\n",
       " 'f--ch',\n",
       " 'l--ch',\n",
       " 'm-ch',\n",
       " 'p--ch',\n",
       " 'r--ch',\n",
       " 'r-ch',\n",
       " 's----ch',\n",
       " 's---ch',\n",
       " 's-ch',\n",
       " 't---ch',\n",
       " 't--ch',\n",
       " 'w--ch'}"
      ]
     },
     "execution_count": 90,
     "metadata": {},
     "output_type": "execute_result"
    }
   ],
   "source": [
    "#3번문제 #[2:-3]아님\n",
    "text = gutenberg.words('bryant-stories.txt')\n",
    "set([word.lower().replace(word[1:-2],'-' * len(word[1:-2])) for word in text if word.endswith('ch')])"
   ]
  },
  {
   "cell_type": "markdown",
   "id": "0ac2c100",
   "metadata": {},
   "source": [
    "### 5. brown\n",
    "* categories()"
   ]
  },
  {
   "cell_type": "code",
   "execution_count": 91,
   "id": "2b6762a9",
   "metadata": {},
   "outputs": [],
   "source": [
    "#import 하는 법\n",
    "brown = nltk.corpus.brown"
   ]
  },
  {
   "cell_type": "code",
   "execution_count": 92,
   "id": "c51bcb2f",
   "metadata": {},
   "outputs": [
    {
     "data": {
      "text/plain": [
       "['adventure',\n",
       " 'belles_lettres',\n",
       " 'editorial',\n",
       " 'fiction',\n",
       " 'government',\n",
       " 'hobbies',\n",
       " 'humor',\n",
       " 'learned',\n",
       " 'lore',\n",
       " 'mystery',\n",
       " 'news',\n",
       " 'religion',\n",
       " 'reviews',\n",
       " 'romance',\n",
       " 'science_fiction']"
      ]
     },
     "execution_count": 92,
     "metadata": {},
     "output_type": "execute_result"
    }
   ],
   "source": [
    "#brown은 categories가 있음\n",
    "brown.categories()"
   ]
  },
  {
   "cell_type": "code",
   "execution_count": null,
   "id": "856adbbd",
   "metadata": {},
   "outputs": [],
   "source": [
    "# brown은 method 함수의 인자로 fileids가 있음\n",
    "# nltk.FreqDist([w.lower() for w in brown.words(categories='adventure', fileids = )])"
   ]
  },
  {
   "cell_type": "code",
   "execution_count": 95,
   "id": "a6a3be64",
   "metadata": {},
   "outputs": [],
   "source": [
    "# 꼭 categories 써주기\n",
    "fdist = nltk.FreqDist([w.lower() for w in brown.words(categories='adventure')])"
   ]
  },
  {
   "cell_type": "code",
   "execution_count": 96,
   "id": "94b5f7ee",
   "metadata": {},
   "outputs": [
    {
     "data": {
      "text/plain": [
       "83"
      ]
     },
     "execution_count": 96,
     "metadata": {},
     "output_type": "execute_result"
    }
   ],
   "source": [
    "# men의 distribution\n",
    "fdist['men']"
   ]
  },
  {
   "cell_type": "code",
   "execution_count": 79,
   "id": "20635d35",
   "metadata": {},
   "outputs": [
    {
     "name": "stdout",
     "output_type": "stream",
     "text": [
      "can 48\n",
      "could 154\n",
      "will 51\n",
      "would 194\n",
      "may 7\n",
      "might 59\n"
     ]
    }
   ],
   "source": [
    "#modal verbs와 distribution\n",
    "modals = ['can', 'could', 'will', 'would', 'may', 'might']\n",
    "\n",
    "for verb in modals:\n",
    "    print(verb, fdist[verb])"
   ]
  },
  {
   "cell_type": "markdown",
   "id": "0c1ab447",
   "metadata": {},
   "source": [
    "### conditional frequency distribution\n",
    "* 조건에 따른 fdist"
   ]
  },
  {
   "cell_type": "code",
   "execution_count": 98,
   "id": "4178cac8",
   "metadata": {},
   "outputs": [],
   "source": [
    "cfd = nltk.ConditionalFreqDist(\n",
    "    #각 장르에 따른 frequency distribution을 만든다.\n",
    "    (genre, word.lower())\n",
    "    for genre in brown.categories()     #brown 코퍼스 내의 카테고리들을 모두 순회함\n",
    "    for word in brown.words(categories=genre)  # genre 변수 안에 담긴 카테고리 내의 단어들을 word 변수에 반환함 \n",
    ")\n"
   ]
  },
  {
   "cell_type": "code",
   "execution_count": 99,
   "id": "74e17727",
   "metadata": {
    "scrolled": false
   },
   "outputs": [
    {
     "data": {
      "text/plain": [
       "FreqDist({',': 3899, '.': 3736, 'the': 2988, 'and': 1905, 'to': 1517, 'a': 1383, 'of': 1202, 'he': 1068, '``': 1045, \"''\": 1044, ...})"
      ]
     },
     "execution_count": 99,
     "metadata": {},
     "output_type": "execute_result"
    }
   ],
   "source": [
    "#장르의 distribution\n",
    "#FreqDist([word.lower() for word in brown.words(categories='romance')])\n",
    "cfd['romance']     #로맨스 카테고리 내의 모든 단어들의 FreqDist를 반환함"
   ]
  },
  {
   "cell_type": "code",
   "execution_count": 101,
   "id": "8918593d",
   "metadata": {
    "scrolled": true
   },
   "outputs": [
    {
     "data": {
      "text/plain": [
       "[(',', 3899),\n",
       " ('.', 3736),\n",
       " ('the', 2988),\n",
       " ('and', 1905),\n",
       " ('to', 1517),\n",
       " ('a', 1383),\n",
       " ('of', 1202),\n",
       " ('he', 1068),\n",
       " ('``', 1045),\n",
       " (\"''\", 1044)]"
      ]
     },
     "execution_count": 101,
     "metadata": {},
     "output_type": "execute_result"
    }
   ],
   "source": [
    "cfd['romance'].most_common(10)"
   ]
  },
  {
   "cell_type": "code",
   "execution_count": 102,
   "id": "a43da52b",
   "metadata": {},
   "outputs": [
    {
     "name": "stdout",
     "output_type": "stream",
     "text": [
      "romance| 36\n"
     ]
    }
   ],
   "source": [
    "# romance에서 love가 몇 번 나왔나?\n",
    "# romance라는 카테고리 내의 'love'라는 word의 빈도 수 출력\n",
    "print('romance|',cfd['romance']['love'])"
   ]
  },
  {
   "cell_type": "code",
   "execution_count": 82,
   "id": "b14d0241",
   "metadata": {},
   "outputs": [],
   "source": [
    "#gutenberg에서도 연습해보면 좋음"
   ]
  }
 ],
 "metadata": {
  "kernelspec": {
   "display_name": "Python 3 (ipykernel)",
   "language": "python",
   "name": "python3"
  },
  "language_info": {
   "codemirror_mode": {
    "name": "ipython",
    "version": 3
   },
   "file_extension": ".py",
   "mimetype": "text/x-python",
   "name": "python",
   "nbconvert_exporter": "python",
   "pygments_lexer": "ipython3",
   "version": "3.9.7"
  }
 },
 "nbformat": 4,
 "nbformat_minor": 5
}
