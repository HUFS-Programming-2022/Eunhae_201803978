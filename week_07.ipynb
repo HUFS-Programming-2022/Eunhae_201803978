{
 "cells": [
  {
   "cell_type": "markdown",
   "id": "4c55ece3",
   "metadata": {},
   "source": [
    "## Week 07"
   ]
  },
  {
   "cell_type": "markdown",
   "id": "6dec9a67",
   "metadata": {},
   "source": [
    "### 함수\n",
    "1. 정의\n",
    "2. 인수\n",
    "3. 호출 방식\n",
    "\n",
    "세가지로 나눠서 배움"
   ]
  },
  {
   "cell_type": "markdown",
   "id": "a189b72d",
   "metadata": {},
   "source": [
    "#### 1. 정의\n",
    "- 코드의 덩어리, 코드의 묶음\n",
    "- 간편한 재사용을 위해, 한 줄로 재사용 가능하다.\n",
    "- 정의(define) 부분 + 호출(call) 부분이 있음\n",
    "    - 정의하가ㅣ\n",
    "    def 함수이름(매개변수1, 2, 3, ...)\n",
    "        수행문1 (매개변수를 이용)\n",
    "        수행문2\n",
    "        ....\n",
    "        return 반환값\n",
    "    - 호출하기\n",
    "    함수이름(인수1, 2, 3, ...)\n",
    "    \n",
    "* 함수에는 4가지 case\n",
    "    1. 둘 다 없는\n",
    "    2. 둘 다 있는\n",
    "    3. 매개변수만 있는\n",
    "    4. 반환값만 있는"
   ]
  },
  {
   "cell_type": "code",
   "execution_count": null,
   "id": "6e3323b6",
   "metadata": {},
   "outputs": [],
   "source": [
    "y = x + 1 # x=매개변수, y=반환값, x+1 수행문"
   ]
  },
  {
   "cell_type": "code",
   "execution_count": null,
   "id": "37c5c6d5",
   "metadata": {},
   "outputs": [],
   "source": [
    "split(), join()  # 내장함수\n",
    "\n",
    "'''\n",
    "def split()\n",
    "    ####\n",
    "    retrun\n",
    "'''"
   ]
  },
  {
   "cell_type": "code",
   "execution_count": 3,
   "id": "22cf4e42",
   "metadata": {},
   "outputs": [
    {
     "data": {
      "text/plain": [
       "2"
      ]
     },
     "execution_count": 3,
     "metadata": {},
     "output_type": "execute_result"
    }
   ],
   "source": [
    "#01. 입력 없고, 반환도 없음\n",
    "def ex1():\n",
    "    print('quack')\n",
    "    # return None\n",
    "    \n",
    "ex1()"
   ]
  },
  {
   "cell_type": "code",
   "execution_count": 5,
   "id": "7266eeb8",
   "metadata": {},
   "outputs": [
    {
     "data": {
      "text/plain": [
       "5"
      ]
     },
     "execution_count": 5,
     "metadata": {},
     "output_type": "execute_result"
    }
   ],
   "source": [
    "#02. 입력 없고,반환은 있음\n",
    "def ex2():\n",
    "    return True\n",
    "\n",
    "ex2()\n"
   ]
  },
  {
   "cell_type": "code",
   "execution_count": null,
   "id": "f49ef67e",
   "metadata": {},
   "outputs": [],
   "source": [
    "#03. 입력 있고, 반환 없고\n",
    "def ex3(anything):\n",
    "    print('{0} {0}'.format(anything))\n",
    "\n",
    "\n",
    "ex3('hello')"
   ]
  },
  {
   "cell_type": "code",
   "execution_count": 6,
   "id": "041d25ac",
   "metadata": {},
   "outputs": [
    {
     "name": "stdout",
     "output_type": "stream",
     "text": [
      "quack\n"
     ]
    }
   ],
   "source": [
    "# 4. 입력값 없어도 출력값이 있을 수 있다.\n",
    "def ex4(anything):  # hello 변수에 담을 수 있고 없고의 차이(3번과 4번 차이)\n",
    "    return '{0} {0}'.format(anything)   #anything 매개변수 - 코드내에서만 실행됨\n",
    "\n",
    "\n",
    "ex4 = ex4('hello') #hello가 인수\n",
    "ex4"
   ]
  },
  {
   "cell_type": "markdown",
   "id": "44b7efd0",
   "metadata": {},
   "source": [
    "- 이름 짓기\n",
    "    - 소문자만 사용\n",
    "        - splitWord???\n",
    "        - split_word\n",
    "    - 동작과 관련되어 있기 때문에 \"동사+명사\"의 형태를 주로 씀\n",
    "    - i.e., 클래스는 명사 def split_word() : (x)\n",
    "    - 줄임말 쓰지 말 것\n",
    "        - splt_word (x)\n",
    "        - calculate -> calc 까진 괜찮음"
   ]
  },
  {
   "cell_type": "markdown",
   "id": "f48a3110",
   "metadata": {},
   "source": [
    "#### 2. 인수\n",
    "- 매개변수 vs. 인수\n",
    "    - 매개변수 : 함수 내(\"인터페이스\")에서 유효한 변수\n",
    "    - 인수 : 실제 매개변수에 대입되는 변수\n",
    "    - \"호출 시에 인수가 매개변수에 복제된다\" yay -> sound\n",
    "    \n",
    "- 위치인수\n",
    "    - positional argument\n",
    "    - 값을 순서대로 상응하는 매개변수에 복사하는 것.\n",
    "- 키워드 인수\n",
    "    - keyword argument\n",
    "    - 매개변수 키워드에 맞는 인수로 지정\n",
    "- 디폴트 인수\n",
    "    - defalut argument\n",
    "    - 매개변수를 정의할 때 값을 미리 지정해놓는 것\n",
    "    - 호출 시에 값이 입력되지 않으면 디폴트값을 사용한다.\n",
    "    - 디폴트값이 "
   ]
  },
  {
   "cell_type": "code",
   "execution_count": 1,
   "id": "29a8d3b3",
   "metadata": {},
   "outputs": [
    {
     "data": {
      "text/plain": [
       "'black'"
      ]
     },
     "execution_count": 1,
     "metadata": {},
     "output_type": "execute_result"
    }
   ],
   "source": [
    "def commentary(color):\n",
    "    # pass\n",
    "    if color == 'g':\n",
    "        return 'green'\n",
    "    else:\n",
    "        return 'black'\n",
    "    \n",
    "color = 'white'\n",
    "commentary(color)"
   ]
  },
  {
   "cell_type": "code",
   "execution_count": null,
   "id": "e935d32b",
   "metadata": {},
   "outputs": [],
   "source": [
    "def make_a_sound(sound):\n",
    "    print(sound)\n",
    "    \n",
    "yay = 'yay'\n",
    "make_a_sound(yay)"
   ]
  },
  {
   "cell_type": "code",
   "execution_count": 9,
   "id": "7b1c314c",
   "metadata": {},
   "outputs": [
    {
     "data": {
      "text/plain": [
       "'black'"
      ]
     },
     "execution_count": 9,
     "metadata": {},
     "output_type": "execute_result"
    }
   ],
   "source": [
    "def commentary(color):\n",
    "    if color == 'g':\n",
    "        return 'green'\n",
    "    else:\n",
    "        return 'black'\n",
    "    \n",
    "color = 'white'\n",
    "commentary(color)"
   ]
  },
  {
   "cell_type": "code",
   "execution_count": 3,
   "id": "ea5a8bb6",
   "metadata": {},
   "outputs": [
    {
     "name": "stdout",
     "output_type": "stream",
     "text": [
      "green\n",
      "black\n",
      "black\n"
     ]
    }
   ],
   "source": [
    "# 실제로는 이렇게 씀\n",
    "colors = ['g', 'b', 't'] #리스트로 담아서 #for문에서 사용\n",
    "          \n",
    "for color in colors:\n",
    "          print(commentary(color))"
   ]
  },
  {
   "cell_type": "code",
   "execution_count": 12,
   "id": "90f0dca2",
   "metadata": {},
   "outputs": [
    {
     "data": {
      "text/plain": [
       "{'wine': 'a', 'entree': 'b', 'dessert': 'c'}"
      ]
     },
     "execution_count": 12,
     "metadata": {},
     "output_type": "execute_result"
    }
   ],
   "source": [
    "# 위치 인수\n",
    "def menu(wine, entree, dessert):\n",
    "    return {'wine':wine, 'entree':entree, 'dessert':dessert}\n",
    "\n",
    "menu('a', 'b', 'c')"
   ]
  },
  {
   "cell_type": "code",
   "execution_count": 13,
   "id": "e4467fe1",
   "metadata": {},
   "outputs": [
    {
     "data": {
      "text/plain": [
       "{'wine': 'c', 'entree': 'a', 'dessert': 'b'}"
      ]
     },
     "execution_count": 13,
     "metadata": {},
     "output_type": "execute_result"
    }
   ],
   "source": [
    "# 키워드 인수\n",
    "menu(entree = 'a', dessert = 'b', wine = 'c')"
   ]
  },
  {
   "cell_type": "code",
   "execution_count": 14,
   "id": "99d7c50a",
   "metadata": {},
   "outputs": [
    {
     "data": {
      "text/plain": [
       "{'wine': 'rioja', 'entree': 'egg', 'dessert': 'strawberry'}"
      ]
     },
     "execution_count": 14,
     "metadata": {},
     "output_type": "execute_result"
    }
   ],
   "source": [
    "# 디폴트 인수\n",
    "def menu2(wine, entree, dessert = 'strawberry'):\n",
    "    return {'wine':wine, 'entree':entree, 'dessert':dessert}\n",
    "\n",
    "menu2('rioja', 'egg')"
   ]
  },
  {
   "cell_type": "code",
   "execution_count": null,
   "id": "70a300a2",
   "metadata": {},
   "outputs": [],
   "source": [
    "# 위치 인수 + 키워드 인수 횬용할 때 주의! \n",
    "menu('egg', 'rioja', dessert='pancake')  # 마지막만 가능"
   ]
  },
  {
   "cell_type": "code",
   "execution_count": 15,
   "id": "e0f28611",
   "metadata": {
    "scrolled": false
   },
   "outputs": [
    {
     "data": {
      "text/plain": [
       "{'wine': 'rioja', 'entree': 'egg', 'dessert': 'kiwi'}"
      ]
     },
     "execution_count": 15,
     "metadata": {},
     "output_type": "execute_result"
    }
   ],
   "source": [
    "menu2('merlot','egg') # 2개도 가능"
   ]
  },
  {
   "cell_type": "markdown",
   "id": "a83118a9",
   "metadata": {},
   "source": [
    "## `Quiz` 나이 -> 연도\n",
    "나이 입력값\n",
    "input 입력 받아서 함수 사용해서 출력.\n",
    "\n",
    "def fx():\n",
    "\n",
    "* 입력값 = 나이   \n",
    "* 반환값 = 출생년도"
   ]
  },
  {
   "cell_type": "code",
   "execution_count": 4,
   "id": "8277e9e5",
   "metadata": {},
   "outputs": [
    {
     "name": "stdout",
     "output_type": "stream",
     "text": [
      "24\n"
     ]
    },
    {
     "data": {
      "text/plain": [
       "1999"
      ]
     },
     "execution_count": 4,
     "metadata": {},
     "output_type": "execute_result"
    }
   ],
   "source": [
    "def cal_birth_year(n):  # 함수명 중요!\n",
    "    now_age = 2022 - n + 1\n",
    "    return now_age\n",
    "\n",
    "age = int(input())\n",
    "cal_birth_year(age)"
   ]
  },
  {
   "cell_type": "markdown",
   "id": "4beb56f0",
   "metadata": {},
   "source": [
    "### 3. 호출방식\n",
    "- 정의 부분은 호출 시 실행된다.\n",
    "- 메모리에 저장되어 있다가 호출 시에 사용됨.\n",
    "- 매개변수 vs. 인수\n",
    "    - 참조에 의한 호출(call by reference)\n",
    "    - shallow copy 시 문제가 있었음. \n",
    "        - \"매개변수 = 인수\" copy되기 때문에 나타나는 문제점\n",
    "        - 자료형이 리스트처럼 가변 객체일 때 값이 바뀌면 같이 바뀜. 주소값을 공유하기 때문. "
   ]
  },
  {
   "cell_type": "code",
   "execution_count": 5,
   "id": "7bbdcb01",
   "metadata": {},
   "outputs": [
    {
     "name": "stdout",
     "output_type": "stream",
     "text": [
      "2\n",
      "3\n",
      "1\n",
      "4\n"
     ]
    }
   ],
   "source": [
    "def calc_area(length,width): #define\n",
    "    print('1')\n",
    "    return length*width\n",
    "\n",
    "print('2')\n",
    "garo = 2\n",
    "sero = 43\n",
    "print('3')\n",
    "calc_area(garo,sero) #call\n",
    "print('4')"
   ]
  },
  {
   "cell_type": "code",
   "execution_count": 17,
   "id": "c78a191a",
   "metadata": {
    "scrolled": true
   },
   "outputs": [
    {
     "name": "stdout",
     "output_type": "stream",
     "text": [
      "2\n",
      "3\n",
      "1\n",
      "4\n"
     ]
    }
   ],
   "source": [
    "def multiply(x, y):\n",
    "    print('1')\n",
    "    return x * y\n",
    "\n",
    "print('2')\n",
    "i = 2\n",
    "j = 4\n",
    "\n",
    "print('3')\n",
    "multiply(i, j) #### i=2, j=4 -> x=i, y=j -> copy\n",
    "\n",
    "print('4')"
   ]
  },
  {
   "cell_type": "code",
   "execution_count": 19,
   "id": "ca362d07",
   "metadata": {},
   "outputs": [
    {
     "name": "stdout",
     "output_type": "stream",
     "text": [
      "['a']\n",
      "['a', 'b']\n"
     ]
    }
   ],
   "source": [
    "#왜 b에 []에서 result가 쌓이나?\n",
    "# reset을 하고 싶으면 빈 객체를 설정해줘야 함\n",
    "\n",
    "def buggy(arg, result=[]):\n",
    "    # result=[] #여기에 빈 객체 설정해줘야 함. 없으면 계속 contents 쌓임\n",
    "    result.append(arg)\n",
    "    print(result)\n",
    "    \n",
    "a, b = 'a', 'b'\n",
    "buggy(a)\n",
    "buggy(b)\n"
   ]
  },
  {
   "cell_type": "code",
   "execution_count": 6,
   "id": "3db6d404",
   "metadata": {},
   "outputs": [
    {
     "name": "stdout",
     "output_type": "stream",
     "text": [
      "[2, 3] eggs\n",
      "[0, 1] ham\n"
     ]
    }
   ],
   "source": [
    "#length = garo -> list copy\n",
    "def spam(eggs):\n",
    "    eggs.append(1)\n",
    "    eggs = [2,3]\n",
    "    print(eggs,'eggs')\n",
    "\n",
    "ham=[0]\n",
    "spam(ham)\n",
    "print(ham,'ham')"
   ]
  },
  {
   "cell_type": "code",
   "execution_count": 7,
   "id": "a6208a89",
   "metadata": {},
   "outputs": [],
   "source": [
    "# 둘 다 조건식으로 포함하는 함수로 변경하기\n",
    "def nonbuggy(arg, result = []):\n",
    "    #리스트 없으면 빈리스트 생성하고, 있으면 그거 써라.\n",
    "    result.append(arg)\n",
    "    print(result)"
   ]
  },
  {
   "cell_type": "code",
   "execution_count": 20,
   "id": "e4da62de",
   "metadata": {},
   "outputs": [
    {
     "name": "stdout",
     "output_type": "stream",
     "text": [
      "['a']\n",
      "['c', 'a']\n"
     ]
    }
   ],
   "source": [
    "def nonbuggy(arg, result = None):\n",
    "    \n",
    "    if result is None:\n",
    "        result = []\n",
    "        \n",
    "    result.append(arg)\n",
    "    print(result)\n",
    "    \n",
    "# 없는 값, 아무것도 없다. = None\n",
    "empty = ['c']\n",
    "nonbuggy(a)\n",
    "nonbuggy(a, empty)"
   ]
  },
  {
   "cell_type": "markdown",
   "id": "93e12c32",
   "metadata": {},
   "source": [
    "* == : value가 같다\n",
    "* is : id가 같다"
   ]
  },
  {
   "cell_type": "markdown",
   "id": "8088c1e3",
   "metadata": {},
   "source": [
    "## 전역변수 vs 지역변수\n",
    "- 전역변수 : 함수 내에서만 사용가능\n",
    "- 전역변수 : 프로그램 전체에서 사용 가능 (global)"
   ]
  },
  {
   "cell_type": "code",
   "execution_count": 21,
   "id": "4b9a7fef",
   "metadata": {},
   "outputs": [
    {
     "name": "stdout",
     "output_type": "stream",
     "text": [
      "london\n",
      "paris == london?\n"
     ]
    }
   ],
   "source": [
    "def fx():\n",
    "    global city #전역 변수\n",
    "    city = 'london' #지역 변수\n",
    "    print(city)\n",
    "\n",
    "city = 'paris'\n",
    "fx() #city = london\n",
    "print(city, '== london?')"
   ]
  },
  {
   "cell_type": "markdown",
   "id": "58f0b1a5",
   "metadata": {},
   "source": [
    "### Student's Question?\n",
    "- Q.  return 값의 있고 없고 차이가 뭔냐?"
   ]
  },
  {
   "cell_type": "code",
   "execution_count": 22,
   "id": "37720f51",
   "metadata": {},
   "outputs": [
    {
     "name": "stdout",
     "output_type": "stream",
     "text": [
      "yay\n"
     ]
    },
    {
     "data": {
      "text/plain": [
       "'yay'"
      ]
     },
     "execution_count": 22,
     "metadata": {},
     "output_type": "execute_result"
    }
   ],
   "source": [
    "def make_a_sound1(sound):\n",
    "    print(sound)\n",
    "    \n",
    "def make_a_sound2(sound):\n",
    "    return sound    #\n",
    "\n",
    "yay = 'yay'\n",
    "make_a_sound1(yay)\n",
    "make_a_sound2(yay)"
   ]
  },
  {
   "cell_type": "code",
   "execution_count": null,
   "id": "c7264660",
   "metadata": {},
   "outputs": [],
   "source": [
    "city = 'seoul'\n"
   ]
  },
  {
   "cell_type": "markdown",
   "id": "cb0fe937",
   "metadata": {},
   "source": [
    "#### doc string\n",
    "- 함수 설명\n",
    "- 매개변수 타입, 의미, 함수 기능\n",
    "\"\"\"\n",
    "\n",
    "독스트링 작성\n",
    "\n",
    "\"\"\""
   ]
  },
  {
   "cell_type": "code",
   "execution_count": 24,
   "id": "55835c79",
   "metadata": {},
   "outputs": [],
   "source": [
    "def buggy(arg, result=[]):\n",
    "    \"\"\"\n",
    "    arg: str, 이름\n",
    "    result: list, xxxxx\n",
    "    꽃 이름을 리스트에 추가한다.\n",
    "    \"\"\"\n",
    "    if arg == thing: ###\n",
    "        new_list = []\n",
    "        new_list.append(arg)\n",
    "    else:\n",
    "        result.append(arg)"
   ]
  },
  {
   "cell_type": "code",
   "execution_count": 25,
   "id": "4f24363f",
   "metadata": {},
   "outputs": [
    {
     "name": "stdout",
     "output_type": "stream",
     "text": [
      "Help on function buggy in module __main__:\n",
      "\n",
      "buggy(arg, result=[])\n",
      "    arg: str, 이름\n",
      "    result: list, xxxxx\n",
      "    꽃 이름을 리스트에 추가한다.\n",
      "\n"
     ]
    }
   ],
   "source": [
    "# 독스트링 확인\n",
    "help(buggy)"
   ]
  },
  {
   "cell_type": "code",
   "execution_count": 26,
   "id": "eb42a0d2",
   "metadata": {
    "scrolled": true
   },
   "outputs": [
    {
     "data": {
      "text/plain": [
       "'\\n    arg: str, 이름\\n    result: list, xxxxx\\n    꽃 이름을 리스트에 추가한다.\\n    '"
      ]
     },
     "execution_count": 26,
     "metadata": {},
     "output_type": "execute_result"
    }
   ],
   "source": [
    "# 독스트링 확인 2 _ str 형태로 반환함\n",
    "buggy.__doc__"
   ]
  }
 ],
 "metadata": {
  "kernelspec": {
   "display_name": "Python 3 (ipykernel)",
   "language": "python",
   "name": "python3"
  },
  "language_info": {
   "codemirror_mode": {
    "name": "ipython",
    "version": 3
   },
   "file_extension": ".py",
   "mimetype": "text/x-python",
   "name": "python",
   "nbconvert_exporter": "python",
   "pygments_lexer": "ipython3",
   "version": "3.9.7"
  }
 },
 "nbformat": 4,
 "nbformat_minor": 5
}
