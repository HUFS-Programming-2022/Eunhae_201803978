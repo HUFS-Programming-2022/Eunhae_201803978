{
 "cells": [
  {
   "cell_type": "markdown",
   "id": "4e5b334f",
   "metadata": {},
   "source": [
    "### Dictionary\n",
    "- 영어 사전\n",
    "    - 단어 : 뜻\n",
    "    - 키 : 값\n",
    "    - 순서가 없다.\n",
    "    - \"키로 값을 찾는다. \"\n",
    "        - 키는 중복되지 않는 고유한 값\n",
    "    - 가변 : 수정, 삭제, 추가 가능\n",
    "    - 타입 : dict\n",
    "    - 형변환 : `dict()`\n",
    "    - 중괄호 사용 {}, 콤마로 구분함\n",
    "    - 값에 다양한 자료구조가 올 수 있음\n",
    "        - a: 1, a: [1,2,3,4]"
   ]
  },
  {
   "cell_type": "code",
   "execution_count": 1,
   "id": "8db7f2e5",
   "metadata": {},
   "outputs": [
    {
     "data": {
      "text/plain": [
       "1"
      ]
     },
     "execution_count": 1,
     "metadata": {},
     "output_type": "execute_result"
    }
   ],
   "source": [
    "a = [1, 2, 3]\n",
    "a[0]"
   ]
  },
  {
   "cell_type": "code",
   "execution_count": 2,
   "id": "2bdf1570",
   "metadata": {},
   "outputs": [
    {
     "data": {
      "text/plain": [
       "set"
      ]
     },
     "execution_count": 2,
     "metadata": {},
     "output_type": "execute_result"
    }
   ],
   "source": [
    "#dict 선언방법 2가지\n",
    "empty = dict()\n",
    "empty = {}\n",
    "\n",
    "# set {}\n",
    "empty = {} # dict type #set 아님\n",
    "empty = set() #set type\n",
    "type(empty)"
   ]
  },
  {
   "cell_type": "code",
   "execution_count": 5,
   "id": "9bf076cd",
   "metadata": {},
   "outputs": [
    {
     "data": {
      "text/plain": [
       "{1: 'apple', 2: 'banana', 3: 'kiwi'}"
      ]
     },
     "execution_count": 5,
     "metadata": {},
     "output_type": "execute_result"
    }
   ],
   "source": [
    "# set\n",
    "a = {1, 2, 3}\n",
    "\n",
    "# dict\n",
    "a = {1:'apple', 2:'banana', 3:'kiwi'}\n",
    "a"
   ]
  },
  {
   "cell_type": "code",
   "execution_count": 7,
   "id": "8277c6a7",
   "metadata": {},
   "outputs": [
    {
     "data": {
      "text/plain": [
       "{'apple': 'a', 'banana': 'b', 'kiwi': 'c'}"
      ]
     },
     "execution_count": 7,
     "metadata": {},
     "output_type": "execute_result"
    }
   ],
   "source": [
    "# 따옴표 계속 쓰기 너무 귀찮을 땐 ()소괄호 사용\n",
    "b = dict(apple='a', banana='b', kiwi='c')\n",
    "b"
   ]
  },
  {
   "cell_type": "markdown",
   "id": "15b45496",
   "metadata": {},
   "source": [
    "\n",
    "### `Dict Ex1`\n",
    "- 출석부 딕셔너리 만들기\n",
    "- 이름, 학번, 학과 중 어떤 것을 키로 잡을지 고민하면서 만들기\n",
    "\n",
    "* 이름, 학번, 학과\n",
    "    * james 202201 경제학과\n",
    "    * laura 202203 스페인어과\n",
    "    * louis 202202 컴공과\n",
    "\n"
   ]
  },
  {
   "cell_type": "code",
   "execution_count": 8,
   "id": "7a24b981",
   "metadata": {},
   "outputs": [
    {
     "data": {
      "text/plain": [
       "{202201: ['james', '경제학과'],\n",
       " 202203: ['laura', '스페인어과'],\n",
       " 202202: ['louis', '컴공과']}"
      ]
     },
     "execution_count": 8,
     "metadata": {},
     "output_type": "execute_result"
    }
   ],
   "source": [
    "# 이름, 학과는 중복. 학번은 중복. => 학번을 key로\n",
    "# 여러개 값을 value로 가져올 땐 리스트 or 튜플로\n",
    "attendance = {202201:['james','경제학과'], 202203:['laura','스페인어과'], 202202: ['louis', '컴공과']}\n",
    "attendance"
   ]
  },
  {
   "cell_type": "markdown",
   "id": "39b427e9",
   "metadata": {},
   "source": [
    "### 형 변환"
   ]
  },
  {
   "cell_type": "code",
   "execution_count": 10,
   "id": "351725a2",
   "metadata": {},
   "outputs": [
    {
     "data": {
      "text/plain": [
       "{1: 2, 2: 3, 3: 4}"
      ]
     },
     "execution_count": 10,
     "metadata": {},
     "output_type": "execute_result"
    }
   ],
   "source": [
    "ex1 = [[1,2], [2, 3], [3, 4]]\n",
    "dict(ex1)"
   ]
  },
  {
   "cell_type": "code",
   "execution_count": 11,
   "id": "b6da5769",
   "metadata": {
    "scrolled": true
   },
   "outputs": [
    {
     "data": {
      "text/plain": [
       "{1: 3, 2: 3}"
      ]
     },
     "execution_count": 11,
     "metadata": {},
     "output_type": "execute_result"
    }
   ],
   "source": [
    "#키는 중복되지 않기 때문에 중복되는 값이 나오면 가장 최근 값만 남음\n",
    "ex2 = [(1, 2), (2, 3), (1, 3)]\n",
    "dict(ex2)"
   ]
  },
  {
   "cell_type": "code",
   "execution_count": 12,
   "id": "8d3ef4c4",
   "metadata": {},
   "outputs": [
    {
     "data": {
      "text/plain": [
       "{'a': 'b', 'b': 'c', 'c': 'd'}"
      ]
     },
     "execution_count": 12,
     "metadata": {},
     "output_type": "execute_result"
    }
   ],
   "source": [
    "# 두자리 수의 문자열은 끊어주지만 두자리 이상은 error\n",
    "ex3 = ['ab', 'bc', 'cd']\n",
    "dict(ex3)"
   ]
  },
  {
   "cell_type": "markdown",
   "id": "4ad82199",
   "metadata": {},
   "source": [
    "### 항목 조회 & 변경"
   ]
  },
  {
   "cell_type": "code",
   "execution_count": 14,
   "id": "31fc49bc",
   "metadata": {},
   "outputs": [],
   "source": [
    "pythons = {\n",
    "    # 성 : 이름이 담긴 딕셔너리\n",
    "    'Chapman': 'Graham',\n",
    "    'Cleese' : 'John',\n",
    "    'Idle' : 'Eric',\n",
    "    'Jones' : 'Terry',\n",
    "    'Palin' : 'Michael'\n",
    "}"
   ]
  },
  {
   "cell_type": "code",
   "execution_count": 15,
   "id": "2f787f7e",
   "metadata": {},
   "outputs": [
    {
     "data": {
      "text/plain": [
       "'Eric'"
      ]
     },
     "execution_count": 15,
     "metadata": {},
     "output_type": "execute_result"
    }
   ],
   "source": [
    "# 조회 # key로 value 찾기\n",
    "# 단, 없는 값 입력시 예외 발생\n",
    "pythons['Idle']"
   ]
  },
  {
   "cell_type": "code",
   "execution_count": 16,
   "id": "f0ee7b00",
   "metadata": {},
   "outputs": [
    {
     "name": "stdout",
     "output_type": "stream",
     "text": [
      "False\n",
      "None\n",
      "None 0\n"
     ]
    }
   ],
   "source": [
    "# 예외가 발생하지 않는 조회\n",
    "\n",
    "# step 1. 값의 존재 여부를 먼저 확인 #in membership\n",
    "print('Hwa' in pythons)\n",
    "\n",
    "# step 2. #get()\n",
    "print(pythons.get('Lee')) #없는 키는 None 반환\n",
    "print(pythons.get('Lee'),0) # 반환 값 설정 가능 : 해당 코드는 0으로 설정"
   ]
  },
  {
   "cell_type": "code",
   "execution_count": 17,
   "id": "fed853a0",
   "metadata": {},
   "outputs": [
    {
     "data": {
      "text/plain": [
       "{'Chapman': 'Graham',\n",
       " 'Cleese': 'John',\n",
       " 'Idle': 'James',\n",
       " 'Jones': 'Terry',\n",
       " 'Palin': 'Michael',\n",
       " 'Hwa': 'Chloe'}"
      ]
     },
     "execution_count": 17,
     "metadata": {},
     "output_type": "execute_result"
    }
   ],
   "source": [
    "#항목 추가 및 변경\n",
    "pythons['Hwa'] = 'Chloe' #없는 key값으로 하면 추가\n",
    "pythons['Idle'] = 'James' #있는 key값으로 하면 변경\n",
    "pythons"
   ]
  },
  {
   "cell_type": "markdown",
   "id": "c0a9d683",
   "metadata": {},
   "source": [
    "### 전체 조회\n",
    "- keys()\n",
    "- values()\n",
    "- items()"
   ]
  },
  {
   "cell_type": "code",
   "execution_count": 19,
   "id": "23da451f",
   "metadata": {},
   "outputs": [
    {
     "data": {
      "text/plain": [
       "dict_keys(['Chapman', 'Cleese', 'Idle', 'Jones', 'Palin', 'Hwa', 'Marx', 'Howard'])"
      ]
     },
     "execution_count": 19,
     "metadata": {},
     "output_type": "execute_result"
    }
   ],
   "source": [
    "# key만 조회\n",
    "pythons.keys()"
   ]
  },
  {
   "cell_type": "code",
   "execution_count": 20,
   "id": "a828e0be",
   "metadata": {},
   "outputs": [
    {
     "data": {
      "text/plain": [
       "dict_values(['Graham', 'John', 'James', 'Terry', 'Michael', 'Chloe', 'Groucho', 'Moe'])"
      ]
     },
     "execution_count": 20,
     "metadata": {},
     "output_type": "execute_result"
    }
   ],
   "source": [
    "#value만 조회\n",
    "pythons.values()"
   ]
  },
  {
   "cell_type": "code",
   "execution_count": 29,
   "id": "0d333baf",
   "metadata": {},
   "outputs": [
    {
     "data": {
      "text/plain": [
       "dict_items([('Chapman', 'Graham'), ('Cleese', 'John'), ('Idle', 'James'), ('Jones', 'Terry'), ('Palin', 'Michael'), ('Hwa', 'Chloe')])"
      ]
     },
     "execution_count": 29,
     "metadata": {},
     "output_type": "execute_result"
    }
   ],
   "source": [
    "# (키, 값) 튜플 형태로 모두 조회 \n",
    "# 순회할 때 많이 사용\n",
    "pythons.items()"
   ]
  },
  {
   "cell_type": "code",
   "execution_count": 21,
   "id": "e4cc223f",
   "metadata": {},
   "outputs": [
    {
     "data": {
      "text/plain": [
       "['Chapman', 'Cleese', 'Idle', 'Jones', 'Palin', 'Hwa', 'Marx', 'Howard']"
      ]
     },
     "execution_count": 21,
     "metadata": {},
     "output_type": "execute_result"
    }
   ],
   "source": [
    "# 이런 조회 methods는 타입이 dict임. 메모리를 많이 사용하게 됨\n",
    "# 메모리를 절약하려면 리스트로 형 변환하는 것이 best\n",
    "list(pythons.keys())"
   ]
  },
  {
   "cell_type": "code",
   "execution_count": 25,
   "id": "959492b8",
   "metadata": {},
   "outputs": [
    {
     "name": "stdout",
     "output_type": "stream",
     "text": [
      "Chapman = Graham\n",
      "Cleese = John\n",
      "Idle = James\n",
      "Jones = Terry\n",
      "Palin = Michael\n",
      "Hwa = Chloe\n",
      "Marx = Groucho\n",
      "Howard = Moe\n",
      "\n"
     ]
    }
   ],
   "source": [
    "#item 순회하기 #for 문\n",
    "for k, v in pythons.items():\n",
    "    print(f'{k} = {v}')\n",
    "    \n",
    "print()"
   ]
  },
  {
   "cell_type": "code",
   "execution_count": 26,
   "id": "7dd6e267",
   "metadata": {
    "scrolled": true
   },
   "outputs": [
    {
     "data": {
      "text/plain": [
       "[('Chapman', 'Graham'),\n",
       " ('Cleese', 'John'),\n",
       " ('Idle', 'James'),\n",
       " ('Jones', 'Terry'),\n",
       " ('Palin', 'Michael'),\n",
       " ('Hwa', 'Chloe'),\n",
       " ('Marx', 'Groucho'),\n",
       " ('Howard', 'Moe')]"
      ]
     },
     "execution_count": 26,
     "metadata": {},
     "output_type": "execute_result"
    }
   ],
   "source": [
    "#iterm 순회하기 #list comprehension\n",
    "[(k,v) for k, v in pythons.items()]"
   ]
  },
  {
   "cell_type": "code",
   "execution_count": 28,
   "id": "7987edc0",
   "metadata": {},
   "outputs": [
    {
     "data": {
      "text/plain": [
       "[('Chapman', 'Graham'),\n",
       " ('Cleese', 'John'),\n",
       " ('Idle', 'James'),\n",
       " ('Jones', 'Terry'),\n",
       " ('Palin', 'Michael'),\n",
       " ('Hwa', 'Chloe'),\n",
       " ('Marx', 'Groucho'),\n",
       " ('Howard', 'Moe')]"
      ]
     },
     "execution_count": 28,
     "metadata": {},
     "output_type": "execute_result"
    }
   ],
   "source": [
    "# (k,v)가 아니어도 순회 가능\n",
    "[k for k in pythons.items()]"
   ]
  },
  {
   "cell_type": "code",
   "execution_count": 31,
   "id": "5de43a1b",
   "metadata": {},
   "outputs": [
    {
     "data": {
      "text/plain": [
       "['Chapman', 'Cleese', 'Idle', 'Jones', 'Palin', 'Hwa', 'Marx', 'Howard']"
      ]
     },
     "execution_count": 31,
     "metadata": {},
     "output_type": "execute_result"
    }
   ],
   "source": [
    "# items()는 튜플의 형태로 들어있어서 인덱스로 접근 가능\n",
    "\n",
    "# 0은 key값 \n",
    "[k[0] for k in pythons.items()] "
   ]
  },
  {
   "cell_type": "code",
   "execution_count": 32,
   "id": "23f0e216",
   "metadata": {},
   "outputs": [
    {
     "data": {
      "text/plain": [
       "['Graham', 'John', 'James', 'Terry', 'Michael', 'Chloe', 'Groucho', 'Moe']"
      ]
     },
     "execution_count": 32,
     "metadata": {},
     "output_type": "execute_result"
    }
   ],
   "source": [
    "# 1은 value값 \n",
    "[k[1] for k in pythons.items()] "
   ]
  },
  {
   "cell_type": "code",
   "execution_count": 37,
   "id": "dff547a4",
   "metadata": {},
   "outputs": [
    {
     "data": {
      "text/plain": [
       "['Chapman', 'Cleese', 'Idle', 'Jones', 'Palin', 'Marx', 'Howard']"
      ]
     },
     "execution_count": 37,
     "metadata": {},
     "output_type": "execute_result"
    }
   ],
   "source": [
    "#items()없으면 keys만 접근\n",
    "[k for k in pythons]"
   ]
  },
  {
   "cell_type": "markdown",
   "id": "50317561",
   "metadata": {},
   "source": [
    "### `Dict EX 2`\n",
    "* animal : num_leg 딕셔너리"
   ]
  },
  {
   "cell_type": "code",
   "execution_count": 35,
   "id": "4a04e6ee",
   "metadata": {},
   "outputs": [],
   "source": [
    "animal = 'cat sanke monkey ant spider'. split()\n",
    "legs = 4, 0, 2, 4, 8"
   ]
  },
  {
   "cell_type": "code",
   "execution_count": 71,
   "id": "a0f782e6",
   "metadata": {
    "scrolled": false
   },
   "outputs": [
    {
     "data": {
      "text/plain": [
       "{'cat': 4, 'sanke': 0, 'monkey': 2, 'ant': 4, 'spider': 8}"
      ]
     },
     "execution_count": 71,
     "metadata": {},
     "output_type": "execute_result"
    }
   ],
   "source": [
    "# 방법 1\n",
    "print(dict([(key, value) for key, value in zip(animal, legs)]))\n",
    "\n",
    "# 방법 2\n",
    "num_leg = {}\n",
    "for k, v in zip(animal, legs):\n",
    "    num_leg[k] = v \n",
    "print(num_leg)\n",
    "\n",
    "# 방법 3 : 딕셔너리 컴프리헨션 사용\n",
    "print({key:value for key, value in zip(animal, legs)})\n",
    "\n",
    "\n",
    "#내 답\n",
    "num_leg = {}\n",
    "for i in range(len(animal)):\n",
    "    num_leg[animal[i]] = legs[i]\n",
    "    \n",
    "num_leg"
   ]
  },
  {
   "cell_type": "markdown",
   "id": "00c5572c",
   "metadata": {},
   "source": [
    "### `Dict EX 3`\n",
    "pythons에서 성:이름, 첫 글자만, 이름은 글자 개수로 이뤄진 튜플(성, 이름) 리스트로 반환하기\n",
    "\n",
    "* dict comprehension 쓰지 말기"
   ]
  },
  {
   "cell_type": "code",
   "execution_count": 38,
   "id": "bb5ea912",
   "metadata": {
    "scrolled": true
   },
   "outputs": [
    {
     "name": "stdout",
     "output_type": "stream",
     "text": [
      "[('C', 6), ('C', 4), ('I', 5), ('J', 5), ('P', 7), ('M', 7), ('H', 3)]\n",
      "[('C', 6), ('C', 4), ('I', 5), ('J', 5), ('P', 7), ('M', 7), ('H', 3)]\n"
     ]
    }
   ],
   "source": [
    "# 방법1\n",
    "print([(key[0], len(value)) for key, value in pythons.items()])\n",
    "\n",
    "# 방법2\n",
    "print([(k[0][0], len(k[1]))for k in pythons.items()])"
   ]
  },
  {
   "cell_type": "code",
   "execution_count": 45,
   "id": "f744af3a",
   "metadata": {},
   "outputs": [
    {
     "data": {
      "text/plain": [
       "[('C', 6), ('C', 4), ('I', 5), ('J', 5), ('P', 7), ('H', 5)]"
      ]
     },
     "execution_count": 45,
     "metadata": {},
     "output_type": "execute_result"
    }
   ],
   "source": [
    "[(k[0][0], len(k[1])) for k in pythons.items()]"
   ]
  },
  {
   "cell_type": "markdown",
   "id": "45682607",
   "metadata": {},
   "source": [
    "### 값 수정, 삭제, 복제, 비교"
   ]
  },
  {
   "cell_type": "code",
   "execution_count": 46,
   "id": "a2a8f70b",
   "metadata": {},
   "outputs": [
    {
     "data": {
      "text/plain": [
       "{'Chapman': 'Graham',\n",
       " 'Cleese': 'John',\n",
       " 'Idle': 'James',\n",
       " 'Jones': 'Terry',\n",
       " 'Palin': 'Michael',\n",
       " 'Hwa': 'Chloe'}"
      ]
     },
     "execution_count": 46,
     "metadata": {},
     "output_type": "execute_result"
    }
   ],
   "source": [
    "pythons"
   ]
  },
  {
   "cell_type": "code",
   "execution_count": 49,
   "id": "de9acf6b",
   "metadata": {},
   "outputs": [
    {
     "data": {
      "text/plain": [
       "{'Marx': 'Groucho', 'Howard': 'Moe'}"
      ]
     },
     "execution_count": 49,
     "metadata": {},
     "output_type": "execute_result"
    }
   ],
   "source": [
    "# update(병합) #여러 항목 추가 \n",
    "# 원래 있던 key값은 마지막에 입력된 값으로 update됨\n",
    "others = {\n",
    "    'Marx': 'Groucho',\n",
    "    'Howard': 'Moe'\n",
    "}\n",
    "\n",
    "#update 해주기\n",
    "pythons.update(others)\n",
    "pythons"
   ]
  },
  {
   "cell_type": "code",
   "execution_count": 33,
   "id": "b7f8dc20",
   "metadata": {},
   "outputs": [
    {
     "data": {
      "text/plain": [
       "{'Chapman': 'Graham',\n",
       " 'Cleese': 'John',\n",
       " 'Idle': 'James',\n",
       " 'Jones': 'Terry',\n",
       " 'Palin': 'Michael',\n",
       " 'Hwa': 'Chloe',\n",
       " 'Marx': 'Groucho',\n",
       " 'Howard': 'Moe',\n",
       " 'Hwang': 'Eunhae',\n",
       " 'Mardi': 'Mecrdi'}"
      ]
     },
     "execution_count": 33,
     "metadata": {},
     "output_type": "execute_result"
    }
   ],
   "source": [
    "# py 3에서만 사용 가능한 추가방법\n",
    "new = {\n",
    "    'Hwang': 'Eunhae',\n",
    "    'Mardi': 'Mecrdi'\n",
    "}\n",
    "\n",
    "#new가 앞에 삽입\n",
    "{**new, **pythons}\n",
    "\n",
    "#new가 뒤에 삽입\n",
    "{**pythons, **new}\n"
   ]
  },
  {
   "cell_type": "code",
   "execution_count": 34,
   "id": "da462daf",
   "metadata": {},
   "outputs": [
    {
     "data": {
      "text/plain": [
       "{'Chapman': 'Graham',\n",
       " 'Cleese': 'John',\n",
       " 'Idle': 'James',\n",
       " 'Jones': 'Terry',\n",
       " 'Palin': 'Michael',\n",
       " 'Marx': 'Groucho',\n",
       " 'Howard': 'Moe'}"
      ]
     },
     "execution_count": 34,
     "metadata": {},
     "output_type": "execute_result"
    }
   ],
   "source": [
    "# 삭제 #del\n",
    "del pythons['Hwa']\n",
    "\n",
    "pythons"
   ]
  },
  {
   "cell_type": "code",
   "execution_count": 54,
   "id": "bff00cf9",
   "metadata": {},
   "outputs": [
    {
     "ename": "KeyError",
     "evalue": "'Lee'",
     "output_type": "error",
     "traceback": [
      "\u001b[1;31m---------------------------------------------------------------------------\u001b[0m",
      "\u001b[1;31mKeyError\u001b[0m                                  Traceback (most recent call last)",
      "\u001b[1;32m~\\AppData\\Local\\Temp/ipykernel_15780/407729182.py\u001b[0m in \u001b[0;36m<module>\u001b[1;34m\u001b[0m\n\u001b[0;32m      1\u001b[0m \u001b[1;31m# 없는 걸 삭제하면 예외가 발생.\u001b[0m\u001b[1;33m\u001b[0m\u001b[1;33m\u001b[0m\u001b[0m\n\u001b[1;32m----> 2\u001b[1;33m \u001b[1;32mdel\u001b[0m \u001b[0mpythons\u001b[0m\u001b[1;33m[\u001b[0m\u001b[1;34m'Lee'\u001b[0m\u001b[1;33m]\u001b[0m\u001b[1;33m\u001b[0m\u001b[1;33m\u001b[0m\u001b[0m\n\u001b[0m",
      "\u001b[1;31mKeyError\u001b[0m: 'Lee'"
     ]
    }
   ],
   "source": [
    "# 없는 걸 삭제하면 예외가 발생.\n",
    "del pythons['Lee']"
   ]
  },
  {
   "cell_type": "code",
   "execution_count": 55,
   "id": "2eefde4b",
   "metadata": {},
   "outputs": [
    {
     "data": {
      "text/plain": [
       "'Groucho'"
      ]
     },
     "execution_count": 55,
     "metadata": {},
     "output_type": "execute_result"
    }
   ],
   "source": [
    "#삭제 #pop\n",
    "#값을 반환한 뒤 삭제\n",
    "\n",
    "#del은 없는 것을 삭제하면 예외가 발생함. \n",
    "#get()처럼 사용하는 함수가 pop()\n",
    "pythons.pop('Marx')"
   ]
  },
  {
   "cell_type": "code",
   "execution_count": 58,
   "id": "6ecbd452",
   "metadata": {},
   "outputs": [
    {
     "data": {
      "text/plain": [
       "0"
      ]
     },
     "execution_count": 58,
     "metadata": {},
     "output_type": "execute_result"
    }
   ],
   "source": [
    "# 없으면 예외는 남 #하지만 예외 시 출력 값을 지정할 수 있음\n",
    "pythons.pop('Lee', 0) #현재 코드는 예외 시 출력 값 0으로 지정됨"
   ]
  },
  {
   "cell_type": "code",
   "execution_count": 59,
   "id": "ff0e12c5",
   "metadata": {},
   "outputs": [
    {
     "data": {
      "text/plain": [
       "{}"
      ]
     },
     "execution_count": 59,
     "metadata": {},
     "output_type": "execute_result"
    }
   ],
   "source": [
    "# 전체 삭제\n",
    "\n",
    "#방법 1\n",
    "pythons.clear()\n",
    "\n",
    "#방법 2\n",
    "pythons = {}\n",
    "\n",
    "pythons"
   ]
  },
  {
   "cell_type": "markdown",
   "id": "279efdd2",
   "metadata": {},
   "source": [
    "### 복제\n",
    "- 할당\n",
    "    * b = a || 같은 주소 참조\n",
    "- 얕은 복사\n",
    "    * c = a.copy() || 다른 객체 생성\n",
    "- 깊은 복사\n"
   ]
  },
  {
   "cell_type": "code",
   "execution_count": 60,
   "id": "2469fb99",
   "metadata": {},
   "outputs": [
    {
     "data": {
      "text/plain": [
       "({1: 45, 2: 2, 3: 3}, {1: 45, 2: 2, 3: 3})"
      ]
     },
     "execution_count": 60,
     "metadata": {},
     "output_type": "execute_result"
    }
   ],
   "source": [
    "a = {1:1, 2:2, 3:3}\n",
    "b = a\n",
    "a[1] = 45\n",
    "\n",
    "# 할당의 문제: b도 값이 변함\n",
    "# why? 복사한 가변객체이기 때문에\n",
    "print(a, b)\n",
    "\n",
    "# 따라서 다른 객체 생성 - 얕은 복사를 진행함\n",
    "c = a.copy()\n",
    "a[2] = 22\n",
    "\n",
    "print(a, c)"
   ]
  },
  {
   "cell_type": "code",
   "execution_count": 39,
   "id": "999eda10",
   "metadata": {},
   "outputs": [
    {
     "data": {
      "text/plain": [
       "({1: [100, 2, 3], 2: [2, 3, 4]}, <function dict.copy>)"
      ]
     },
     "execution_count": 39,
     "metadata": {},
     "output_type": "execute_result"
    }
   ],
   "source": [
    "# 얕은 복사의 문제점\n",
    "# 가변객체에 대해서 또 참조가 됨\n",
    "\n",
    "a = {1: [1, 2, 3], 2: [2, 3, 4]}\n",
    "d = a.copy\n",
    "a[1][0] = 100\n",
    "a, d"
   ]
  },
  {
   "cell_type": "code",
   "execution_count": 64,
   "id": "54fdfa1c",
   "metadata": {},
   "outputs": [
    {
     "data": {
      "text/plain": [
       "({1: [100, 999, 3], 2: [2, 3, 4]}, {1: [100, 2, 3], 2: [2, 3, 4]})"
      ]
     },
     "execution_count": 64,
     "metadata": {},
     "output_type": "execute_result"
    }
   ],
   "source": [
    "import copy\n",
    "e = copy.deepcopy(a)\n",
    "a[1][1] = 999\n",
    "\n",
    "#깊은 복사 #변하지 않음\n",
    "a, e"
   ]
  },
  {
   "cell_type": "markdown",
   "id": "bbaea07c",
   "metadata": {},
   "source": [
    "### 비교\n",
    "* 같다, 다르다만 된다."
   ]
  },
  {
   "cell_type": "code",
   "execution_count": 65,
   "id": "b54d2feb",
   "metadata": {},
   "outputs": [
    {
     "data": {
      "text/plain": [
       "True"
      ]
     },
     "execution_count": 65,
     "metadata": {},
     "output_type": "execute_result"
    }
   ],
   "source": [
    "a != b"
   ]
  },
  {
   "cell_type": "markdown",
   "id": "323e5e03",
   "metadata": {},
   "source": [
    "### `Dict EX4`\n",
    "1. 두 리스트로 하나의 딕셔너리 생성\n",
    "2. 명왕성 = pluto 추가하기\n",
    "3. '성'으로 끝나지 않는 키 삭제하기\n",
    "    * del dict1['태양'] (x)\n",
    "4. sorted 이용해서 값 정렬하기\n",
    "    i) key\n",
    "    ii) value"
   ]
  },
  {
   "cell_type": "code",
   "execution_count": 42,
   "id": "5a045b44",
   "metadata": {},
   "outputs": [],
   "source": [
    "solar_kor = '태양 수성 금성 지구 화성 목성 토성 천왕성 해왕성'.split()\n",
    "solar_eng = 'sun mercury venus earth mars jupiter satrun uranus neptune'.split()"
   ]
  },
  {
   "cell_type": "code",
   "execution_count": 43,
   "id": "d2111767",
   "metadata": {},
   "outputs": [],
   "source": [
    "#내풀이\n",
    "#딕셔너리 생성\n",
    "solar = {}\n",
    "for i in range(len(solar_kor)):\n",
    "    solar[solar_kor[i]] = solar_eng[i]\n",
    "\n",
    "#명왕성 추가\n",
    "solar['명왕성'] = 'pluto'\n",
    "\n",
    "#성으로 끝나지 않는 키 삭제하기\n",
    "solar = {key:value for key,value in solar.items() if key[-1] == '성'}\n",
    "\n",
    "#key - value 순으로 값 정렬\n",
    "sorted_key = sorted([key for key in list(solar.keys())])"
   ]
  },
  {
   "cell_type": "code",
   "execution_count": 44,
   "id": "2d354901",
   "metadata": {},
   "outputs": [
    {
     "name": "stdout",
     "output_type": "stream",
     "text": [
      "['금성', '명왕성', '목성', '수성', '천왕성', '토성', '해왕성', '화성']\n",
      "['jupiter', 'mars', 'mercury', 'neptune', 'pluto', 'satrun', 'uranus', 'venus']\n"
     ]
    }
   ],
   "source": [
    "#다른 풀이\n",
    "# 1.\n",
    "solar_dict = {}\n",
    "for k, v in zip(solar_kor, solar_eng):\n",
    "     solar_dict[k] = v\n",
    "\n",
    "# 2.\n",
    "# 넣을 것이 하나일 때는 update를 가져갈 필요가 없음.\n",
    "# solar_dict.update({'명왕성':'pluto'})\n",
    "solar_dict['명왕성'] = 'pluto'\n",
    "\n",
    "# 3.\n",
    "for key in list(solar_dict):\n",
    "    if not key.endswith('성'):\n",
    "        del solar_dict[key]\n",
    "\n",
    "# 4.\n",
    "# key 기준\n",
    "print(sorted(solar_dict.keys()))\n",
    "# value 기준\n",
    "print(sorted(solar_dict.values()))"
   ]
  },
  {
   "cell_type": "code",
   "execution_count": 45,
   "id": "94fd8438",
   "metadata": {
    "scrolled": true
   },
   "outputs": [
    {
     "name": "stdout",
     "output_type": "stream",
     "text": [
      "['금성', '명왕성', '목성', '수성', '천왕성', '토성', '해왕성', '화성']\n",
      "['jupiter', 'mars', 'mercury', 'neptune', 'pluto', 'satrun', 'uranus', 'venus']\n"
     ]
    }
   ],
   "source": [
    "# '성'으로 끝나지 않는 것을 삭제할 때\n",
    "# for문 X => 리스트 컴프리헨션 사용\n",
    "\n",
    "# 1.\n",
    "solar_dict = {}\n",
    "for k, v in zip(solar_kor, solar_eng):\n",
    "     solar_dict[k] = v\n",
    "\n",
    "# 2.\n",
    "solar_dict['명왕성'] = 'pluto'\n",
    "\n",
    "# 3.\n",
    "solar_dict = dict([(key, value) \n",
    "                   for key, value in solar_dict.items() \n",
    "                   if key.endswith('성')])\n",
    "\n",
    "# 4.\n",
    "# key 기준\n",
    "print(sorted(solar_dict.keys()))\n",
    "# value 기준\n",
    "print(sorted(solar_dict.values()))"
   ]
  },
  {
   "cell_type": "markdown",
   "id": "f059495f",
   "metadata": {},
   "source": [
    "### Dictionary Comprehension\n",
    "* 리스트 컴프리헨션을 한 다음 딕셔너리로 감싸는 것은 비효율적\n",
    "* 효율적인 방법이 딕셔너리 컴프리헨션"
   ]
  },
  {
   "cell_type": "code",
   "execution_count": 47,
   "id": "98485041",
   "metadata": {},
   "outputs": [
    {
     "data": {
      "text/plain": [
       "{'a': 1, 'p': 2, 'l': 1, 'e': 1}"
      ]
     },
     "execution_count": 47,
     "metadata": {},
     "output_type": "execute_result"
    }
   ],
   "source": [
    "letter = 'apple'\n",
    "\n",
    "# a:1, p:2, .. 형식으로 출력\n",
    "{ch: letter.count(ch) for ch in letter}"
   ]
  },
  {
   "cell_type": "code",
   "execution_count": 48,
   "id": "c5b4199c",
   "metadata": {
    "scrolled": true
   },
   "outputs": [
    {
     "name": "stdout",
     "output_type": "stream",
     "text": [
      "{'o': 4, 'i': 1, 'e': 1, 'a': 2}\n",
      "{'o': 4, 'i': 1, 'e': 1, 'a': 2}\n"
     ]
    }
   ],
   "source": [
    "#단어의 모음세기\n",
    "vowels = 'aeiou'\n",
    "word = 'onomatopoeia'\n",
    "\n",
    "# word 순회\n",
    "print({w: word.count(w) for w in set(word) if w in vowels})\n",
    "# vowels 순회\n",
    "print({v: word.count(v) for v in set(vowels) if v in word})"
   ]
  },
  {
   "cell_type": "markdown",
   "id": "007a8424",
   "metadata": {},
   "source": [
    "### `Dict Ex4 추가설명`\n",
    "ex4를 딕셔너리 컴프리헨션으로"
   ]
  },
  {
   "cell_type": "code",
   "execution_count": 49,
   "id": "8ca01806",
   "metadata": {},
   "outputs": [
    {
     "data": {
      "text/plain": [
       "{'수성': 'mercury',\n",
       " '금성': 'venus',\n",
       " '화성': 'mars',\n",
       " '목성': 'jupiter',\n",
       " '토성': 'satrun',\n",
       " '천왕성': 'uranus',\n",
       " '해왕성': 'neptune',\n",
       " '명왕성': 'pluto'}"
      ]
     },
     "execution_count": 49,
     "metadata": {},
     "output_type": "execute_result"
    }
   ],
   "source": [
    "solar_dict = {key:value \n",
    "              for key, value in solar_dict.items() \n",
    "              if key.endswith('성')}\n",
    "\n",
    "solar_dict"
   ]
  },
  {
   "cell_type": "markdown",
   "id": "7c29efc9",
   "metadata": {},
   "source": [
    "### sorting"
   ]
  },
  {
   "cell_type": "code",
   "execution_count": 56,
   "id": "86a40568",
   "metadata": {},
   "outputs": [
    {
     "data": {
      "text/plain": [
       "['금성', '명왕성', '목성', '수성', '천왕성', '토성', '해왕성', '화성']"
      ]
     },
     "execution_count": 56,
     "metadata": {},
     "output_type": "execute_result"
    }
   ],
   "source": [
    "# 키만 sort #딕셔너리는 오름차순, 내림차순이 없음. 그래서 리스트로 바뀌어 출력됨.\n",
    "sorted(solar_dict)"
   ]
  },
  {
   "cell_type": "code",
   "execution_count": 57,
   "id": "2e7c8429",
   "metadata": {},
   "outputs": [
    {
     "data": {
      "text/plain": [
       "[('금성', 'venus'),\n",
       " ('명왕성', 'pluto'),\n",
       " ('목성', 'jupiter'),\n",
       " ('수성', 'mercury'),\n",
       " ('천왕성', 'uranus'),\n",
       " ('토성', 'satrun'),\n",
       " ('해왕성', 'neptune'),\n",
       " ('화성', 'mars')]"
      ]
     },
     "execution_count": 57,
     "metadata": {},
     "output_type": "execute_result"
    }
   ],
   "source": [
    "# 딕셔너리 형태로 정렬\n",
    "sorted(solar_dict.items())"
   ]
  },
  {
   "cell_type": "code",
   "execution_count": 52,
   "id": "fbdf4645",
   "metadata": {},
   "outputs": [
    {
     "data": {
      "text/plain": [
       "[('목성', 'jupiter'),\n",
       " ('화성', 'mars'),\n",
       " ('수성', 'mercury'),\n",
       " ('해왕성', 'neptune'),\n",
       " ('명왕성', 'pluto'),\n",
       " ('토성', 'satrun'),\n",
       " ('천왕성', 'uranus'),\n",
       " ('금성', 'venus')]"
      ]
     },
     "execution_count": 52,
     "metadata": {},
     "output_type": "execute_result"
    }
   ],
   "source": [
    "def fx(x):\n",
    "    return x[1]  #0은 key 기준, 1은 value 기준\n",
    "\n",
    "# 첫 번째는 한글기준, 두 번째는 영어 기준으로 정렬하고 싶을 때?\n",
    "# 나만의 함수를 정의해서 key에 넣음\n",
    "sorted(solar_dict.items(), key=fx)"
   ]
  },
  {
   "cell_type": "code",
   "execution_count": 58,
   "id": "bb1d0460",
   "metadata": {
    "scrolled": true
   },
   "outputs": [
    {
     "data": {
      "text/plain": [
       "[('금성', 'venus'),\n",
       " ('명왕성', 'pluto'),\n",
       " ('목성', 'jupiter'),\n",
       " ('수성', 'mercury'),\n",
       " ('천왕성', 'uranus'),\n",
       " ('토성', 'satrun'),\n",
       " ('해왕성', 'neptune'),\n",
       " ('화성', 'mars')]"
      ]
     },
     "execution_count": 58,
     "metadata": {},
     "output_type": "execute_result"
    }
   ],
   "source": [
    "# 익명함수 lambda\n",
    "# 함수에서 이름 짓는 부분과 예약어를 빼고 익명으로 함수를 구현함\n",
    "\n",
    "sorted(solar_dict.items(), key=lambda x: x[0])"
   ]
  },
  {
   "cell_type": "markdown",
   "id": "60e145e7",
   "metadata": {},
   "source": [
    "### Set\n",
    "* 중복이 없다. = 딕셔너리 내에서 키만 가지고 있다.\n",
    "* 집합 => 교집합, 합집합, 차집합, ..."
   ]
  },
  {
   "cell_type": "code",
   "execution_count": 97,
   "id": "c451b5f3",
   "metadata": {},
   "outputs": [
    {
     "data": {
      "text/plain": [
       "set()"
      ]
     },
     "execution_count": 97,
     "metadata": {},
     "output_type": "execute_result"
    }
   ],
   "source": [
    "empty = set()\n",
    "empty"
   ]
  },
  {
   "cell_type": "code",
   "execution_count": 98,
   "id": "e3743766",
   "metadata": {},
   "outputs": [
    {
     "data": {
      "text/plain": [
       "{1, 2, 3}"
      ]
     },
     "execution_count": 98,
     "metadata": {},
     "output_type": "execute_result"
    }
   ],
   "source": [
    "a = {1, 2, 3}\n",
    "a"
   ]
  },
  {
   "cell_type": "code",
   "execution_count": 100,
   "id": "ff55a976",
   "metadata": {},
   "outputs": [
    {
     "data": {
      "text/plain": [
       "{1, 2, 3}"
      ]
     },
     "execution_count": 100,
     "metadata": {},
     "output_type": "execute_result"
    }
   ],
   "source": [
    "a = set((1, 2, 3))\n",
    "a"
   ]
  },
  {
   "cell_type": "code",
   "execution_count": 101,
   "id": "6024fc5d",
   "metadata": {},
   "outputs": [
    {
     "data": {
      "text/plain": [
       "{1, 2, 3, 4}"
      ]
     },
     "execution_count": 101,
     "metadata": {},
     "output_type": "execute_result"
    }
   ],
   "source": [
    "a.add(4)\n",
    "a"
   ]
  },
  {
   "cell_type": "code",
   "execution_count": 102,
   "id": "8358089a",
   "metadata": {},
   "outputs": [
    {
     "data": {
      "text/plain": [
       "{1, 2, 3}"
      ]
     },
     "execution_count": 102,
     "metadata": {},
     "output_type": "execute_result"
    }
   ],
   "source": [
    "a.remove(4)\n",
    "a"
   ]
  },
  {
   "cell_type": "code",
   "execution_count": 60,
   "id": "4edd29ea",
   "metadata": {},
   "outputs": [],
   "source": [
    "drinks = {\n",
    "    'martini': {'vodka', 'vermouth'},\n",
    "    'black russsian': {'vodka', 'kahlua'},\n",
    "    'white russian': {'cream', 'kahlua', 'vodka'},\n",
    "    'amnhattan': {'rye', 'vermouth', 'bitters'},\n",
    "    'screwdriver': {'orange juice', 'vodka'}\n",
    "}\n",
    "\n",
    "# 1. vodka가 포함된 술 출력하기\n",
    "# 2. vodka는 있지만 cream, vermouth 없는 술 출력하기"
   ]
  },
  {
   "cell_type": "code",
   "execution_count": 61,
   "id": "f5cc8ecc",
   "metadata": {},
   "outputs": [
    {
     "name": "stdout",
     "output_type": "stream",
     "text": [
      "martini\n",
      "black russsian\n",
      "white russian\n",
      "screwdriver\n"
     ]
    }
   ],
   "source": [
    "# 1. \n",
    "for k,v in drinks.items():\n",
    "    if 'vodka' in v:\n",
    "        print(k)"
   ]
  },
  {
   "cell_type": "code",
   "execution_count": 62,
   "id": "9ce52621",
   "metadata": {
    "scrolled": true
   },
   "outputs": [],
   "source": [
    "# 2. \n",
    "for k,v in drinks.items():\n",
    "    if 'vodka' in k and not ('cream' in v or 'vermouth' in v):\n",
    "        print(v)"
   ]
  },
  {
   "cell_type": "markdown",
   "id": "a55bc471",
   "metadata": {},
   "source": [
    "### 교집합, 합집합, 차집합"
   ]
  },
  {
   "cell_type": "code",
   "execution_count": 63,
   "id": "36a0e687",
   "metadata": {},
   "outputs": [
    {
     "data": {
      "text/plain": [
       "({1}, {4})"
      ]
     },
     "execution_count": 63,
     "metadata": {},
     "output_type": "execute_result"
    }
   ],
   "source": [
    "a = {1, 2, 3}\n",
    "b = {2, 3, 4}\n",
    "\n",
    "### 교집합 | intersection\n",
    "a.intersection(b)\n",
    "a & b\n",
    "\n",
    "### 합집합 | union\n",
    "a.union(b)\n",
    "a | b\n",
    "\n",
    "### 차집합 | difference\n",
    "a.difference(b)\n",
    "a - b, b - a #둘은 다른 연산"
   ]
  },
  {
   "cell_type": "code",
   "execution_count": 64,
   "id": "e1b2a640",
   "metadata": {},
   "outputs": [
    {
     "name": "stdout",
     "output_type": "stream",
     "text": [
      "black russsian\n",
      "screwdriver\n",
      "\n",
      "black russsian\n",
      "screwdriver\n"
     ]
    }
   ],
   "source": [
    "# vodka는 있지만 cream, vermouth 없는 술 출력 => set을 활용하여 바꾸기\n",
    "for k, v in drinks.items():\n",
    "    if ('vodka' in v) and not('cream' in v or 'vermouth' in v):\n",
    "        print(k)\n",
    "\n",
    "print()\n",
    "\n",
    "for k, v in drinks.items():\n",
    "    if 'vodka' in v and not (v & {'cream', 'vermouth'}):\n",
    "        print(k)"
   ]
  },
  {
   "cell_type": "code",
   "execution_count": 65,
   "id": "92aaf1af",
   "metadata": {},
   "outputs": [
    {
     "data": {
      "text/plain": [
       "{0, 1, 2, 3, 4}"
      ]
     },
     "execution_count": 65,
     "metadata": {},
     "output_type": "execute_result"
    }
   ],
   "source": [
    "# set comprehension\n",
    "{s for s in range(5)}"
   ]
  },
  {
   "cell_type": "code",
   "execution_count": 66,
   "id": "abe0ee22",
   "metadata": {},
   "outputs": [
    {
     "data": {
      "text/plain": [
       "frozenset({1, 2})"
      ]
     },
     "execution_count": 66,
     "metadata": {},
     "output_type": "execute_result"
    }
   ],
   "source": [
    "# frozenset | 가변 객체를 불변 객체로 만들어 주는 것\n",
    "set([1, 2])\n",
    "frozenset([1, 2])"
   ]
  },
  {
   "cell_type": "code",
   "execution_count": null,
   "id": "06f0c189",
   "metadata": {},
   "outputs": [],
   "source": []
  }
 ],
 "metadata": {
  "kernelspec": {
   "display_name": "Python 3 (ipykernel)",
   "language": "python",
   "name": "python3"
  },
  "language_info": {
   "codemirror_mode": {
    "name": "ipython",
    "version": 3
   },
   "file_extension": ".py",
   "mimetype": "text/x-python",
   "name": "python",
   "nbconvert_exporter": "python",
   "pygments_lexer": "ipython3",
   "version": "3.9.7"
  }
 },
 "nbformat": 4,
 "nbformat_minor": 5
}
