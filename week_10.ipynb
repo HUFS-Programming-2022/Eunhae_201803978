{
 "cells": [
  {
   "cell_type": "markdown",
   "id": "9130d61f",
   "metadata": {},
   "source": [
    "### 10. 객체와 클래스\n",
    "- 객체를 구현하는 것이 클래스\n",
    "- 객체(=object)란 ?\n",
    "    - 속성과 행동을 가지는 개념 (실존해도 안해도 됨)\n",
    "        - thing의 예시: 자동차, 강아지, 꽃, ..\n",
    "            - 속성 (변수)\n",
    "            - 자동차의 속성 : 브랜드, 색, 속도, 모델, ..\n",
    "            - 강아지의 속성 : 이름, 종, 색, 무게, ..\n",
    "            \n",
    "            - 행동 (메소드, 함수)\n",
    "            - 자동차의 행동 : 가다, 서다, 회전, 주차, ..\n",
    "            - 강아지의 행동 : 뛰다, 짖다, 자다, 핥다, ..\n",
    "            \n",
    "- 객체지향프로그래밍\n",
    "    - ex) 편의점 프로그램을 만들고 싶음\n",
    "    - \"고객이 편의점에서 과자를 샀다\"를 모두 함수에 넣는 것이 아니라 객체를 쪼갬\n",
    "    - 객체는 3개정도\n",
    "        - 고객, 편의점, 과자\n",
    "        - 고객 => 사람        /             편의점            /     과자 => 물건\n",
    "            - 이 3가지의 상호작용을 코드로 구현하는 것임\n",
    "        - 이름, 돈 (속성)    /           재고, 수익          /  이름, 브랜드, 가격\n",
    "        - 물건 사다, 돈내다  / 팔다, 수익남기다,물건 등록하다/ X\n",
    "    - 객체는 속성, 행동을 가짐. 행동은 때에 따라 없어도 됨. \n",
    "    - 코드 짤 때 가져갈 것은 실제 있는 속성이 아니라 내가 필요한 속성."
   ]
  },
  {
   "cell_type": "markdown",
   "id": "5bc00992",
   "metadata": {},
   "source": [
    "- 첫글자 대문자\n",
    "- nice car -> Nice_car (x)\n",
    "- NiceCar (o)\n",
    "\n",
    "- 정의부, 선언부\n",
    "    - 정의부 = 붕어빵 틀\n",
    "    - 선언부 = 붕어빵"
   ]
  },
  {
   "cell_type": "code",
   "execution_count": 39,
   "id": "fc53386c",
   "metadata": {
    "scrolled": true
   },
   "outputs": [
    {
     "data": {
      "text/plain": [
       "<__main__.Car at 0x20ba0bf1070>"
      ]
     },
     "execution_count": 39,
     "metadata": {},
     "output_type": "execute_result"
    }
   ],
   "source": [
    "# 정의부\n",
    "class Car: #객체\n",
    "    pass\n",
    "\n",
    "# 선언부\n",
    "my_car = Car() #Car라는 객체가 0x1f4991a34c0라는 메모리에 저장되었다.\n",
    "my_car # instance == 붕어빵"
   ]
  },
  {
   "cell_type": "code",
   "execution_count": 40,
   "id": "391ca641",
   "metadata": {},
   "outputs": [],
   "source": [
    "#정의부에서 틀이 안잡혀 있으면 속성을 만들 수 있음\n",
    "\n",
    "my_car.name = 'bmw' # 이렇게하면 각 차 마다 새로 설정해줘야.\n",
    "my_car.color = 'white'"
   ]
  },
  {
   "cell_type": "code",
   "execution_count": 41,
   "id": "a7f1cadf",
   "metadata": {},
   "outputs": [
    {
     "data": {
      "text/plain": [
       "'bmw'"
      ]
     },
     "execution_count": 41,
     "metadata": {},
     "output_type": "execute_result"
    }
   ],
   "source": [
    "my_car.name"
   ]
  },
  {
   "cell_type": "code",
   "execution_count": 42,
   "id": "7176c2e4",
   "metadata": {},
   "outputs": [],
   "source": [
    "#1.\n",
    "class Car:\n",
    "    name = 'BMW' #이름 속성을 미리 BMW로 지정함"
   ]
  },
  {
   "cell_type": "code",
   "execution_count": 43,
   "id": "5fc8eaf9",
   "metadata": {},
   "outputs": [],
   "source": [
    "your_car = Car()"
   ]
  },
  {
   "cell_type": "code",
   "execution_count": 44,
   "id": "8bb06476",
   "metadata": {},
   "outputs": [
    {
     "data": {
      "text/plain": [
       "'BMW'"
      ]
     },
     "execution_count": 44,
     "metadata": {},
     "output_type": "execute_result"
    }
   ],
   "source": [
    "your_car.name #이미 your_car의 이름이 BMW로 정의됨."
   ]
  },
  {
   "cell_type": "code",
   "execution_count": 45,
   "id": "31092e59",
   "metadata": {},
   "outputs": [],
   "source": [
    "your_car.name = 'Kia' #만약 BMW를 원하지 않으면 이렇게 바꿔줘야하는 번거로움 발생"
   ]
  },
  {
   "cell_type": "code",
   "execution_count": 46,
   "id": "258328f2",
   "metadata": {},
   "outputs": [],
   "source": [
    "#2. \n",
    "class Car:\n",
    "    def __init__(self, name): #속성 초기화 함수\n",
    "        #객체               -c만들 때 들어가는 값으로 이름을 설정하고 싶다.\n",
    "        # \n",
    "        self.name = name\n",
    "        # self == instance(붕어빵)"
   ]
  },
  {
   "cell_type": "code",
   "execution_count": 47,
   "id": "04098604",
   "metadata": {},
   "outputs": [],
   "source": [
    "her_car = Car(name='Hyundai')"
   ]
  },
  {
   "cell_type": "code",
   "execution_count": 48,
   "id": "5fa323ae",
   "metadata": {},
   "outputs": [
    {
     "data": {
      "text/plain": [
       "'Hyundai'"
      ]
     },
     "execution_count": 48,
     "metadata": {},
     "output_type": "execute_result"
    }
   ],
   "source": [
    "her_car.name"
   ]
  },
  {
   "cell_type": "code",
   "execution_count": 49,
   "id": "fc37d717",
   "metadata": {},
   "outputs": [
    {
     "data": {
      "text/plain": [
       "'Toyota'"
      ]
     },
     "execution_count": 49,
     "metadata": {},
     "output_type": "execute_result"
    }
   ],
   "source": [
    "car2 = Car('Toyota')\n",
    "car2.name"
   ]
  },
  {
   "cell_type": "code",
   "execution_count": 50,
   "id": "12d6ea62",
   "metadata": {},
   "outputs": [
    {
     "name": "stdout",
     "output_type": "stream",
     "text": [
      "Kia SM6 black\n"
     ]
    }
   ],
   "source": [
    "# 3.\n",
    "# 모델, 색\n",
    "class Car:\n",
    "    def __init__(self, name, model, color):\n",
    "        self.name = name\n",
    "        self.model = model\n",
    "        self.color = color\n",
    "        \n",
    "# her_car = Car(name='Hyundai')\n",
    "#이렇게 name만 설정해주면 다른 인자가 없어서 오류남\n",
    "\n",
    "#모든 인자를 다 입력해야함\n",
    "car3 = Car('Kia', 'SM6', 'black')\n",
    "\n",
    "print(car3.name, car3.model, car3.color)"
   ]
  },
  {
   "cell_type": "code",
   "execution_count": 53,
   "id": "29420432",
   "metadata": {
    "scrolled": false
   },
   "outputs": [],
   "source": [
    "#4. \n",
    "class Car:\n",
    "    def __init__(self, name, model, color):\n",
    "        self.name = name\n",
    "        self.model = model\n",
    "        self.color = color\n",
    "    def drive(self): #클래스 안에는 항상 self가 있어야 함.\n",
    "        print(f'{model}가 갑니다')\n",
    "    def stop(self):\n",
    "        print('차가 섭니다')"
   ]
  },
  {
   "cell_type": "code",
   "execution_count": 8,
   "id": "c79332f4",
   "metadata": {},
   "outputs": [
    {
     "name": "stdout",
     "output_type": "stream",
     "text": [
      "Kia SM6 black\n"
     ]
    }
   ],
   "source": [
    "car3 = Car('Kia', 'SM6', 'black')\n",
    "\n",
    "print(car3.name, car3.model, car3.color)"
   ]
  },
  {
   "cell_type": "code",
   "execution_count": 28,
   "id": "8b12eccb",
   "metadata": {},
   "outputs": [],
   "source": [
    "#5. 변형 문제\n",
    "class Car:\n",
    "    def __init__(self, name, model, color):\n",
    "        self.name = name\n",
    "        self.model = model\n",
    "        self.color = color\n",
    "        \n",
    "    def drive(self): #1.{차 이름}가 출발합니다.\n",
    "        print(f'{model}가 갑니다')\n",
    "        \n",
    "    def stop(self):\n",
    "        print('차가 섭니다')\n",
    "        \n",
    "    def change_color(self, color): #2.color = gray로 바꿔준다.\n",
    "        self.color = 'gray'"
   ]
  },
  {
   "cell_type": "code",
   "execution_count": 67,
   "id": "061e362b",
   "metadata": {},
   "outputs": [],
   "source": [
    "#3. color을 받아서 그걸로 지정하게\n",
    "#4. color가 들어오면 그 값으로 설정, 아니면 'black'으로 설정\n",
    "#5. model을 생성할 때 안 넣어도 되게 설정하기\n",
    "class Car:\n",
    "    def __init__(self, name, model=None, color='black'):\n",
    "        self.name = name\n",
    "        # None == 없음 #굳이 model명 입력 안하고 넘어갈 때\n",
    "        self.model = model\n",
    "        self.color = color\n",
    "        \n",
    "    def drive(self):\n",
    "        print(f'{self.model}가 갑니다.')\n",
    "        \n",
    "    def stop(self):\n",
    "        print('차가 섭니다')\n",
    "    \n",
    "    def change_color(self, color):\n",
    "        self.color = color"
   ]
  },
  {
   "cell_type": "code",
   "execution_count": 57,
   "id": "6cd16466",
   "metadata": {
    "scrolled": false
   },
   "outputs": [
    {
     "data": {
      "text/plain": [
       "'X5'"
      ]
     },
     "execution_count": 57,
     "metadata": {},
     "output_type": "execute_result"
    }
   ],
   "source": [
    "family_car = Car(name='Toyota', model='X5', color='black')\n",
    "family_car.model"
   ]
  },
  {
   "cell_type": "code",
   "execution_count": 63,
   "id": "97a3d685",
   "metadata": {},
   "outputs": [
    {
     "data": {
      "text/plain": [
       "'black'"
      ]
     },
     "execution_count": 63,
     "metadata": {},
     "output_type": "execute_result"
    }
   ],
   "source": [
    "car3 = Car('Kia', 'SM6')\n",
    "car3.color #함수에 기본값이 black으로 들어가 있어서 설정안해줘도 black이 출력됨"
   ]
  },
  {
   "cell_type": "code",
   "execution_count": 59,
   "id": "18328b1a",
   "metadata": {
    "scrolled": true
   },
   "outputs": [
    {
     "data": {
      "text/plain": [
       "'SM6'"
      ]
     },
     "execution_count": 59,
     "metadata": {},
     "output_type": "execute_result"
    }
   ],
   "source": [
    "car3.model"
   ]
  },
  {
   "cell_type": "code",
   "execution_count": 60,
   "id": "2cfaa87d",
   "metadata": {
    "scrolled": true
   },
   "outputs": [
    {
     "name": "stdout",
     "output_type": "stream",
     "text": [
      "SM6가 갑니다.\n"
     ]
    }
   ],
   "source": [
    "car3.drive()"
   ]
  },
  {
   "cell_type": "code",
   "execution_count": 63,
   "id": "3e61a75b",
   "metadata": {},
   "outputs": [
    {
     "name": "stdout",
     "output_type": "stream",
     "text": [
      "차가 섭니다\n"
     ]
    }
   ],
   "source": [
    "car3.stop()"
   ]
  },
  {
   "cell_type": "code",
   "execution_count": null,
   "id": "36ba1125",
   "metadata": {},
   "outputs": [],
   "source": [
    "# 색 변경\n",
    "\n",
    "print(car3.color)\n",
    "car3.change_color('grey')\n",
    "print(car3.color)"
   ]
  },
  {
   "cell_type": "code",
   "execution_count": null,
   "id": "508adaf4",
   "metadata": {},
   "outputs": [],
   "source": [
    "# 디폴트 색 설정\n",
    "\n",
    "car2 = Car('Hyundai', 'Sonata')\n",
    "car2.color"
   ]
  },
  {
   "cell_type": "code",
   "execution_count": 61,
   "id": "28d3f7f5",
   "metadata": {
    "scrolled": true
   },
   "outputs": [
    {
     "data": {
      "text/plain": [
       "('Toyota', None, 'black')"
      ]
     },
     "execution_count": 61,
     "metadata": {},
     "output_type": "execute_result"
    }
   ],
   "source": [
    "# model 값을 필수 속성에서 제외시키기려면 None으로 설정\n",
    "#주의! 속성 자체를 없애는 것과는 다름. \n",
    "\n",
    "car3 = Car('Toyota')\n",
    "car3.name, car3.model, car3.color"
   ]
  },
  {
   "cell_type": "markdown",
   "id": "59d8e25a",
   "metadata": {},
   "source": [
    "### 캡슐화, 정보 은닉\n",
    "- JAVA의 public -> private로 바꾸는 작업\n",
    "- getter, setter보다 더 많이 쓰는 방법"
   ]
  },
  {
   "cell_type": "code",
   "execution_count": 64,
   "id": "94a7bfbd",
   "metadata": {},
   "outputs": [
    {
     "data": {
      "text/plain": [
       "'red'"
      ]
     },
     "execution_count": 64,
     "metadata": {},
     "output_type": "execute_result"
    }
   ],
   "source": [
    "class Fruit:\n",
    "    color = 'red'\n",
    "    \n",
    "kiwi = Fruit()\n",
    "kiwi.color"
   ]
  },
  {
   "cell_type": "code",
   "execution_count": 65,
   "id": "5105df1f",
   "metadata": {},
   "outputs": [],
   "source": [
    "#틀은 만들었지만 외부에서 속성을 마음대로 바꿀 수 있다는 문제점 발생\n",
    "Fruit.color = 'blue'"
   ]
  },
  {
   "cell_type": "code",
   "execution_count": 66,
   "id": "0051d6bd",
   "metadata": {
    "scrolled": true
   },
   "outputs": [
    {
     "data": {
      "text/plain": [
       "'black'"
      ]
     },
     "execution_count": 66,
     "metadata": {},
     "output_type": "execute_result"
    }
   ],
   "source": [
    "apple = Fruit()\n",
    "apple.color"
   ]
  },
  {
   "cell_type": "markdown",
   "id": "15f83556",
   "metadata": {},
   "source": [
    "### get, set\n",
    "\n",
    "* getter : 클래스 내 객체 변수 반환\n",
    "* setter : 변수 설정"
   ]
  },
  {
   "cell_type": "markdown",
   "id": "32352d00",
   "metadata": {},
   "source": [
    "### java 방식"
   ]
  },
  {
   "cell_type": "code",
   "execution_count": 71,
   "id": "a5ff2ee1",
   "metadata": {},
   "outputs": [],
   "source": [
    "class Book:\n",
    "    def __init__(self, input_name):\n",
    "        self.name = input_name\n",
    "        \n",
    "    def get_name(self):\n",
    "        #변수 변환\n",
    "        return self.name\n",
    "\n",
    "    def set_name(self, input_name):\n",
    "        self.name = input_name"
   ]
  },
  {
   "cell_type": "code",
   "execution_count": 74,
   "id": "1b743857",
   "metadata": {
    "scrolled": true
   },
   "outputs": [
    {
     "data": {
      "text/plain": [
       "'economics'"
      ]
     },
     "execution_count": 74,
     "metadata": {},
     "output_type": "execute_result"
    }
   ],
   "source": [
    "c = Book('economics')\n",
    "c.get_name()"
   ]
  },
  {
   "cell_type": "code",
   "execution_count": 75,
   "id": "cc58e6e9",
   "metadata": {},
   "outputs": [
    {
     "data": {
      "text/plain": [
       "'math'"
      ]
     },
     "execution_count": 75,
     "metadata": {},
     "output_type": "execute_result"
    }
   ],
   "source": [
    "c.set_name('math') # c.name = 'math\n",
    "#setter가 있다는 것은 __init__을 쓰지 말라는 뜻\n",
    "c.get_name()"
   ]
  },
  {
   "cell_type": "markdown",
   "id": "9e91496a",
   "metadata": {},
   "source": [
    "### python 방식"
   ]
  },
  {
   "cell_type": "code",
   "execution_count": 68,
   "id": "977f25bd",
   "metadata": {},
   "outputs": [],
   "source": [
    "class Book:\n",
    "    def __init__(self, input_name):\n",
    "        self.hidden_name = input_name\n",
    "    \n",
    "    def get_name(self):\n",
    "        #변수 변환\n",
    "        return self.hidden_name\n",
    "\n",
    "    def set_name(self, input_name):\n",
    "        self.hidden_name = input_name\n",
    "    \n",
    "    name = property(get_name, set_name)"
   ]
  },
  {
   "cell_type": "code",
   "execution_count": 76,
   "id": "0ff071ff",
   "metadata": {
    "scrolled": true
   },
   "outputs": [
    {
     "data": {
      "text/plain": [
       "'English'"
      ]
     },
     "execution_count": 76,
     "metadata": {},
     "output_type": "execute_result"
    }
   ],
   "source": [
    "f = Book('English')\n",
    "f.name"
   ]
  },
  {
   "cell_type": "markdown",
   "id": "755fc20d",
   "metadata": {},
   "source": [
    "### @ decorator 사용"
   ]
  },
  {
   "cell_type": "code",
   "execution_count": 72,
   "id": "014b23a2",
   "metadata": {},
   "outputs": [],
   "source": [
    "class Book:\n",
    "    def __init__(self, input_name):\n",
    "        # __init__을 통해 name에 접근하는 개념을 피하고 싶을 때\n",
    "        self.hidden_name = input_name\n",
    "    \n",
    "    #decorator # 메소드를 통해 속성을 만든다.\n",
    "    @property\n",
    "    def name(self):\n",
    "        #변수 변환\n",
    "        return self.hidden_name\n",
    "\n",
    "    @name.setter #  @<필드명>.setter\n",
    "    def set_name(self, input_name):\n",
    "        self.hidden_name = input_name"
   ]
  },
  {
   "cell_type": "code",
   "execution_count": 77,
   "id": "a2e1f5aa",
   "metadata": {},
   "outputs": [
    {
     "data": {
      "text/plain": [
       "'Korean'"
      ]
     },
     "execution_count": 77,
     "metadata": {},
     "output_type": "execute_result"
    }
   ],
   "source": [
    "e = Book('Korean')\n",
    "e.name"
   ]
  },
  {
   "cell_type": "code",
   "execution_count": 78,
   "id": "ff6dc5ce",
   "metadata": {},
   "outputs": [
    {
     "ename": "AttributeError",
     "evalue": "'Book' object has no attribute 'hidden_name'",
     "output_type": "error",
     "traceback": [
      "\u001b[1;31m---------------------------------------------------------------------------\u001b[0m",
      "\u001b[1;31mAttributeError\u001b[0m                            Traceback (most recent call last)",
      "\u001b[1;32m~\\AppData\\Local\\Temp/ipykernel_11336/3525632160.py\u001b[0m in \u001b[0;36m<module>\u001b[1;34m\u001b[0m\n\u001b[0;32m      1\u001b[0m \u001b[1;31m#외부의 접근을 방지할 수 있음\u001b[0m\u001b[1;33m\u001b[0m\u001b[1;33m\u001b[0m\u001b[0m\n\u001b[1;32m----> 2\u001b[1;33m \u001b[0me\u001b[0m\u001b[1;33m.\u001b[0m\u001b[0mhidden_name\u001b[0m\u001b[1;33m\u001b[0m\u001b[1;33m\u001b[0m\u001b[0m\n\u001b[0m",
      "\u001b[1;31mAttributeError\u001b[0m: 'Book' object has no attribute 'hidden_name'"
     ]
    }
   ],
   "source": [
    "#외부의 접근을 방지할 수 있음\n",
    "e.hidden_name"
   ]
  },
  {
   "cell_type": "markdown",
   "id": "ea425d8f",
   "metadata": {},
   "source": [
    "### 접근 방지"
   ]
  },
  {
   "cell_type": "code",
   "execution_count": 79,
   "id": "63205631",
   "metadata": {},
   "outputs": [
    {
     "ename": "AttributeError",
     "evalue": "type object 'When' has no attribute '__a'",
     "output_type": "error",
     "traceback": [
      "\u001b[1;31m---------------------------------------------------------------------------\u001b[0m",
      "\u001b[1;31mAttributeError\u001b[0m                            Traceback (most recent call last)",
      "\u001b[1;32m~\\AppData\\Local\\Temp/ipykernel_11336/3445127912.py\u001b[0m in \u001b[0;36m<module>\u001b[1;34m\u001b[0m\n\u001b[0;32m      5\u001b[0m \u001b[1;33m\u001b[0m\u001b[0m\n\u001b[0;32m      6\u001b[0m \u001b[0mb\u001b[0m \u001b[1;33m=\u001b[0m \u001b[0mWhen\u001b[0m\u001b[1;33m\u001b[0m\u001b[1;33m\u001b[0m\u001b[0m\n\u001b[1;32m----> 7\u001b[1;33m \u001b[0mb\u001b[0m\u001b[1;33m.\u001b[0m\u001b[0m__a\u001b[0m\u001b[1;33m\u001b[0m\u001b[1;33m\u001b[0m\u001b[0m\n\u001b[0m",
      "\u001b[1;31mAttributeError\u001b[0m: type object 'When' has no attribute '__a'"
     ]
    }
   ],
   "source": [
    "# 언더바 2개 사용\n",
    "\n",
    "class When:\n",
    "    __a = 10\n",
    "\n",
    "b = When\n",
    "b.__a"
   ]
  },
  {
   "cell_type": "code",
   "execution_count": 75,
   "id": "c856b3f8",
   "metadata": {},
   "outputs": [],
   "source": [
    "# __ 가 클래스에 접근을 못하도록 한다.\n",
    "\n",
    "class Book:\n",
    "    def __init__(self, input_name):\n",
    "        self.__name = input_name\n",
    "    \n",
    "    #decorator\n",
    "    @property\n",
    "    def name(self):\n",
    "        #변수 변환\n",
    "        return self.__name\n",
    "\n",
    "    @name.setter\n",
    "    def name(self, input_name):\n",
    "        self.__name = input_name"
   ]
  },
  {
   "cell_type": "code",
   "execution_count": 80,
   "id": "028108af",
   "metadata": {},
   "outputs": [
    {
     "ename": "AttributeError",
     "evalue": "'Book' object has no attribute '__name'",
     "output_type": "error",
     "traceback": [
      "\u001b[1;31m---------------------------------------------------------------------------\u001b[0m",
      "\u001b[1;31mAttributeError\u001b[0m                            Traceback (most recent call last)",
      "\u001b[1;32m~\\AppData\\Local\\Temp/ipykernel_11336/1182243809.py\u001b[0m in \u001b[0;36m<module>\u001b[1;34m\u001b[0m\n\u001b[0;32m      1\u001b[0m \u001b[0mb\u001b[0m \u001b[1;33m=\u001b[0m \u001b[0mBook\u001b[0m\u001b[1;33m(\u001b[0m\u001b[1;34m'Society'\u001b[0m\u001b[1;33m)\u001b[0m\u001b[1;33m\u001b[0m\u001b[1;33m\u001b[0m\u001b[0m\n\u001b[1;32m----> 2\u001b[1;33m \u001b[0mb\u001b[0m\u001b[1;33m.\u001b[0m\u001b[0m__name\u001b[0m\u001b[1;33m\u001b[0m\u001b[1;33m\u001b[0m\u001b[0m\n\u001b[0m",
      "\u001b[1;31mAttributeError\u001b[0m: 'Book' object has no attribute '__name'"
     ]
    }
   ],
   "source": [
    "b = Book('Society')\n",
    "b.__name"
   ]
  },
  {
   "cell_type": "code",
   "execution_count": 81,
   "id": "aeec625d",
   "metadata": {},
   "outputs": [],
   "source": [
    "class Circle:\n",
    "    def __init__(self, radius):\n",
    "        self.radius = radius\n",
    "        # self.para = radius * 2\n",
    "        \n",
    "    @property\n",
    "    def parameter(self):\n",
    "        return self.radius * 2"
   ]
  },
  {
   "cell_type": "code",
   "execution_count": 82,
   "id": "c1a247ed",
   "metadata": {},
   "outputs": [
    {
     "data": {
      "text/plain": [
       "10"
      ]
     },
     "execution_count": 82,
     "metadata": {},
     "output_type": "execute_result"
    }
   ],
   "source": [
    "ex = Circle(5)\n",
    "ex.parameter"
   ]
  },
  {
   "cell_type": "code",
   "execution_count": 83,
   "id": "3152cf2c",
   "metadata": {},
   "outputs": [
    {
     "data": {
      "text/plain": [
       "38"
      ]
     },
     "execution_count": 83,
     "metadata": {},
     "output_type": "execute_result"
    }
   ],
   "source": [
    "ex.radius = 19\n",
    "ex.parameter"
   ]
  },
  {
   "cell_type": "markdown",
   "id": "d91c2835",
   "metadata": {},
   "source": [
    "### 실습\n",
    "- 메모장, 메모 구현하기\n",
    "- 메모장\n",
    "    - 속성 : 제목, 페이지번호, 메모\n",
    "    - 메모 추가하다, 메모 삭제하다, 페이지번호 확인하다\n",
    "- 메모\n",
    "    - 속성 : 글귀\n",
    "    - 행동 : 쓰다, 지우다\n",
    "    \n",
    "- 사용:\n",
    "    - 메모 쓴다\n",
    "    - 메모장에 추가\n",
    "    - 페이지 번호가 추가한만큼 늘어난다\n",
    "    - 메모를 삭제\n",
    "    - 페이지 번호 줄어든다"
   ]
  },
  {
   "cell_type": "code",
   "execution_count": null,
   "id": "6d2e12e6",
   "metadata": {},
   "outputs": [],
   "source": [
    "'''예제 문제\n",
    "# 사용\n",
    "line1 = '우리 모두 스스로가 원하는 리더가 됩시다'\n",
    "line2 = '모두가 함께 앞으로 나아가면 성공은 저절로 따라옵니다'\n",
    "line3 = '혼자서는 작은 한 방울이지만 함께 모이면 바다를 이룹니다'\n",
    "\n",
    "#메모 추가\n",
    "my_note = Note()\n",
    "my_note.write(line1)\n",
    "my_note.write(line2)\n",
    "my_note.write(line3)\n",
    "\n",
    "#메모장에 추가\n",
    "my_book = Notebook()\n",
    "my_book.add_note(my_note)\n",
    "\n",
    "#페이지 번호 확인하기\n",
    "my_book.get_page_num()\n",
    "\n",
    "# 페이지 삭제하기\n",
    "# 페이지 번호 확인하기\n",
    "'''"
   ]
  },
  {
   "cell_type": "code",
   "execution_count": 34,
   "id": "37632b78",
   "metadata": {},
   "outputs": [],
   "source": [
    "class Notebook:\n",
    "    def __init__(self, input_title=None):\n",
    "        self.__title = input_title\n",
    "        self.note = []\n",
    "        self.pageNumber = -1\n",
    "        \n",
    "        self.pages = []\n",
    "        self.idCount = -1\n",
    "\n",
    "    @property\n",
    "    def title(self):\n",
    "        return self.__title\n",
    "\n",
    "    @title.setter\n",
    "    def title(self, input_title):\n",
    "        self.__title = input_title\n",
    "\n",
    "    def print_pages(self):\n",
    "        print('\\n=== PAGES ===')\n",
    "        for i,page in enumerate(self.pages):\n",
    "            print(f'Page {i}: {page[0]}')\n",
    "    \n",
    "    def find_page(self, pageNumber):\n",
    "        try:\n",
    "            return self.pages[pageNumber]\n",
    "        except:\n",
    "            print(\"Page not found.\")\n",
    "            \n",
    "    def get_page_num(self):\n",
    "        return self.pageNumber\n",
    "\n",
    "    def add_note(self, newNote):\n",
    "        if self.pageNumber + len(newNote.noteList) > 300:\n",
    "            print('Not enough space for a new note.')\n",
    "            return\n",
    "        \n",
    "        self.note.append(newNote)\n",
    "        \n",
    "        for line in newNote.noteList:\n",
    "            self.pageNumber += 1\n",
    "            self.idCount += 1\n",
    "            \n",
    "            newNote.idList.append(self.idCount)\n",
    "            self.pages.append((line, self.idCount))\n",
    "\n",
    "    def remove_note(self, thisNote):\n",
    "        if thisNote in self.note:\n",
    "            for i in range(self.pageNumber):\n",
    "                if self.pages[i][1] in thisNote.idList:\n",
    "                    deleteIndex_start = i\n",
    "                    break\n",
    "                    \n",
    "            del self.pages[deleteIndex_start : deleteIndex_start + len(thisNote.idList)]\n",
    "            \n",
    "            self.pageNumber -= len(thisNote.noteList)\n",
    "            self.note.remove(thisNote)\n",
    "        else:\n",
    "            print('Note not found.')\n",
    "\n",
    "class Note:\n",
    "    def __init__(self):\n",
    "        self.noteList = []\n",
    "        self.idList = []\n",
    "    \n",
    "    def write(self, input_text):\n",
    "        self.noteList.append(input_text)"
   ]
  },
  {
   "cell_type": "code",
   "execution_count": 35,
   "id": "a35a1bdb",
   "metadata": {},
   "outputs": [],
   "source": [
    "# 메모 생성\n",
    "\n",
    "line1 = '우리 모두 스스로가 원하는 리더가 됩시다'\n",
    "line2 = '모두가 함께 앞으로 나아가면 성공은 저절로 따라옵니다'\n",
    "line3 = '혼자서는 작은 한 방울이지만 함께 모이면 바다를 이룹니다.'\n",
    "\n",
    "my_note = Note()\n",
    "my_note.write(line1)\n",
    "my_note.write(line2)\n",
    "my_note.write(line3)\n",
    "\n",
    "draft_note = Note()\n",
    "draft_note.write('hello world')\n",
    "draft_note.write('what on earth')\n",
    "draft_note.write('breath of the wild')"
   ]
  },
  {
   "cell_type": "code",
   "execution_count": 36,
   "id": "0ec41242",
   "metadata": {},
   "outputs": [
    {
     "name": "stdout",
     "output_type": "stream",
     "text": [
      "\n",
      "=== PAGES ===\n",
      "Page 0: 우리 모두 스스로가 원하는 리더가 됩시다\n",
      "Page 1: 모두가 함께 앞으로 나아가면 성공은 저절로 따라옵니다\n",
      "Page 2: 혼자서는 작은 한 방울이지만 함께 모이면 바다를 이룹니다.\n",
      "Page 3: hello world\n",
      "Page 4: what on earth\n",
      "Page 5: breath of the wild\n"
     ]
    },
    {
     "data": {
      "text/plain": [
       "5"
      ]
     },
     "execution_count": 36,
     "metadata": {},
     "output_type": "execute_result"
    }
   ],
   "source": [
    "# 메모장 생성, 메모장에 메모 추가\n",
    "my_book = Notebook()\n",
    "my_book.add_note(my_note)\n",
    "my_book.add_note(draft_note)\n",
    "\n",
    "# 모든 페이지 출력, 페이지 번호 확인\n",
    "my_book.print_pages()\n",
    "my_book.get_page_num()"
   ]
  },
  {
   "cell_type": "code",
   "execution_count": 37,
   "id": "bfa23d9d",
   "metadata": {},
   "outputs": [],
   "source": [
    "# 페이지 용량 초과\n",
    "testLine = 'test line'\n",
    "testNote = Note()\n",
    "\n",
    "for _ in range(299):\n",
    "    testNote.write(testLine)"
   ]
  },
  {
   "cell_type": "code",
   "execution_count": 38,
   "id": "c3f04578",
   "metadata": {
    "scrolled": true
   },
   "outputs": [
    {
     "name": "stdout",
     "output_type": "stream",
     "text": [
      "Not enough space for a new note.\n"
     ]
    }
   ],
   "source": [
    "my_book.add_note(testNote)"
   ]
  }
 ],
 "metadata": {
  "kernelspec": {
   "display_name": "Python 3 (ipykernel)",
   "language": "python",
   "name": "python3"
  },
  "language_info": {
   "codemirror_mode": {
    "name": "ipython",
    "version": 3
   },
   "file_extension": ".py",
   "mimetype": "text/x-python",
   "name": "python",
   "nbconvert_exporter": "python",
   "pygments_lexer": "ipython3",
   "version": "3.9.7"
  }
 },
 "nbformat": 4,
 "nbformat_minor": 5
}
