{
 "cells": [
  {
   "cell_type": "markdown",
   "id": "e13a34ad",
   "metadata": {},
   "source": [
    "### 객체 II\n",
    "- 상속 (inheritance)\n",
    "    - 이전 클래스의 내용을 추가, 변경해야 할 경우\n",
    "- 재사용할 때, A vs. B\n",
    "    - \"A의 대부분을 쓰고, 나머지를 추가, 변경하고 싶다\"\n",
    "    - 부모의 모든 속성을 그대로 가져와서 쓰겠다.\n",
    "- 반복되는 부분을 가져오겠다. 물려받겠다.\n",
    "- A <- B\n",
    "    - \"부모, 슈퍼, 베이스\"\n",
    "    - \"자식, 서브, derived\"\n",
    "- 자식 클래스는 부모클래스를 구체화한다.\n",
    "- is-a 관계 : Car is-a Vehicle (포함된다)\n",
    "- 자식 class가 너무 부모 class와 관계가 깊으면 안됨\n",
    "- 상속 관계\n",
    "    - is-a- 관계\n",
    "        - 포함 관계\n",
    "    - has-a- 관계\n",
    "        - 서로 다른 객체를 변수로 이은 관계\n",
    "        - is-a- 관계보다 독립적\n",
    "- e.g. Car is-a-Vehicle\n",
    "    - 부모 class: Vehicle\n",
    "    - 자식 class: Car"
   ]
  },
  {
   "cell_type": "code",
   "execution_count": 1,
   "id": "c55c82b0",
   "metadata": {},
   "outputs": [],
   "source": [
    "class Vehicle: #parent, super\n",
    "    def __init__(self, speed):\n",
    "        self.speed = speed\n",
    "    \n",
    "    def go(self):\n",
    "        print(f'{self.speed}의 속도로 달린다.')\n",
    "        \n",
    "\n",
    "#child\n",
    "#class Car(Vehicle): #child, sub #Vehicle = 부모 #Car는 자식\n",
    "    #pass # 아무것도 안하면 부모걸 불러옴"
   ]
  },
  {
   "cell_type": "code",
   "execution_count": 2,
   "id": "ba9fce6f",
   "metadata": {},
   "outputs": [],
   "source": [
    "# 자식 class\n",
    "class Car(Vehicle):\n",
    "    pass"
   ]
  },
  {
   "cell_type": "code",
   "execution_count": 3,
   "id": "c9fcad39",
   "metadata": {},
   "outputs": [],
   "source": [
    "car = Car('20km/h')"
   ]
  },
  {
   "cell_type": "code",
   "execution_count": 4,
   "id": "3977f261",
   "metadata": {},
   "outputs": [
    {
     "name": "stdout",
     "output_type": "stream",
     "text": [
      "20km/h의 속도로 달린다.\n"
     ]
    }
   ],
   "source": [
    "car.go()"
   ]
  },
  {
   "cell_type": "markdown",
   "id": "95d81494",
   "metadata": {},
   "source": [
    "### 변수 추가, 변경"
   ]
  },
  {
   "cell_type": "markdown",
   "id": "54f338c0",
   "metadata": {},
   "source": [
    "- 변수 (속성)\n",
    "    - 부모 class에는 super().__init__()으로 접근\n",
    "    - 부모 class의 속성을 선택적으로 받아 올 수 있음"
   ]
  },
  {
   "cell_type": "code",
   "execution_count": 7,
   "id": "b2097c95",
   "metadata": {},
   "outputs": [],
   "source": [
    "class Car(Vehicle):\n",
    "    def __init__(self, speed, brand):\n",
    "        # speed == 부모에게 받아온 속성\n",
    "        super().__init__(speed)\n",
    "        # brand == 자식 class에서 추가한 속성\n",
    "        self.brand = brand #나의 고유한 특성이 된다."
   ]
  },
  {
   "cell_type": "code",
   "execution_count": 8,
   "id": "e117a864",
   "metadata": {},
   "outputs": [
    {
     "data": {
      "text/plain": [
       "'kia'"
      ]
     },
     "execution_count": 8,
     "metadata": {},
     "output_type": "execute_result"
    }
   ],
   "source": [
    "car2 = Car('20km/h', 'kia')\n",
    "car2.brand"
   ]
  },
  {
   "cell_type": "code",
   "execution_count": 9,
   "id": "d4a95c0b",
   "metadata": {
    "scrolled": true
   },
   "outputs": [
    {
     "ename": "AttributeError",
     "evalue": "'Vehicle' object has no attribute 'brand'",
     "output_type": "error",
     "traceback": [
      "\u001b[1;31m---------------------------------------------------------------------------\u001b[0m",
      "\u001b[1;31mAttributeError\u001b[0m                            Traceback (most recent call last)",
      "\u001b[1;32m~\\AppData\\Local\\Temp/ipykernel_16800/2184005269.py\u001b[0m in \u001b[0;36m<module>\u001b[1;34m\u001b[0m\n\u001b[0;32m      1\u001b[0m \u001b[0mv\u001b[0m \u001b[1;33m=\u001b[0m \u001b[0mVehicle\u001b[0m\u001b[1;33m(\u001b[0m\u001b[1;34m'33km/h'\u001b[0m\u001b[1;33m)\u001b[0m\u001b[1;33m\u001b[0m\u001b[1;33m\u001b[0m\u001b[0m\n\u001b[1;32m----> 2\u001b[1;33m \u001b[0mv\u001b[0m\u001b[1;33m.\u001b[0m\u001b[0mbrand\u001b[0m\u001b[1;33m\u001b[0m\u001b[1;33m\u001b[0m\u001b[0m\n\u001b[0m",
      "\u001b[1;31mAttributeError\u001b[0m: 'Vehicle' object has no attribute 'brand'"
     ]
    }
   ],
   "source": [
    "v = Vehicle('33km/h') #brand를 지정하지 않으면 불러올 수 없음\n",
    "v.brand"
   ]
  },
  {
   "cell_type": "markdown",
   "id": "bc55cf1d",
   "metadata": {},
   "source": [
    "### 메소드 추가, 변경\n",
    "- 오버라이드 (override): 재정의\n",
    "- 부모의 함수를 지정하는 방식과 똑같이 하면 됨\n",
    "- `super().<def>`로 부모의 메소드를 가져올 수 있음"
   ]
  },
  {
   "cell_type": "code",
   "execution_count": 10,
   "id": "2008905a",
   "metadata": {},
   "outputs": [
    {
     "name": "stdout",
     "output_type": "stream",
     "text": [
      "20km/h의 속도로 달린다.\n"
     ]
    }
   ],
   "source": [
    "# 부모 class의 go()\n",
    "car2.go()"
   ]
  },
  {
   "cell_type": "code",
   "execution_count": 17,
   "id": "49a97f19",
   "metadata": {},
   "outputs": [],
   "source": [
    "class Car(Vehicle):\n",
    "    def __init__(self, speed, brand):\n",
    "        super().__init__(speed)\n",
    "        self.brand = brand #나의 고유한 특성이 된다.\n",
    "    \n",
    "    #수정\n",
    "    #오버라이드(override): 재정의\n",
    "    def go(self):\n",
    "        # 부모의 go도 함께 가져가고 싶다면?\n",
    "        print(f'차종 {self.brand}의 속도 {self.speed}')\n",
    "    \n",
    "    #추가\n",
    "    #메소드 추가\n",
    "    def stop(self):\n",
    "        print('차가 멈춘다.')"
   ]
  },
  {
   "cell_type": "code",
   "execution_count": 18,
   "id": "ba051ba5",
   "metadata": {},
   "outputs": [
    {
     "name": "stdout",
     "output_type": "stream",
     "text": [
      "차종 mini의 속도 33km/h\n",
      "차가 멈춘다.\n"
     ]
    }
   ],
   "source": [
    "car3 = Car('33km/h', 'mini')\n",
    "car3.go()\n",
    "car3.stop()"
   ]
  },
  {
   "cell_type": "markdown",
   "id": "9cdff487",
   "metadata": {},
   "source": [
    "### 실습"
   ]
  },
  {
   "cell_type": "code",
   "execution_count": 19,
   "id": "ca068f1e",
   "metadata": {},
   "outputs": [],
   "source": [
    "class Person:\n",
    "    def __init__(self, name):\n",
    "        self.name = name\n",
    "        \n",
    "#----------------------------\n",
    "class Doctor(Person): #Dr.pablo\n",
    "    def __init__(self, name):\n",
    "        super().__init__(f'Dr. {name}')\n",
    "\n",
    "class Male(Person): # Mr. pablo\n",
    "    def __init__(self, name):\n",
    "        super().__init__(f'Mr. {name}')\n",
    "\n",
    "class Female(Person): #Mrs. pablo\n",
    "    def __init__(self, name):\n",
    "        super().__init__(f'Mrs. {name}')"
   ]
  },
  {
   "cell_type": "code",
   "execution_count": 21,
   "id": "61635839",
   "metadata": {},
   "outputs": [
    {
     "data": {
      "text/plain": [
       "'Dr. Spring'"
      ]
     },
     "execution_count": 21,
     "metadata": {},
     "output_type": "execute_result"
    }
   ],
   "source": [
    "person1 = Doctor('Spring')\n",
    "person1.name"
   ]
  },
  {
   "cell_type": "markdown",
   "id": "acfa5be2",
   "metadata": {},
   "source": [
    "### 다중상속\n",
    "- 부모 class가 여럿일 때\n",
    "- method resolution order (MRO)\n",
    "    - 부모 class의 우선순위\n",
    "    - 기입 순서에 따름\n",
    "    - mro() 함수로 확인 가능\n",
    "\n",
    "- Animal <- Horse\n",
    "        <- Donkey\n",
    "                <- Mule (Donkey > Horse)\n",
    "                <- Hinny (Horse > Donkey)"
   ]
  },
  {
   "cell_type": "code",
   "execution_count": 22,
   "id": "8b3aa98a",
   "metadata": {},
   "outputs": [],
   "source": [
    "class Animal:\n",
    "    def says(self):\n",
    "        return '동물이 운다.'\n",
    "    \n",
    "class Horse(Animal):\n",
    "    def says(self):\n",
    "        return '히히힝'\n",
    "    \n",
    "class Donkey(Animal):\n",
    "    def says(self):\n",
    "        return '히이호'\n",
    "    \n",
    "class Mule(Donkey, Horse):\n",
    "    pass\n",
    "\n",
    "class Hinny(Horse, Donkey):\n",
    "    pass"
   ]
  },
  {
   "cell_type": "code",
   "execution_count": 23,
   "id": "c0801375",
   "metadata": {},
   "outputs": [
    {
     "data": {
      "text/plain": [
       "'히이호'"
      ]
     },
     "execution_count": 23,
     "metadata": {},
     "output_type": "execute_result"
    }
   ],
   "source": [
    "m = Mule() #객체 생성\n",
    "m.says()"
   ]
  },
  {
   "cell_type": "code",
   "execution_count": 24,
   "id": "14c85488",
   "metadata": {
    "scrolled": true
   },
   "outputs": [
    {
     "data": {
      "text/plain": [
       "'히히힝'"
      ]
     },
     "execution_count": 24,
     "metadata": {},
     "output_type": "execute_result"
    }
   ],
   "source": [
    "Hinny().says()"
   ]
  },
  {
   "cell_type": "code",
   "execution_count": 25,
   "id": "a411281f",
   "metadata": {},
   "outputs": [
    {
     "data": {
      "text/plain": [
       "[__main__.Mule, __main__.Donkey, __main__.Horse, __main__.Animal, object]"
      ]
     },
     "execution_count": 25,
     "metadata": {},
     "output_type": "execute_result"
    }
   ],
   "source": [
    "Mule.mro()"
   ]
  },
  {
   "cell_type": "markdown",
   "id": "e9d9d7b7",
   "metadata": {},
   "source": [
    "### 다형성 (Duck typing)\n",
    "* 형태가 다른데 기능이 같다.\n",
    "* 객체가 다른데도 같은 메소드를 가지고 있으면 기능을 수행할 수 있다."
   ]
  },
  {
   "cell_type": "code",
   "execution_count": 34,
   "id": "3d21df53",
   "metadata": {},
   "outputs": [
    {
     "name": "stdout",
     "output_type": "stream",
     "text": [
      "히이호\n",
      "히이호\n",
      "동물이 운다.\n"
     ]
    }
   ],
   "source": [
    "for animal in Mule(), Donkey(), Animal():\n",
    "    print(animal.says())"
   ]
  },
  {
   "cell_type": "markdown",
   "id": "9584fefb",
   "metadata": {},
   "source": [
    "### 메서드 타입\n",
    "- 인스턴스 메서드\n",
    "    - 기본적으로 사용했던 메소드\n",
    "    - 첫 번째 인수가 self인 메서드\n",
    "    - 해당 객체가 사용하는 메서드\n",
    "    - 객체 생성 후 사용 가능\n",
    "- 클래스 메서드\n",
    "    - 객체 생성하지 않아도 사용 가능\n",
    "    - 객체마다 달라지지 않음\n",
    "    - 클래스 전체에서 작용하는 메소드\n",
    "    - 모든 객체가 공유하는 (클래스) 변수, 메소드\n",
    "    - 객체 생성 없이 메소드 접근 가능\n",
    "    - 예약어: `cls`\n",
    "    - 데코레이터: `@classmethod`\n",
    "- 정적 메서드\n",
    "- 추상 메서드"
   ]
  },
  {
   "cell_type": "code",
   "execution_count": 26,
   "id": "b9b0f929",
   "metadata": {},
   "outputs": [],
   "source": [
    "class A:\n",
    "    cnt = 0\n",
    "    \n",
    "    @classmethod\n",
    "    def move(cls):\n",
    "        return cls.cnt"
   ]
  },
  {
   "cell_type": "code",
   "execution_count": 27,
   "id": "fdafd12c",
   "metadata": {},
   "outputs": [
    {
     "data": {
      "text/plain": [
       "0"
      ]
     },
     "execution_count": 27,
     "metadata": {},
     "output_type": "execute_result"
    }
   ],
   "source": [
    "A().move()"
   ]
  },
  {
   "cell_type": "markdown",
   "id": "00426eb3",
   "metadata": {},
   "source": [
    "### 연습문제\n",
    "- 객체가 생성될 때마다 횟수 증가해서 프린트"
   ]
  },
  {
   "cell_type": "code",
   "execution_count": 29,
   "id": "f638a5ac",
   "metadata": {},
   "outputs": [],
   "source": [
    "class B:\n",
    "    cnt = 0\n",
    "    def __init__(self):\n",
    "        B.cnt += 1 # 객체가 생성되면 클래스 변수에 + 1\n",
    "    \n",
    "    # class method\n",
    "    @classmethod\n",
    "    def count(cls):\n",
    "        print(cls.cnt)"
   ]
  },
  {
   "cell_type": "code",
   "execution_count": 30,
   "id": "8d7a0b40",
   "metadata": {},
   "outputs": [
    {
     "name": "stdout",
     "output_type": "stream",
     "text": [
      "5\n"
     ]
    }
   ],
   "source": [
    "B()\n",
    "B()\n",
    "B()\n",
    "B()\n",
    "B().count()"
   ]
  },
  {
   "cell_type": "code",
   "execution_count": 31,
   "id": "33ea9eeb",
   "metadata": {},
   "outputs": [
    {
     "data": {
      "text/plain": [
       "<__main__.Person at 0x2a1a32dcd60>"
      ]
     },
     "execution_count": 31,
     "metadata": {},
     "output_type": "execute_result"
    }
   ],
   "source": [
    "class Person:\n",
    "    def __init__(self, name, age):\n",
    "        self.name = name\n",
    "        self.age = age\n",
    "    \n",
    "    @classmethod\n",
    "    def tuple_object(cls, args):\n",
    "        #튜플로 인자를 받아서 객체 생성하는 메서드 만들기\n",
    "        return cls(args[0], args[1]) #여기서 cls == Person임\n",
    "    \n",
    "name = 'hwang'\n",
    "age = 24\n",
    "p = Person(name, age)\n",
    "\n",
    "info = name, age\n",
    "Person.tuple_object(info) #객체 생성X, 메서드에 접근 가능"
   ]
  },
  {
   "cell_type": "code",
   "execution_count": 32,
   "id": "b5e10c6d",
   "metadata": {},
   "outputs": [
    {
     "data": {
      "text/plain": [
       "'hwang'"
      ]
     },
     "execution_count": 32,
     "metadata": {},
     "output_type": "execute_result"
    }
   ],
   "source": [
    "p.name"
   ]
  },
  {
   "cell_type": "code",
   "execution_count": 33,
   "id": "389c1b89",
   "metadata": {},
   "outputs": [
    {
     "data": {
      "text/plain": [
       "24"
      ]
     },
     "execution_count": 33,
     "metadata": {},
     "output_type": "execute_result"
    }
   ],
   "source": [
    "p.age"
   ]
  },
  {
   "cell_type": "markdown",
   "id": "6d1bd766",
   "metadata": {},
   "source": [
    "### 정적 메서드\n",
    "- class 안에 있을 필요는 없지만, 내용 상 class에 묶이기에 사용\n",
    "    - 비슷한 유틸리티라서 클래스 내에 묶어둘 때 사용\n",
    "- 클래스나 인스턴스에 접근하지 않는 메서드\n",
    "- 객체 생성하지 않고 메서드 접근 가능\n",
    "- 데코레이터: @staticmethod"
   ]
  },
  {
   "cell_type": "code",
   "execution_count": 34,
   "id": "97881e0a",
   "metadata": {},
   "outputs": [
    {
     "data": {
      "text/plain": [
       "'hi'"
      ]
     },
     "execution_count": 34,
     "metadata": {},
     "output_type": "execute_result"
    }
   ],
   "source": [
    "class Coyote:\n",
    "    \n",
    "    @staticmethod\n",
    "    def says(): # 인자, self 없음\n",
    "        return 'hi'\n",
    "\n",
    "Coyote.says()"
   ]
  },
  {
   "cell_type": "code",
   "execution_count": 35,
   "id": "ca164600",
   "metadata": {},
   "outputs": [
    {
     "data": {
      "text/plain": [
       "'Aawoo, Hi'"
      ]
     },
     "execution_count": 35,
     "metadata": {},
     "output_type": "execute_result"
    }
   ],
   "source": [
    "# 만약 정적 메서드에 변수가 필요하면\n",
    "class Coyote:\n",
    "    \n",
    "    @staticmethod\n",
    "    def says(cry):\n",
    "        return f'{cry}, Hi'\n",
    "\n",
    "Coyote.says('Aawoo')"
   ]
  },
  {
   "cell_type": "markdown",
   "id": "f7dbbe31",
   "metadata": {},
   "source": [
    "### 추상 메소드\n",
    "- 클래스 설정 시 변수와 메소드가 너무 많을 때 가독성을 위해 사용\n",
    "- 구체화되지 않음\n",
    "    - 이후 자식 클래스에서 메소드 재정의 필수\n",
    "- 설계도 같은 개념\n",
    "- import: `from abc import *`\n",
    "- 데코레이터: @abstractmethod"
   ]
  },
  {
   "cell_type": "code",
   "execution_count": null,
   "id": "8d01e22e",
   "metadata": {},
   "outputs": [],
   "source": [
    "from abc import * # 불러오기\n",
    "\n",
    "class Vehicle(metaclass=ABCMeta): # 추상클래스\n",
    "    # 변수에 뭘 넣을지 정의하기\n",
    "    speed = '속도'\n",
    "    \n",
    "    # 자식 클래스가 재정의할 메소드를 정의함\n",
    "    # 구체화X\n",
    "    @abstractmethod\n",
    "    def drive(self):\n",
    "        print('교통수단에 관하여')\n",
    "    \n",
    "    def stop(self):\n",
    "        pass\n",
    "    \n",
    "    def park(self):\n",
    "        pass\n",
    "\n",
    "# -----------------------------\n",
    "\n",
    "class Car(Vehicle):\n",
    "    def drive(self):\n",
    "        return super().speed"
   ]
  },
  {
   "cell_type": "markdown",
   "id": "6578ed9f",
   "metadata": {},
   "source": [
    "### 매직메소드\n",
    "- 고유한 기능을 가지고 있음\n",
    "- 앞뒤로 __가 있는 메소드\n",
    "- `__init__`\n",
    "\n",
    "- 추가 유용한 것\n",
    "    - `__str__`\n",
    "    - `__repr__`"
   ]
  },
  {
   "cell_type": "markdown",
   "id": "08813729",
   "metadata": {},
   "source": [
    "#### `__str__`\n",
    "- 인스턴스를 스트링으로 출력하는 메소드\n",
    "- 이름, 메모리주소\n",
    "- print(인스턴스) 했을 때 출력되는 값을 return으로 정의\n",
    "- class를 그냥 출력 시 정보가 용이하지 않아서 사용"
   ]
  },
  {
   "cell_type": "code",
   "execution_count": 36,
   "id": "4ae44828",
   "metadata": {},
   "outputs": [],
   "source": [
    "class Person:\n",
    "    def __init__(self, name):\n",
    "        self.name = name\n",
    "    \n",
    "    def __str__(self):\n",
    "        # 인스턴스를 스트링으로 출력: 이름, 메모리주소\n",
    "        # print(인스턴스) 했을 때 출력되는 값\n",
    "        return self.name"
   ]
  },
  {
   "cell_type": "code",
   "execution_count": 37,
   "id": "b0676d8a",
   "metadata": {},
   "outputs": [],
   "source": [
    "p = Person('Hwang')"
   ]
  },
  {
   "cell_type": "code",
   "execution_count": 38,
   "id": "8d033ec3",
   "metadata": {},
   "outputs": [
    {
     "data": {
      "text/plain": [
       "<__main__.Person at 0x2a1a32ed880>"
      ]
     },
     "execution_count": 38,
     "metadata": {},
     "output_type": "execute_result"
    }
   ],
   "source": [
    "p"
   ]
  },
  {
   "cell_type": "code",
   "execution_count": 39,
   "id": "c4c4bd6e",
   "metadata": {},
   "outputs": [
    {
     "name": "stdout",
     "output_type": "stream",
     "text": [
      "Hwang\n"
     ]
    }
   ],
   "source": [
    "print(p)"
   ]
  },
  {
   "cell_type": "markdown",
   "id": "fce7c656",
   "metadata": {},
   "source": [
    "#### `__repr__`\n",
    "사용자가 이해할 수 있게 객체를 출력"
   ]
  },
  {
   "cell_type": "code",
   "execution_count": 40,
   "id": "11b77095",
   "metadata": {},
   "outputs": [],
   "source": [
    "class Person:\n",
    "    def __init__(self, name):\n",
    "        self.name = name\n",
    "    \n",
    "    def __repr__(self):\n",
    "        return f'Person({self.name})'"
   ]
  },
  {
   "cell_type": "code",
   "execution_count": 41,
   "id": "a7444bb3",
   "metadata": {},
   "outputs": [],
   "source": [
    "p = Person('Hwang')"
   ]
  },
  {
   "cell_type": "code",
   "execution_count": 42,
   "id": "99ebe7b3",
   "metadata": {},
   "outputs": [
    {
     "name": "stdout",
     "output_type": "stream",
     "text": [
      "Person(Hwang)\n"
     ]
    }
   ],
   "source": [
    "print(p)"
   ]
  },
  {
   "cell_type": "code",
   "execution_count": 43,
   "id": "6ceab602",
   "metadata": {},
   "outputs": [
    {
     "data": {
      "text/plain": [
       "Person(Hwang)"
      ]
     },
     "execution_count": 43,
     "metadata": {},
     "output_type": "execute_result"
    }
   ],
   "source": [
    "p"
   ]
  },
  {
   "cell_type": "code",
   "execution_count": 44,
   "id": "f849e199",
   "metadata": {},
   "outputs": [
    {
     "data": {
      "text/plain": [
       "'Person(Hwang)'"
      ]
     },
     "execution_count": 44,
     "metadata": {},
     "output_type": "execute_result"
    }
   ],
   "source": [
    "repr(p)"
   ]
  },
  {
   "cell_type": "markdown",
   "id": "4e336489",
   "metadata": {},
   "source": [
    "### namedtuple, dataclass\n",
    "- 변수만 있는 클래스 설정할 때 더 효율적으로 사용하는 수단\n",
    "- 딕셔너리 키와 같은 기능\n",
    "- 불변 객체"
   ]
  },
  {
   "cell_type": "markdown",
   "id": "797911d5",
   "metadata": {},
   "source": [
    "### namedtuple\n",
    "- import: from collections import namedtuple"
   ]
  },
  {
   "cell_type": "code",
   "execution_count": 45,
   "id": "2edf82a9",
   "metadata": {},
   "outputs": [],
   "source": [
    "from collections import namedtuple\n",
    "\n",
    "Person = namedtuple('Person', 'name age')\n",
    "a = Person('Kim', 33)\n"
   ]
  },
  {
   "cell_type": "code",
   "execution_count": 46,
   "id": "074f7ddc",
   "metadata": {},
   "outputs": [
    {
     "data": {
      "text/plain": [
       "Person(name='Hwang', age=33)"
      ]
     },
     "execution_count": 46,
     "metadata": {},
     "output_type": "execute_result"
    }
   ],
   "source": [
    "b = a._replace(name = 'Hwang')\n",
    "b"
   ]
  },
  {
   "cell_type": "markdown",
   "id": "2b980a86",
   "metadata": {},
   "source": [
    "### dataclass\n",
    "- import: `from dataclasses import dataclass`\n",
    "- 데코레이터: `@dataclass`"
   ]
  },
  {
   "cell_type": "code",
   "execution_count": 47,
   "id": "42f5be17",
   "metadata": {},
   "outputs": [],
   "source": [
    "from dataclasses import dataclass\n",
    "\n",
    "@dataclass\n",
    "class Person:\n",
    "    name: str\n",
    "    age: int"
   ]
  },
  {
   "cell_type": "code",
   "execution_count": 48,
   "id": "3c4a2d0b",
   "metadata": {},
   "outputs": [],
   "source": [
    "a = Person('Kim', 33)"
   ]
  },
  {
   "cell_type": "code",
   "execution_count": 49,
   "id": "9d9a5d23",
   "metadata": {
    "scrolled": true
   },
   "outputs": [
    {
     "data": {
      "text/plain": [
       "('Kim', 33)"
      ]
     },
     "execution_count": 49,
     "metadata": {},
     "output_type": "execute_result"
    }
   ],
   "source": [
    "a.name, a.age"
   ]
  }
 ],
 "metadata": {
  "kernelspec": {
   "display_name": "Python 3 (ipykernel)",
   "language": "python",
   "name": "python3"
  },
  "language_info": {
   "codemirror_mode": {
    "name": "ipython",
    "version": 3
   },
   "file_extension": ".py",
   "mimetype": "text/x-python",
   "name": "python",
   "nbconvert_exporter": "python",
   "pygments_lexer": "ipython3",
   "version": "3.9.7"
  }
 },
 "nbformat": 4,
 "nbformat_minor": 5
}
