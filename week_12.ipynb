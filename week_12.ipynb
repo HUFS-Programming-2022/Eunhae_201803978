{
 "cells": [
  {
   "cell_type": "markdown",
   "id": "c8acb1df",
   "metadata": {},
   "source": [
    "## 객체와 클래스\n",
    "### * is-a, has-a"
   ]
  },
  {
   "cell_type": "code",
   "execution_count": 2,
   "id": "2b55df5a",
   "metadata": {},
   "outputs": [],
   "source": [
    "class Person:\n",
    "    pass\n",
    "\n",
    "class Customer(Person): # is-a\n",
    "    pass"
   ]
  },
  {
   "cell_type": "code",
   "execution_count": 3,
   "id": "b19ba88c",
   "metadata": {},
   "outputs": [],
   "source": [
    "class Store:\n",
    "    def __init__(customer):\n",
    "        self.customer = customer # has-a # Customer Type #Customer를 가지고 있다. \n",
    "        self.item = item\n",
    "        self.item_list = self.item.name, self.item.price\n",
    "\n",
    "class Item:\n",
    "    name = 'name'\n",
    "    cnt = 'cnt'\n",
    "    price = 'price'"
   ]
  },
  {
   "cell_type": "markdown",
   "id": "c6bc3d32",
   "metadata": {},
   "source": [
    "## 매직 메소드\n",
    "### * special method\n",
    "`__str__`\n",
    "`__repr__`"
   ]
  },
  {
   "cell_type": "code",
   "execution_count": 6,
   "id": "6672f623",
   "metadata": {},
   "outputs": [],
   "source": [
    "class Customer: # object\n",
    "    def __init__(self, name):\n",
    "        self.name = name\n",
    "        \n",
    "c = Customer('Hwang')"
   ]
  },
  {
   "cell_type": "code",
   "execution_count": 8,
   "id": "f1a27f22",
   "metadata": {},
   "outputs": [
    {
     "data": {
      "text/plain": [
       "<__main__.Customer at 0x2bafd0e0130>"
      ]
     },
     "execution_count": 8,
     "metadata": {},
     "output_type": "execute_result"
    }
   ],
   "source": [
    "c #보기 어려운 형태로 출력됨"
   ]
  },
  {
   "cell_type": "markdown",
   "id": "16eb78bd",
   "metadata": {},
   "source": [
    "### * `__str__`, `__repr__`"
   ]
  },
  {
   "cell_type": "code",
   "execution_count": 9,
   "id": "9e0aecf4",
   "metadata": {},
   "outputs": [],
   "source": [
    "class Customer: # object #모든 클래스는 object를 암묵적으로 상속받음\n",
    "    def __init__(self, name):\n",
    "        self.name = name\n",
    "        \n",
    "    def __str__(self):\n",
    "        # print()로 출력값을 변경함\n",
    "        return self.name\n",
    "\n",
    "    def __repr__(self):\n",
    "        # 별도 설정을 하지 않을 시, __str__과 동일\n",
    "        # 인스턴스를 출력하는 방식임 ==>> 사용자가 이해하는 객체의 모습\n",
    "        return f'Customer({self.name})'\n",
    "    \n",
    "c = Customer('kim')"
   ]
  },
  {
   "cell_type": "code",
   "execution_count": 10,
   "id": "ecfaadcd",
   "metadata": {},
   "outputs": [
    {
     "name": "stdout",
     "output_type": "stream",
     "text": [
      "kim\n"
     ]
    }
   ],
   "source": [
    "print(c)"
   ]
  },
  {
   "cell_type": "code",
   "execution_count": 11,
   "id": "71d2eceb",
   "metadata": {},
   "outputs": [
    {
     "data": {
      "text/plain": [
       "Customer(kim)"
      ]
     },
     "execution_count": 11,
     "metadata": {},
     "output_type": "execute_result"
    }
   ],
   "source": [
    "c"
   ]
  },
  {
   "cell_type": "markdown",
   "id": "af81934f",
   "metadata": {},
   "source": [
    "## NamedTuple, DataClass\n",
    "* 객체보다 효율적임 (간단한 속성만 가진 클래스일 경우 활용)\n",
    "* 딕셔너리의 키처럼 사용 가능하다\n",
    "* 불변 객체임\n",
    "* dataclass는 py 3.7 버전 이상 부터 사용함"
   ]
  },
  {
   "cell_type": "markdown",
   "id": "cd9865f9",
   "metadata": {},
   "source": [
    "### * NamedTuple"
   ]
  },
  {
   "cell_type": "code",
   "execution_count": 15,
   "id": "57a5816d",
   "metadata": {},
   "outputs": [
    {
     "data": {
      "text/plain": [
       "'이름은 Hwang, 나이는 20'"
      ]
     },
     "execution_count": 15,
     "metadata": {},
     "output_type": "execute_result"
    }
   ],
   "source": [
    "from collections import namedtuple\n",
    "\n",
    "# 형식 : namedtuple('클래스명', '들어갈 변수명')\n",
    "# 변수는 공백으로 구분 # ex - ('name age')\n",
    "Customer = namedtuple('Customer', 'name age') \n",
    "\n",
    "a = Customer('Hwang', 20)\n",
    "f'이름은 {a.name}, 나이는 {a.age}'"
   ]
  },
  {
   "cell_type": "markdown",
   "id": "3af4dce8",
   "metadata": {},
   "source": [
    "### * DataClass"
   ]
  },
  {
   "cell_type": "code",
   "execution_count": 17,
   "id": "c4195bc3",
   "metadata": {},
   "outputs": [
    {
     "data": {
      "text/plain": [
       "'이름은 kim, 나이는 29'"
      ]
     },
     "execution_count": 17,
     "metadata": {},
     "output_type": "execute_result"
    }
   ],
   "source": [
    "from dataclasses import dataclass\n",
    "#python 3.7 이상에서만 가능\n",
    "\n",
    "@dataclass\n",
    "class Customer2:\n",
    "    name: str\n",
    "    age: int\n",
    "    \n",
    "b = Customer2('kim', 29)\n",
    "f'이름은 {b.name}, 나이는 {b.age}'"
   ]
  },
  {
   "cell_type": "markdown",
   "id": "b4deb518",
   "metadata": {},
   "source": [
    "## 함수 II\n",
    "\n",
    "- 일급객체\n",
    "- 내부함수, 클로저\n",
    "- 익명함수\n",
    "- 제너레이터\n",
    "- 재귀함수"
   ]
  },
  {
   "cell_type": "markdown",
   "id": "6cfe2971",
   "metadata": {},
   "source": [
    "### asterisk : `*`\n",
    "- 여러 개가 들어왔을 때 하나로 묶어주는 역할(패킹)\n",
    "- 무한대로 받기 가능"
   ]
  },
  {
   "cell_type": "code",
   "execution_count": 18,
   "id": "2564fe69",
   "metadata": {
    "scrolled": true
   },
   "outputs": [
    {
     "name": "stdout",
     "output_type": "stream",
     "text": [
      "(1, 2, 3, 4, 5, 6)\n"
     ]
    }
   ],
   "source": [
    "def print_arg(*args): # 인자를 여러개 packing\n",
    "    print(args)       \n",
    "    \n",
    "print_arg(1, 2, 3, 4, 5, 6)"
   ]
  },
  {
   "cell_type": "code",
   "execution_count": 21,
   "id": "594aa3d6",
   "metadata": {},
   "outputs": [
    {
     "name": "stdout",
     "output_type": "stream",
     "text": [
      "1 2 3 4 5 6\n"
     ]
    }
   ],
   "source": [
    "# asterisk in 함수\n",
    "def print_arg(*args):  # 인자를 여러개 packing\n",
    "    print(*args)       # 자료는 unpacking\n",
    "    \n",
    "print_arg(1, 2, 3, 4, 5, 6)"
   ]
  },
  {
   "cell_type": "code",
   "execution_count": 27,
   "id": "427e2ae9",
   "metadata": {},
   "outputs": [
    {
     "name": "stdout",
     "output_type": "stream",
     "text": [
      "0 1 2 3 4 5 6 7 8 9\n"
     ]
    }
   ],
   "source": [
    "# LIST UNPACKING\n",
    "\n",
    "numberList = list(range(10))\n",
    "print(*numberList)"
   ]
  },
  {
   "cell_type": "code",
   "execution_count": 23,
   "id": "67edf31e",
   "metadata": {},
   "outputs": [
    {
     "name": "stdout",
     "output_type": "stream",
     "text": [
      "1 2\n",
      "optional:\n",
      "3 4\n",
      "optional: 5 6 7\n"
     ]
    }
   ],
   "source": [
    "def print_more(num1, num2, *args): # 앞의 두 인수는 필수로\n",
    "    print(num1, num2)\n",
    "    print('optional:', *args)\n",
    "    \n",
    "print_more(1, 2) \n",
    "print_more(3, 4, 5, 6, 7)"
   ]
  },
  {
   "cell_type": "code",
   "execution_count": 24,
   "id": "2a7418d9",
   "metadata": {},
   "outputs": [
    {
     "name": "stdout",
     "output_type": "stream",
     "text": [
      "(1, 3, 5)\n",
      "(2, 4, 6)\n"
     ]
    }
   ],
   "source": [
    "# 행렬, 테이블 데이터\n",
    "\n",
    "matrix = [\n",
    "    [1, 2],\n",
    "    [3, 4],\n",
    "    [5, 6]\n",
    "]\n",
    "\n",
    "# 1, 3, 5 / 2, 4, 6 (열만 타기)\n",
    "for item in zip(*matrix):\n",
    "    print(item)"
   ]
  },
  {
   "cell_type": "code",
   "execution_count": 26,
   "id": "53b92a17",
   "metadata": {},
   "outputs": [
    {
     "name": "stdout",
     "output_type": "stream",
     "text": [
      "(1, 3, 5)\n",
      "(2, 4, 6)\n"
     ]
    }
   ],
   "source": [
    "# zip 함수 # 위와 같은 코드\n",
    "\n",
    "for item in zip([1, 2], [3, 4], [5, 6]):\n",
    "    print(item)"
   ]
  },
  {
   "cell_type": "code",
   "execution_count": 25,
   "id": "62e2e4a5",
   "metadata": {},
   "outputs": [
    {
     "name": "stdout",
     "output_type": "stream",
     "text": [
      "[1, 2] [3, 4] [5, 6]\n"
     ]
    }
   ],
   "source": [
    "# asterisk 결과 살펴보기\n",
    "\n",
    "print(*matrix)"
   ]
  },
  {
   "cell_type": "code",
   "execution_count": 31,
   "id": "0cbf1ebe",
   "metadata": {
    "scrolled": true
   },
   "outputs": [
    {
     "name": "stdout",
     "output_type": "stream",
     "text": [
      "0\n",
      "1\n",
      "2\n",
      "3\n"
     ]
    }
   ],
   "source": [
    "# 키워드 전용 인수 선언 시 사용\n",
    "\n",
    "# start와 end는 꼭 받고 싶은 경우 앞에 *\n",
    "def print_data(data, *, start, end): \n",
    "    for item in data[start:end]:\n",
    "        print(item)\n",
    "        \n",
    "print_data(numberList, start=0, end=4)\n",
    "# print_data(numberList, 0, 1) X"
   ]
  },
  {
   "cell_type": "markdown",
   "id": "4eacc201",
   "metadata": {},
   "source": [
    "## kargs : `**`\n",
    "### * 키워드 전용 인수"
   ]
  },
  {
   "cell_type": "code",
   "execution_count": 32,
   "id": "d0efc18c",
   "metadata": {},
   "outputs": [
    {
     "name": "stdout",
     "output_type": "stream",
     "text": [
      "{'wine': 'crianza', 'drink': 'water'}\n"
     ]
    }
   ],
   "source": [
    "def print_kargs(**kargs): # 키:값 => 딕셔너리로 반환\n",
    "    print(kargs)\n",
    "    # print(**kargs)X > 언패킹 기능이 없음\n",
    "    \n",
    "print_kargs(wine = 'crianza', drink = 'water')"
   ]
  },
  {
   "cell_type": "code",
   "execution_count": 33,
   "id": "1cf32201",
   "metadata": {},
   "outputs": [
    {
     "name": "stdout",
     "output_type": "stream",
     "text": [
      "{'wine': 'cabernet', 'drink': 'water'}\n",
      "{'wine': 'crianza', 'drink': 'water'}\n",
      "{'wine': 'shiraz', 'drink': 'water'}\n"
     ]
    }
   ],
   "source": [
    "# 키가 정해진 경우 사용하면 좋은 방식\n",
    "\n",
    "for wine in ['cabernet', 'crianza', 'shiraz']:\n",
    "    print_kargs(wine = wine, drink = 'water')"
   ]
  },
  {
   "cell_type": "code",
   "execution_count": 35,
   "id": "ea1e1fdc",
   "metadata": {},
   "outputs": [],
   "source": [
    "# 키가 정해지지 않은 경우 오류 발생함. => get()을 이용할 것\n",
    "class ExampleClass:\n",
    "    def __init__(self, **kwargs):\n",
    "        self.val = kwargs['val']\n",
    "        self.val2 = kwargs.get('val2',\"default value\")\n",
    "        \n",
    "E = ExampleClass(val='crianza')"
   ]
  },
  {
   "cell_type": "code",
   "execution_count": 36,
   "id": "7a01b295",
   "metadata": {},
   "outputs": [
    {
     "data": {
      "text/plain": [
       "('crianza', 'default value')"
      ]
     },
     "execution_count": 36,
     "metadata": {},
     "output_type": "execute_result"
    }
   ],
   "source": [
    "E.val, E.val2"
   ]
  },
  {
   "cell_type": "markdown",
   "id": "908e92f4",
   "metadata": {},
   "source": [
    "### * 복합적인 사용"
   ]
  },
  {
   "cell_type": "code",
   "execution_count": 37,
   "id": "fcbe1269",
   "metadata": {},
   "outputs": [
    {
     "name": "stdout",
     "output_type": "stream",
     "text": [
      "1 2\n",
      "18\n",
      "{'num': 7}\n"
     ]
    }
   ],
   "source": [
    "def print_all(num1, num2, *args, **kargs): # *, ** 같이 사용\n",
    "    print(num1, num2)\n",
    "    print(sum(args))\n",
    "    print(kargs)\n",
    "    \n",
    "# print_all(1, 2, 3, 4, 5, 6, num1 = 7, num2 = 8) : 오류발생함\n",
    "\n",
    "print_all(1, 2, 3, 4, 5, 6, num = 7)"
   ]
  },
  {
   "cell_type": "code",
   "execution_count": 39,
   "id": "52fc05b1",
   "metadata": {},
   "outputs": [
    {
     "data": {
      "text/plain": [
       "{1: 'a', 2: 'c', 3: 'd'}"
      ]
     },
     "execution_count": 39,
     "metadata": {},
     "output_type": "execute_result"
    }
   ],
   "source": [
    "# 딕셔너리 조인\n",
    "\n",
    "a = {1:'a', 2:'b'}\n",
    "b = {2:'c', 3:'d'}\n",
    "c = {**a, **b} #key 2의 value가 마지막으로 'c'로 초기화 됨\n",
    "c"
   ]
  }
 ],
 "metadata": {
  "kernelspec": {
   "display_name": "Python 3 (ipykernel)",
   "language": "python",
   "name": "python3"
  },
  "language_info": {
   "codemirror_mode": {
    "name": "ipython",
    "version": 3
   },
   "file_extension": ".py",
   "mimetype": "text/x-python",
   "name": "python",
   "nbconvert_exporter": "python",
   "pygments_lexer": "ipython3",
   "version": "3.9.7"
  }
 },
 "nbformat": 4,
 "nbformat_minor": 5
}
