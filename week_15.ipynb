{
 "cells": [
  {
   "cell_type": "markdown",
   "id": "37336f66",
   "metadata": {},
   "source": [
    "### 파일 디렉터리\n",
    "- 디렉터리 : 폴더의 다른 말. 파일이 논리적으로 묶인 단위 \n",
    "- 파일 : 컴퓨터를 실행하는 기본 단위\n",
    "    - 파일을 기준으로 작업이 이루어짐.\n",
    "    - 파일명 + 확장자\n",
    "    - 확장자 : 파일의 쓰임을 구분하는 글자\n",
    "        - .pdf, .xlsx, .txt, ..\n",
    "    - 종류 : 바이너리 파일, 텍스트 파일\n",
    "        - 바이너리 : 이진 정보로 저장됨\n",
    "            - 내용 확인 못 함.\n",
    "            - 해당 확장자를 열 수 있는 프로그램이 필요함.\n",
    "        - 텍스트 : 사람이 이해할 수 있는 문자열로 저장됨\n",
    "            - 메모장, html, python\n",
    "            - 변경 기준 : 아스키코드, 유니코드\n",
    "            - 인코딩 (encoding) : 변경 기준에 맞춰서 변경 후 저장하는 행위를 뜻함\n",
    "            - utf-8\n",
    "            - cp494"
   ]
  },
  {
   "cell_type": "markdown",
   "id": "7dcfdd69",
   "metadata": {},
   "source": [
    "### 파일 열기\n",
    "- open(파일명, 모드)\n",
    "- 모드\n",
    "    - r : read\n",
    "    - w : write - 파일이 있으면 덮어쓰고, 없으면 생성\n",
    "    - x : 파일이 없을 때만 생성\n",
    "    - a : 있을 때 마지막 라인에 추가(=adding)\n",
    "    \n",
    "    추가 모드\n",
    "    - b : binary\n",
    "    - t : text (default)\n",
    "    \n",
    "    'rb', 'rt'"
   ]
  },
  {
   "cell_type": "code",
   "execution_count": 1,
   "id": "4125246a",
   "metadata": {},
   "outputs": [],
   "source": [
    "# 파일 열기\n",
    "file  = 'test.txt'\n",
    "f = open(file, 'r')"
   ]
  },
  {
   "cell_type": "code",
   "execution_count": 2,
   "id": "3bff20c8",
   "metadata": {},
   "outputs": [
    {
     "data": {
      "text/plain": [
       "<_io.TextIOWrapper name='test.txt' mode='r' encoding='cp949'>"
      ]
     },
     "execution_count": 2,
     "metadata": {},
     "output_type": "execute_result"
    }
   ],
   "source": [
    "f"
   ]
  },
  {
   "cell_type": "markdown",
   "id": "4759759b",
   "metadata": {},
   "source": [
    "### 파일 읽기\n",
    "- read() : 전체를 하나의 str\n",
    "    - 포인터\n",
    "- readline() : 한줄만 str\n",
    "- readlines() : 전체를 list, 각 줄이 한 str"
   ]
  },
  {
   "cell_type": "code",
   "execution_count": 3,
   "id": "023c76a2",
   "metadata": {},
   "outputs": [
    {
     "data": {
      "text/plain": [
       "'Hello'"
      ]
     },
     "execution_count": 3,
     "metadata": {},
     "output_type": "execute_result"
    }
   ],
   "source": [
    "# 파일 읽기\n",
    "f.read(5) #파일을 읽을 때 뭐가 나왔을 때 while-break로 멈추기 할 때 유용\n"
   ]
  },
  {
   "cell_type": "code",
   "execution_count": 4,
   "id": "635c6db3",
   "metadata": {},
   "outputs": [
    {
     "data": {
      "text/plain": [
       "', world?\\n'"
      ]
     },
     "execution_count": 4,
     "metadata": {},
     "output_type": "execute_result"
    }
   ],
   "source": [
    "# 한줄씩만 # 개행을 기준으로\n",
    "f.readline()"
   ]
  },
  {
   "cell_type": "code",
   "execution_count": 5,
   "id": "95f7413c",
   "metadata": {
    "scrolled": true
   },
   "outputs": [
    {
     "data": {
      "text/plain": [
       "[\"I'm reading a book.\"]"
      ]
     },
     "execution_count": 5,
     "metadata": {},
     "output_type": "execute_result"
    }
   ],
   "source": [
    "# 전체 다 읽기\n",
    "f.readlines()"
   ]
  },
  {
   "cell_type": "code",
   "execution_count": 6,
   "id": "66635556",
   "metadata": {},
   "outputs": [],
   "source": [
    "f = open(file, 'r')\n",
    "sents = f.readlines()\n",
    "sents = [s.strip() for s in sents] #텍스트 정제\n",
    "f.close()"
   ]
  },
  {
   "cell_type": "code",
   "execution_count": 7,
   "id": "6cb625dc",
   "metadata": {},
   "outputs": [
    {
     "data": {
      "text/plain": [
       "['Hello, world?', \"I'm reading a book.\"]"
      ]
     },
     "execution_count": 7,
     "metadata": {},
     "output_type": "execute_result"
    }
   ],
   "source": [
    "sents"
   ]
  },
  {
   "cell_type": "markdown",
   "id": "20bae976",
   "metadata": {},
   "source": [
    "#### 파일 닫기\n",
    "- 파일 여는 즉시 닫기\n",
    "- 자원 해제"
   ]
  },
  {
   "cell_type": "code",
   "execution_count": 8,
   "id": "072392b9",
   "metadata": {},
   "outputs": [],
   "source": [
    "with open(file, 'r') as f: # file\n",
    "    # open() 적용되는 블럭\n",
    "    content = f.read()\n",
    "\n",
    "#파일 자동으로 닫힘"
   ]
  },
  {
   "cell_type": "code",
   "execution_count": 9,
   "id": "b414a192",
   "metadata": {},
   "outputs": [
    {
     "data": {
      "text/plain": [
       "\"Hello, world?\\nI'm reading a book.\""
      ]
     },
     "execution_count": 9,
     "metadata": {},
     "output_type": "execute_result"
    }
   ],
   "source": [
    "content"
   ]
  },
  {
   "cell_type": "markdown",
   "id": "89865d47",
   "metadata": {},
   "source": [
    "### read 함수\n",
    "- read : 파일을 읽어서 문자열로 반환한다.\n",
    "- readline : 파일의 한 줄을 읽어서 문자열로 반환한다.\n",
    "- readlines : 파일의 모든 줄을 읽어서 문자열 리스트로 반환한다."
   ]
  },
  {
   "cell_type": "code",
   "execution_count": 10,
   "id": "200e8144",
   "metadata": {},
   "outputs": [
    {
     "data": {
      "text/plain": [
       "['Hello, world?', \"I'm reading a book.\"]"
      ]
     },
     "execution_count": 10,
     "metadata": {},
     "output_type": "execute_result"
    }
   ],
   "source": [
    "with open('test.txt', 'r') as f:\n",
    "    data = f.readlines()\n",
    "    data = [line.strip() for line in data]\n",
    "\n",
    "data"
   ]
  },
  {
   "cell_type": "markdown",
   "id": "81a0d874",
   "metadata": {},
   "source": [
    "### 파일을 열 때 유의점\n",
    "- 같은 위치에 있는 파일을 읽을 때에는 파일의 위치를 지정하지 않아도 된다.\n",
    "- 다른 위치에 있는 파일을 읽을 때에는 파일의 위치를 지정해야 한다.\n",
    "    - ./ : 현재 위치\n",
    "    - ../ : 상위 디렉터리"
   ]
  },
  {
   "cell_type": "markdown",
   "id": "ab8b9b57",
   "metadata": {},
   "source": [
    "### 파일 쓰기"
   ]
  },
  {
   "cell_type": "code",
   "execution_count": 11,
   "id": "3bed10dc",
   "metadata": {},
   "outputs": [],
   "source": [
    "file = 'test2'\n",
    "\n",
    "f = open(file, 'w', encoding='utf-8')"
   ]
  },
  {
   "cell_type": "code",
   "execution_count": 12,
   "id": "46cc5644",
   "metadata": {},
   "outputs": [],
   "source": [
    "for i in range(10):\n",
    "    data = f'{i}번째 줄입니다. \\n'\n",
    "    f.write(data)\n",
    "\n",
    "f.close()"
   ]
  },
  {
   "cell_type": "code",
   "execution_count": 13,
   "id": "4c225bb8",
   "metadata": {},
   "outputs": [],
   "source": [
    "# print 함수를 이용한 쓰기\n",
    "f = open(file, 'a')\n",
    "print('새로운 줄 추가', file = f)\n",
    "\n",
    "f.close()"
   ]
  },
  {
   "cell_type": "markdown",
   "id": "9ff62620",
   "metadata": {},
   "source": [
    "### 다른 디렉터리에 파일 쓰기\n",
    "- os 활용"
   ]
  },
  {
   "cell_type": "code",
   "execution_count": 14,
   "id": "27bc9111",
   "metadata": {},
   "outputs": [],
   "source": [
    "import os"
   ]
  },
  {
   "cell_type": "code",
   "execution_count": 15,
   "id": "f1e4052d",
   "metadata": {},
   "outputs": [
    {
     "ename": "FileExistsError",
     "evalue": "[WinError 183] 파일이 이미 있으므로 만들 수 없습니다: 'folder1'",
     "output_type": "error",
     "traceback": [
      "\u001b[1;31m---------------------------------------------------------------------------\u001b[0m",
      "\u001b[1;31mFileExistsError\u001b[0m                           Traceback (most recent call last)",
      "\u001b[1;32m~\\AppData\\Local\\Temp/ipykernel_24976/3789313202.py\u001b[0m in \u001b[0;36m<module>\u001b[1;34m\u001b[0m\n\u001b[0;32m      1\u001b[0m \u001b[1;31m# 폴더 만들기\u001b[0m\u001b[1;33m\u001b[0m\u001b[1;33m\u001b[0m\u001b[0m\n\u001b[1;32m----> 2\u001b[1;33m \u001b[0mos\u001b[0m\u001b[1;33m.\u001b[0m\u001b[0mmkdir\u001b[0m\u001b[1;33m(\u001b[0m\u001b[1;34m'folder1'\u001b[0m\u001b[1;33m)\u001b[0m\u001b[1;33m\u001b[0m\u001b[1;33m\u001b[0m\u001b[0m\n\u001b[0m",
      "\u001b[1;31mFileExistsError\u001b[0m: [WinError 183] 파일이 이미 있으므로 만들 수 없습니다: 'folder1'"
     ]
    }
   ],
   "source": [
    "# 폴더 만들기\n",
    "os.mkdir('folder1')"
   ]
  },
  {
   "cell_type": "code",
   "execution_count": 16,
   "id": "0767a3b7",
   "metadata": {},
   "outputs": [
    {
     "ename": "FileNotFoundError",
     "evalue": "[Errno 2] No such file or directory: '.folder1/test3.txt'",
     "output_type": "error",
     "traceback": [
      "\u001b[1;31m---------------------------------------------------------------------------\u001b[0m",
      "\u001b[1;31mFileNotFoundError\u001b[0m                         Traceback (most recent call last)",
      "\u001b[1;32m~\\AppData\\Local\\Temp/ipykernel_24976/2401436537.py\u001b[0m in \u001b[0;36m<module>\u001b[1;34m\u001b[0m\n\u001b[0;32m      1\u001b[0m \u001b[0mfile\u001b[0m \u001b[1;33m=\u001b[0m \u001b[1;34m'.folder1/test3.txt'\u001b[0m\u001b[1;33m\u001b[0m\u001b[1;33m\u001b[0m\u001b[0m\n\u001b[1;32m----> 2\u001b[1;33m \u001b[0mf\u001b[0m \u001b[1;33m=\u001b[0m \u001b[0mopen\u001b[0m\u001b[1;33m(\u001b[0m\u001b[0mfile\u001b[0m\u001b[1;33m,\u001b[0m \u001b[1;34m'w'\u001b[0m\u001b[1;33m,\u001b[0m \u001b[0mencoding\u001b[0m\u001b[1;33m=\u001b[0m\u001b[1;34m'utf-8'\u001b[0m\u001b[1;33m)\u001b[0m\u001b[1;33m\u001b[0m\u001b[1;33m\u001b[0m\u001b[0m\n\u001b[0m",
      "\u001b[1;31mFileNotFoundError\u001b[0m: [Errno 2] No such file or directory: '.folder1/test3.txt'"
     ]
    }
   ],
   "source": [
    "file = '.folder1/test3.txt'\n",
    "f = open(file, 'w', encoding='utf-8')"
   ]
  },
  {
   "cell_type": "code",
   "execution_count": 17,
   "id": "3e079bad",
   "metadata": {},
   "outputs": [],
   "source": [
    "#파일 쓰기\n",
    "file = './folder1/test3.txt'\n",
    "f = open(file, 'w', encoding='utf-8')\n",
    "f.close()"
   ]
  },
  {
   "cell_type": "code",
   "execution_count": 18,
   "id": "28f1988a",
   "metadata": {},
   "outputs": [],
   "source": [
    "# 폴더가 없을 때에만 만들게 하는법\n",
    "if not os.path.isdir('folder1'):\n",
    "    os.mkdir('folder1')"
   ]
  },
  {
   "cell_type": "code",
   "execution_count": 19,
   "id": "91a4b640",
   "metadata": {},
   "outputs": [
    {
     "data": {
      "text/plain": [
       "True"
      ]
     },
     "execution_count": 19,
     "metadata": {},
     "output_type": "execute_result"
    }
   ],
   "source": [
    "os.path.exists(file) # like assert..."
   ]
  },
  {
   "cell_type": "markdown",
   "id": "fb81a535",
   "metadata": {},
   "source": [
    "###  파일, 폴더 지우기\n",
    "- os.remove(file_name)\n",
    "- os.rmdir(dir_name)\n",
    "\n",
    "### 이래도 안된다 => 강제삭제!\n",
    "- import shutil\n",
    "- shutil.rmtree('folder1')\n",
    "\n",
    "### 상위폴더에 쓰고싶다\n",
    "- os.getcwd()\n",
    "- os.chdir('..')\n",
    "\n",
    "### 실습\n",
    "폴더 새로 만들고\n",
    "파일 쓰고 (내용은 아무거나)\n",
    "열기"
   ]
  },
  {
   "cell_type": "code",
   "execution_count": 20,
   "id": "89cbc401",
   "metadata": {},
   "outputs": [
    {
     "ename": "UnicodeDecodeError",
     "evalue": "'cp949' codec can't decode byte 0xed in position 6: illegal multibyte sequence",
     "output_type": "error",
     "traceback": [
      "\u001b[1;31m---------------------------------------------------------------------------\u001b[0m",
      "\u001b[1;31mUnicodeDecodeError\u001b[0m                        Traceback (most recent call last)",
      "\u001b[1;32m~\\AppData\\Local\\Temp/ipykernel_24976/813710107.py\u001b[0m in \u001b[0;36m<module>\u001b[1;34m\u001b[0m\n\u001b[0;32m     12\u001b[0m \u001b[1;31m# 파일 읽기\u001b[0m\u001b[1;33m\u001b[0m\u001b[1;33m\u001b[0m\u001b[0m\n\u001b[0;32m     13\u001b[0m \u001b[1;32mwith\u001b[0m \u001b[0mopen\u001b[0m\u001b[1;33m(\u001b[0m\u001b[1;34m'folder2/test4.txt'\u001b[0m\u001b[1;33m,\u001b[0m \u001b[1;34m'r'\u001b[0m\u001b[1;33m)\u001b[0m \u001b[1;32mas\u001b[0m \u001b[0mf\u001b[0m\u001b[1;33m:\u001b[0m\u001b[1;33m\u001b[0m\u001b[1;33m\u001b[0m\u001b[0m\n\u001b[1;32m---> 14\u001b[1;33m     \u001b[0mdata\u001b[0m \u001b[1;33m=\u001b[0m \u001b[0mf\u001b[0m\u001b[1;33m.\u001b[0m\u001b[0mreadlines\u001b[0m\u001b[1;33m(\u001b[0m\u001b[1;33m)\u001b[0m\u001b[1;33m\u001b[0m\u001b[1;33m\u001b[0m\u001b[0m\n\u001b[0m\u001b[0;32m     15\u001b[0m     \u001b[0mdata\u001b[0m \u001b[1;33m=\u001b[0m \u001b[1;33m[\u001b[0m\u001b[0mline\u001b[0m\u001b[1;33m.\u001b[0m\u001b[0mstrip\u001b[0m\u001b[1;33m(\u001b[0m\u001b[1;33m)\u001b[0m \u001b[1;32mfor\u001b[0m \u001b[0mline\u001b[0m \u001b[1;32min\u001b[0m \u001b[0mdata\u001b[0m\u001b[1;33m]\u001b[0m\u001b[1;33m\u001b[0m\u001b[1;33m\u001b[0m\u001b[0m\n\u001b[0;32m     16\u001b[0m \u001b[1;33m\u001b[0m\u001b[0m\n",
      "\u001b[1;31mUnicodeDecodeError\u001b[0m: 'cp949' codec can't decode byte 0xed in position 6: illegal multibyte sequence"
     ]
    }
   ],
   "source": [
    "# 폴더 생성\n",
    "if not os.path.isdir('folder2'):\n",
    "    os.mkdir('folder2')\n",
    "\n",
    "# 파일 작성\n",
    "file = './folder2/test4.txt'\n",
    "f = open(file, 'w', encoding= 'utf-8')\n",
    "print('고급파이썬프로그래밍', file = f)\n",
    "\n",
    "f.close()\n",
    "\n",
    "# 파일 읽기\n",
    "with open('folder2/test4.txt', 'r') as f:\n",
    "    data = f.readlines()\n",
    "    data = [line.strip() for line in data]\n",
    "\n",
    "data"
   ]
  },
  {
   "cell_type": "markdown",
   "id": "a05645b8",
   "metadata": {},
   "source": [
    "### pickle\n",
    "- 객체를 파일에 저장하고 불러오는 기능\n",
    "- 저장: pickle.dump(변수, 파일명)\n",
    "- 불러오기: 변수명 = pickle.load(파일명)"
   ]
  },
  {
   "cell_type": "code",
   "execution_count": 21,
   "id": "c471b4c2",
   "metadata": {},
   "outputs": [],
   "source": [
    "num = list(range(10))\n",
    "\n",
    "import pickle\n",
    "\n",
    "f = open('test.pickle', 'wb')\n",
    "pickle.dump(num, f)\n",
    "f.close\n",
    "\n",
    "with open('test.pickle', 'rb') as f:\n",
    "    number = pickle.load(f)"
   ]
  }
 ],
 "metadata": {
  "kernelspec": {
   "display_name": "Python 3 (ipykernel)",
   "language": "python",
   "name": "python3"
  },
  "language_info": {
   "codemirror_mode": {
    "name": "ipython",
    "version": 3
   },
   "file_extension": ".py",
   "mimetype": "text/x-python",
   "name": "python",
   "nbconvert_exporter": "python",
   "pygments_lexer": "ipython3",
   "version": "3.9.7"
  }
 },
 "nbformat": 4,
 "nbformat_minor": 5
}
